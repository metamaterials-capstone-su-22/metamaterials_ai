{
 "cells": [
  {
   "cell_type": "code",
   "execution_count": 5,
   "metadata": {},
   "outputs": [
    {
     "name": "stdout",
     "output_type": "stream",
     "text": [
      "/home/spencersong/metamaterials_ai/src\n"
     ]
    }
   ],
   "source": [
    "try:\n",
    "    if is_init:\n",
    "        pass\n",
    "except:\n",
    "    %pwd\n",
    "    %cd ..\n",
    "    %pwd\n",
    "    is_init = True"
   ]
  },
  {
   "cell_type": "code",
   "execution_count": 7,
   "metadata": {},
   "outputs": [],
   "source": [
    "from pathlib import Path\n",
    "from src.utils import FileUtils\n",
    "import torch\n",
    "import numpy as np\n",
    "work_folder = '../local_work'"
   ]
  },
  {
   "cell_type": "markdown",
   "metadata": {},
   "source": [
    "# Inverse Model Only\n"
   ]
  },
  {
   "cell_type": "code",
   "execution_count": 8,
   "metadata": {},
   "outputs": [],
   "source": [
    "from src.models import InverseModel\n"
   ]
  },
  {
   "cell_type": "code",
   "execution_count": 9,
   "metadata": {},
   "outputs": [
    {
     "name": "stdout",
     "output_type": "stream",
     "text": [
      "../local_work/saved_best/best_I-cnn-inconel-2022-07-05_04-49.ckpt\n"
     ]
    },
    {
     "ename": "Exception",
     "evalue": "Model file does not exist at ../local_work/saved_best/best_I-cnn-inconel-2022-07-05_04-49.ckpt!",
     "output_type": "error",
     "traceback": [
      "\u001b[0;31m---------------------------------------------------------------------------\u001b[0m",
      "\u001b[0;31mException\u001b[0m                                 Traceback (most recent call last)",
      "\u001b[1;32m/home/spencersong/metamaterials_ai/src/notebooks/predictor.ipynb Cell 5'\u001b[0m in \u001b[0;36m<cell line: 4>\u001b[0;34m()\u001b[0m\n\u001b[1;32m      <a href='vscode-notebook-cell://ssh-remote%2B128.3.29.45/home/spencersong/metamaterials_ai/src/notebooks/predictor.ipynb#ch0000004vscode-remote?line=2'>3</a>\u001b[0m \u001b[39mprint\u001b[39m(filepath)\n\u001b[1;32m      <a href='vscode-notebook-cell://ssh-remote%2B128.3.29.45/home/spencersong/metamaterials_ai/src/notebooks/predictor.ipynb#ch0000004vscode-remote?line=3'>4</a>\u001b[0m \u001b[39mif\u001b[39;00m \u001b[39mnot\u001b[39;00m Path\u001b[39m.\u001b[39mis_file(filepath):\n\u001b[0;32m----> <a href='vscode-notebook-cell://ssh-remote%2B128.3.29.45/home/spencersong/metamaterials_ai/src/notebooks/predictor.ipynb#ch0000004vscode-remote?line=4'>5</a>\u001b[0m     \u001b[39mraise\u001b[39;00m \u001b[39mException\u001b[39;00m(\u001b[39mf\u001b[39m\u001b[39m'\u001b[39m\u001b[39mModel file does not exist at \u001b[39m\u001b[39m{\u001b[39;00mfilepath\u001b[39m}\u001b[39;00m\u001b[39m!\u001b[39m\u001b[39m'\u001b[39m)\n",
      "\u001b[0;31mException\u001b[0m: Model file does not exist at ../local_work/saved_best/best_I-cnn-inconel-2022-07-05_04-49.ckpt!"
     ]
    }
   ],
   "source": [
    "filepath = Path(\n",
    "    f\"{work_folder}/saved_best/best_I-cnn-inconel-2022-07-05_04-49.ckpt\")\n",
    "print(filepath)\n",
    "if not Path.is_file(filepath):\n",
    "    raise Exception(f'Model file does not exist at {filepath}!')"
   ]
  },
  {
   "cell_type": "code",
   "execution_count": null,
   "metadata": {},
   "outputs": [
    {
     "ename": "NameError",
     "evalue": "name 'InverseModel' is not defined",
     "output_type": "error",
     "traceback": [
      "\u001b[0;31m---------------------------------------------------------------------------\u001b[0m",
      "\u001b[0;31mNameError\u001b[0m                                 Traceback (most recent call last)",
      "\u001b[1;32m/home/spencersong/metamaterials_ai/src/notebooks/predictor.ipynb Cell 6'\u001b[0m in \u001b[0;36m<cell line: 1>\u001b[0;34m()\u001b[0m\n\u001b[0;32m----> <a href='vscode-notebook-cell://ssh-remote%2B128.3.29.45/home/spencersong/metamaterials_ai/src/notebooks/predictor.ipynb#ch0000005vscode-remote?line=0'>1</a>\u001b[0m model \u001b[39m=\u001b[39m InverseModel\u001b[39m.\u001b[39mload_from_checkpoint(filepath, strict\u001b[39m=\u001b[39m\u001b[39mFalse\u001b[39;00m)\n\u001b[1;32m      <a href='vscode-notebook-cell://ssh-remote%2B128.3.29.45/home/spencersong/metamaterials_ai/src/notebooks/predictor.ipynb#ch0000005vscode-remote?line=1'>2</a>\u001b[0m model\u001b[39m.\u001b[39meval()\n\u001b[1;32m      <a href='vscode-notebook-cell://ssh-remote%2B128.3.29.45/home/spencersong/metamaterials_ai/src/notebooks/predictor.ipynb#ch0000005vscode-remote?line=2'>3</a>\u001b[0m x \u001b[39m=\u001b[39m torch\u001b[39m.\u001b[39mrandn(\u001b[39m1\u001b[39m, \u001b[39m800\u001b[39m)\n",
      "\u001b[0;31mNameError\u001b[0m: name 'InverseModel' is not defined"
     ]
    }
   ],
   "source": [
    "model = InverseModel.load_from_checkpoint(filepath, strict=False)\n",
    "model.eval()\n",
    "x = torch.randn(1, 800)\n",
    "\n",
    "with torch.no_grad():\n",
    "    y_hat = model(x)\n",
    "y_hat.shape"
   ]
  },
  {
   "cell_type": "code",
   "execution_count": 6,
   "metadata": {},
   "outputs": [
    {
     "data": {
      "text/plain": [
       "tensor([[1.2071e-19, 1.0000e+00, 0.0000e+00, 0.0000e+00, 0.0000e+00, 0.0000e+00,\n",
       "         0.0000e+00, 1.0000e+00, 0.0000e+00, 0.0000e+00, 0.0000e+00, 0.0000e+00,\n",
       "         0.0000e+00, 0.0000e+00]])"
      ]
     },
     "execution_count": 6,
     "metadata": {},
     "output_type": "execute_result"
    }
   ],
   "source": [
    "def onehot_to_continuous(y):\n",
    "    \"\"\"input: 1,14 tensor\n",
    "        output: 1,3 tensor with wattage no longer one hot encoded\"\"\"\n",
    "    wattage_mapping = {2:0.2, \n",
    "        3:0.3, \n",
    "        4:0.4, \n",
    "        5:0.5,\n",
    "        6:0.6,\n",
    "        7:0.7,\n",
    "        8:0.8,\n",
    "        9:0.9, \n",
    "        10:1.0,\n",
    "        11:1.1,\n",
    "        12:1.2,\n",
    "        13:1.3}\n",
    "    y_final = []        \n",
    "    for i, x in enumerate(X[0].numpy()):\n",
    "        if i < 2:\n",
    "            y_final.append(x)\n",
    "        elif x > 0:\n",
    "            y_final.append(wattage_mapping[i])\n",
    "    print(y_final)\n",
    "    return torch.tensor([y_final])"
   ]
  },
  {
   "cell_type": "code",
   "execution_count": 31,
   "metadata": {},
   "outputs": [
    {
     "ename": "NameError",
     "evalue": "name 'y_pred' is not defined",
     "output_type": "error",
     "traceback": [
      "\u001b[0;31m---------------------------------------------------------------------------\u001b[0m",
      "\u001b[0;31mNameError\u001b[0m                                 Traceback (most recent call last)",
      "\u001b[1;32m/home/spencersong/metamaterials_ai/src/notebooks/predictor.ipynb Cell 8'\u001b[0m in \u001b[0;36m<cell line: 1>\u001b[0;34m()\u001b[0m\n\u001b[0;32m----> <a href='vscode-notebook-cell://ssh-remote%2B128.3.29.45/home/spencersong/metamaterials_ai/src/notebooks/predictor.ipynb#ch0000007vscode-remote?line=0'>1</a>\u001b[0m y_final \u001b[39m=\u001b[39m onehot_to_continuous(y_pred)\n\u001b[1;32m      <a href='vscode-notebook-cell://ssh-remote%2B128.3.29.45/home/spencersong/metamaterials_ai/src/notebooks/predictor.ipynb#ch0000007vscode-remote?line=1'>2</a>\u001b[0m \u001b[39mprint\u001b[39m(y_final)\n",
      "\u001b[0;31mNameError\u001b[0m: name 'y_pred' is not defined"
     ]
    }
   ],
   "source": [
    "y_final = onehot_to_continuous(y_pred)\n",
    "print(y_final)"
   ]
  },
  {
   "cell_type": "markdown",
   "metadata": {},
   "source": [
    "# Direct Model Only\n"
   ]
  },
  {
   "cell_type": "code",
   "execution_count": null,
   "metadata": {},
   "outputs": [],
   "source": [
    "from src.models import DirectModel"
   ]
  },
  {
   "cell_type": "code",
   "execution_count": 7,
   "metadata": {},
   "outputs": [
    {
     "name": "stdout",
     "output_type": "stream",
     "text": [
      "../local_work/saved_best/best_D-ann-inconel-2022-07-05_03-18.ckpt\n"
     ]
    },
    {
     "data": {
      "text/plain": [
       "True"
      ]
     },
     "execution_count": 7,
     "metadata": {},
     "output_type": "execute_result"
    }
   ],
   "source": [
    "\n",
    "filepath = Path(\n",
    "    f\"{work_folder}/saved_best/best_D-ann-inconel-2022-07-05_03-18.ckpt\")\n",
    "print(filepath)\n",
    "if not Path.is_file(filepath):\n",
    "    raise Exception(f'Model file does not exist at {filepath}!')"
   ]
  },
  {
   "cell_type": "code",
   "execution_count": 14,
   "metadata": {},
   "outputs": [
    {
     "data": {
      "text/plain": [
       "torch.Size([1, 800])"
      ]
     },
     "execution_count": 14,
     "metadata": {},
     "output_type": "execute_result"
    }
   ],
   "source": [
    "model = DirectModel.load_from_checkpoint(filepath)\n",
    "model.eval()\n",
    "x = torch.randn(1, 14)\n",
    "\n",
    "with torch.no_grad():\n",
    "    y_hat = model(x)\n",
    "y_hat.shape"
   ]
  },
  {
   "cell_type": "code",
   "execution_count": 15,
   "metadata": {},
   "outputs": [
    {
     "data": {
      "text/plain": [
       "tensor([[0.5556, 0.9483, 0.8164, 0.5199, 0.7802, 0.4234, 0.8867, 0.9692, 0.7765,\n",
       "         0.7551, 0.3559, 0.3682, 0.6281, 0.9255, 0.7400, 0.2847, 0.9616, 0.2981,\n",
       "         0.6662, 0.2929, 0.1613, 0.8156, 0.9023, 0.5920, 0.1766, 0.8213, 0.8959,\n",
       "         0.2003, 0.2744, 0.7062, 0.6993, 0.9275, 0.4178, 0.6698, 0.2431, 0.8783,\n",
       "         0.4057, 0.4617, 0.7705, 0.5700, 0.1994, 0.6253, 0.1732, 0.4431, 0.4617,\n",
       "         0.8171, 0.7662, 0.7267, 0.9437, 0.3973, 0.6419, 0.3017, 0.4343, 0.6678,\n",
       "         0.9686, 0.7296, 0.0581, 0.2488, 0.9154, 0.9107, 0.8439, 0.5804, 0.7759,\n",
       "         0.2785, 0.2751, 0.4261, 0.4269, 0.6049, 0.3683, 0.5322, 0.7401, 0.3794,\n",
       "         0.9331, 0.2789, 0.1044, 0.5726, 0.5577, 0.5616, 0.5103, 0.9339, 0.6968,\n",
       "         0.2087, 0.6943, 0.9106, 0.9030, 0.3277, 0.8633, 0.7172, 0.9327, 0.5936,\n",
       "         0.7289, 0.5332, 0.1724, 0.4497, 0.7973, 0.3668, 0.6962, 0.4431, 0.9512,\n",
       "         0.1720, 0.1370, 0.7162, 0.4429, 0.8660, 0.0546, 0.1704, 0.5412, 0.7474,\n",
       "         0.6430, 0.7949, 0.8443, 0.5311, 0.2937, 0.5833, 0.9591, 0.7038, 0.4390,\n",
       "         0.8044, 0.2255, 0.5956, 0.8233, 0.7425, 0.8053, 0.7625, 0.8556, 0.0243,\n",
       "         0.2606, 0.9477, 0.6105, 0.2174, 0.4911, 0.7219, 0.8138, 0.6262, 0.4542,\n",
       "         0.6535, 0.7223, 0.2952, 0.0504, 0.6451, 0.9259, 0.9413, 0.0868, 0.4009,\n",
       "         0.8504, 0.8790, 0.7227, 0.9030, 0.4355, 0.9385, 0.9190, 0.1909, 0.8261,\n",
       "         0.3274, 0.4999, 0.6943, 0.8061, 0.0478, 0.1209, 0.9385, 0.4111, 0.3175,\n",
       "         0.6369, 0.1025, 0.7187, 0.5015, 0.1011, 0.0390, 0.4294, 0.6515, 0.0648,\n",
       "         0.8589, 0.4432, 0.4763, 0.1699, 0.2216, 0.6843, 0.4208, 0.9026, 0.9396,\n",
       "         0.9050, 0.5804, 0.6953, 0.8499, 0.3072, 0.9133, 0.0120, 0.7208, 0.1945,\n",
       "         0.7718, 0.5841, 0.9159, 0.0268, 0.2918, 0.7751, 0.7612, 0.6792, 0.1637,\n",
       "         0.7537, 0.0706, 0.7620, 0.4429, 0.3695, 0.6626, 0.4180, 0.1087, 0.8706,\n",
       "         0.2405, 0.4340, 0.8182, 0.5576, 0.5801, 0.4888, 0.6600, 0.9728, 0.5653,\n",
       "         0.7151, 0.8576, 0.2002, 0.2073, 0.9080, 0.0830, 0.0962, 0.0528, 0.3225,\n",
       "         0.7292, 0.7664, 0.0756, 0.2013, 0.6700, 0.3287, 0.3224, 0.7913, 0.1379,\n",
       "         0.4146, 0.0102, 0.8880, 0.1329, 0.5697, 0.8183, 0.2747, 0.3151, 0.1965,\n",
       "         0.6433, 0.1006, 0.6392, 0.9694, 0.1210, 0.3963, 0.9659, 0.8880, 0.8145,\n",
       "         0.8663, 0.4886, 0.4983, 0.2695, 0.5226, 0.1096, 0.1918, 0.8496, 0.6316,\n",
       "         0.7652, 0.0949, 0.1217, 0.8639, 0.7733, 0.6946, 0.2105, 0.6047, 0.4477,\n",
       "         0.8064, 0.7724, 0.3290, 0.4929, 0.0636, 0.6732, 0.4358, 0.7902, 0.0299,\n",
       "         0.8495, 0.9717, 0.4194, 0.5175, 0.7199, 0.2919, 0.6057, 0.0853, 0.9240,\n",
       "         0.8223, 0.5480, 0.1168, 0.3097, 0.4318, 0.7402, 0.7452, 0.3491, 0.4480,\n",
       "         0.5624, 0.8893, 0.7210, 0.0795, 0.0328, 0.6767, 0.7755, 0.4104, 0.4059,\n",
       "         0.8165, 0.1440, 0.5779, 0.3460, 0.8612, 0.7751, 0.5262, 0.1088, 0.4755,\n",
       "         0.7298, 0.9481, 0.5559, 0.2732, 0.7483, 0.5389, 0.1276, 0.2207, 0.4365,\n",
       "         0.4263, 0.7578, 0.1865, 0.4856, 0.3678, 0.9310, 0.4976, 0.8770, 0.2637,\n",
       "         0.6490, 0.0050, 0.6067, 0.8358, 0.2271, 0.7362, 0.0183, 0.6176, 0.2138,\n",
       "         0.2055, 0.0262, 0.4630, 0.2584, 0.3458, 0.4468, 0.3731, 0.9035, 0.7263,\n",
       "         0.5183, 0.5525, 0.5021, 0.3699, 0.7288, 0.2630, 0.6611, 0.0887, 0.6400,\n",
       "         0.7813, 0.2961, 0.1367, 0.6428, 0.4499, 0.8838, 0.3742, 0.3867, 0.5898,\n",
       "         0.4129, 0.8315, 0.3734, 0.2168, 0.8838, 0.7920, 0.2762, 0.2461, 0.4161,\n",
       "         0.4000, 0.5712, 0.5672, 0.5177, 0.8900, 0.0941, 0.9527, 0.1383, 0.3369,\n",
       "         0.2596, 0.7461, 0.4455, 0.1023, 0.5595, 0.2096, 0.2817, 0.5032, 0.2956,\n",
       "         0.9216, 0.1696, 0.8557, 0.1637, 0.4948, 0.2738, 0.1010, 0.7732, 0.9561,\n",
       "         0.6567, 0.3799, 0.3373, 0.9441, 0.7990, 0.7754, 0.2086, 0.7169, 0.5080,\n",
       "         0.1055, 0.1903, 0.0863, 0.9156, 0.7460, 0.3050, 0.6054, 0.3108, 0.6310,\n",
       "         0.6446, 0.3358, 0.2219, 0.3263, 0.0308, 0.2048, 0.3952, 0.0327, 0.7057,\n",
       "         0.6466, 0.1530, 0.1536, 0.7906, 0.5428, 0.3939, 0.2786, 0.9383, 0.7737,\n",
       "         0.0711, 0.2751, 0.1373, 0.1040, 0.2505, 0.0337, 0.4174, 0.2163, 0.5789,\n",
       "         0.0928, 0.5113, 0.6223, 0.2823, 0.2740, 0.9089, 0.1277, 0.1696, 0.9262,\n",
       "         0.1046, 0.5745, 0.0875, 0.9366, 0.1530, 0.4908, 0.2719, 0.5058, 0.3098,\n",
       "         0.2732, 0.3905, 0.3231, 0.2309, 0.6469, 0.2932, 0.0105, 0.1222, 0.1767,\n",
       "         0.6956, 0.4700, 0.3187, 0.3047, 0.1515, 0.8594, 0.3397, 0.0880, 0.3444,\n",
       "         0.7558, 0.0704, 0.4322, 0.4705, 0.8656, 0.0656, 0.5306, 0.9113, 0.8049,\n",
       "         0.1552, 0.5047, 0.1957, 0.4278, 0.1021, 0.7403, 0.6266, 0.6880, 0.1040,\n",
       "         0.6463, 0.3848, 0.2525, 0.5031, 0.7579, 0.1603, 0.7679, 0.4019, 0.7901,\n",
       "         0.6084, 0.2296, 0.2080, 0.8574, 0.1180, 0.6572, 0.2861, 0.8445, 0.5424,\n",
       "         0.4854, 0.1124, 0.5314, 0.2135, 0.3709, 0.8800, 0.8620, 0.0250, 0.7777,\n",
       "         0.2693, 0.8483, 0.8585, 0.5118, 0.0594, 0.3813, 0.4158, 0.6079, 0.0663,\n",
       "         0.6375, 0.5417, 0.1713, 0.2388, 0.4149, 0.0517, 0.0573, 0.7622, 0.1131,\n",
       "         0.5780, 0.7197, 0.1581, 0.1557, 0.7152, 0.1466, 0.7459, 0.5994, 0.6001,\n",
       "         0.1882, 0.5200, 0.2366, 0.1741, 0.2746, 0.8443, 0.8716, 0.0425, 0.3719,\n",
       "         0.8505, 0.8500, 0.2652, 0.0141, 0.6917, 0.3227, 0.1652, 0.7060, 0.0555,\n",
       "         0.4676, 0.8740, 0.1001, 0.9183, 0.4366, 0.6013, 0.6024, 0.2599, 0.8363,\n",
       "         0.6668, 0.1007, 0.3731, 0.2433, 0.5537, 0.8662, 0.4418, 0.0169, 0.6738,\n",
       "         0.9037, 0.4851, 0.7871, 0.0422, 0.0656, 0.6342, 0.3374, 0.7478, 0.4331,\n",
       "         0.1737, 0.1569, 0.6440, 0.4035, 0.7842, 0.8589, 0.4732, 0.7113, 0.9294,\n",
       "         0.0875, 0.7263, 0.7191, 0.6430, 0.8424, 0.8560, 0.3339, 0.6580, 0.7864,\n",
       "         0.2247, 0.2943, 0.2255, 0.0726, 0.3847, 0.1397, 0.2907, 0.6016, 0.3728,\n",
       "         0.0187, 0.8438, 0.0606, 0.3987, 0.4806, 0.4392, 0.7440, 0.0320, 0.3577,\n",
       "         0.2740, 0.2298, 0.3193, 0.4289, 0.7004, 0.2310, 0.4645, 0.4529, 0.1597,\n",
       "         0.4308, 0.4729, 0.0924, 0.2760, 0.6904, 0.1720, 0.4321, 0.3798, 0.7467,\n",
       "         0.1849, 0.5206, 0.4838, 0.3235, 0.5506, 0.0762, 0.3688, 0.7676, 0.6096,\n",
       "         0.1529, 0.1793, 0.0365, 0.4217, 0.9197, 0.2322, 0.2514, 0.8300, 0.4538,\n",
       "         0.6835, 0.3773, 0.0838, 0.3693, 0.2117, 0.1223, 0.5313, 0.3951, 0.0143,\n",
       "         0.4512, 0.3743, 0.3031, 0.0629, 0.2030, 0.2936, 0.5630, 0.0978, 0.4392,\n",
       "         0.3051, 0.0644, 0.6674, 0.6701, 0.6837, 0.1858, 0.3951, 0.5709, 0.8596,\n",
       "         0.3214, 0.7083, 0.9464, 0.3463, 0.6906, 0.2288, 0.1196, 0.6584, 0.6483,\n",
       "         0.1740, 0.5448, 0.2003, 0.2094, 0.2858, 0.3080, 0.2869, 0.4951, 0.1360,\n",
       "         0.2759, 0.5450, 0.1231, 0.0725, 0.5603, 0.8215, 0.2936, 0.2383, 0.5270,\n",
       "         0.5702, 0.0690, 0.1920, 0.5208, 0.2817, 0.3625, 0.3366, 0.4430, 0.8780,\n",
       "         0.0974, 0.4524, 0.0476, 0.8448, 0.1530, 0.7140, 0.9324, 0.0514, 0.5644,\n",
       "         0.2971, 0.3854, 0.7737, 0.5560, 0.2445, 0.9298, 0.3337, 0.0613, 0.4057,\n",
       "         0.3311, 0.0420, 0.3870, 0.0722, 0.8664, 0.2422, 0.7013, 0.2435, 0.1784,\n",
       "         0.9086, 0.6194, 0.4805, 0.2128, 0.8508, 0.4654, 0.1834, 0.5420, 0.4338,\n",
       "         0.6860, 0.4171, 0.6154, 0.5978, 0.8730, 0.6175, 0.6453, 0.3225, 0.3441,\n",
       "         0.4941, 0.6631, 0.3626, 0.7638, 0.0532, 0.3056, 0.4488, 0.1296, 0.3509,\n",
       "         0.7088, 0.9139, 0.0734, 0.0416, 0.6353, 0.2093, 0.6891, 0.2381]])"
      ]
     },
     "execution_count": 15,
     "metadata": {},
     "output_type": "execute_result"
    }
   ],
   "source": [
    "y_hat"
   ]
  },
  {
   "cell_type": "markdown",
   "metadata": {},
   "source": [
    "# ONNX"
   ]
  },
  {
   "cell_type": "code",
   "execution_count": 8,
   "metadata": {},
   "outputs": [],
   "source": [
    "# import onnxruntime \n",
    "# from pathlib import Path\n",
    "# import numpy as np\n",
    "# import os"
   ]
  },
  {
   "cell_type": "code",
   "execution_count": 12,
   "metadata": {},
   "outputs": [
    {
     "ename": "TypeError",
     "evalue": "Unable to load from type '<class 'pathlib.PosixPath'>'",
     "output_type": "error",
     "traceback": [
      "\u001b[0;31m---------------------------------------------------------------------------\u001b[0m",
      "\u001b[0;31mTypeError\u001b[0m                                 Traceback (most recent call last)",
      "\u001b[1;32m/data-new/pmotameni/repos/metamaterials_ai/src/local_work/predictor.ipynb Cell 5'\u001b[0m in \u001b[0;36m<cell line: 1>\u001b[0;34m()\u001b[0m\n\u001b[0;32m----> <a href='vscode-notebook-cell://ssh-remote%2B128.3.29.45/data-new/pmotameni/repos/metamaterials_ai/src/local_work/predictor.ipynb#ch0000005vscode-remote?line=0'>1</a>\u001b[0m ort_session \u001b[39m=\u001b[39m onnxruntime\u001b[39m.\u001b[39;49mInferenceSession(filepath)\n",
      "File \u001b[0;32m~/anaconda3/envs/onnx/lib/python3.9/site-packages/onnxruntime/capi/onnxruntime_inference_collection.py:324\u001b[0m, in \u001b[0;36mInferenceSession.__init__\u001b[0;34m(self, path_or_bytes, sess_options, providers, provider_options, **kwargs)\u001b[0m\n\u001b[1;32m    322\u001b[0m     \u001b[39mself\u001b[39m\u001b[39m.\u001b[39m_model_bytes \u001b[39m=\u001b[39m path_or_bytes  \u001b[39m# TODO: This is bad as we're holding the memory indefinitely\u001b[39;00m\n\u001b[1;32m    323\u001b[0m \u001b[39melse\u001b[39;00m:\n\u001b[0;32m--> 324\u001b[0m     \u001b[39mraise\u001b[39;00m \u001b[39mTypeError\u001b[39;00m(\u001b[39m\"\u001b[39m\u001b[39mUnable to load from type \u001b[39m\u001b[39m'\u001b[39m\u001b[39m{0}\u001b[39;00m\u001b[39m'\u001b[39m\u001b[39m\"\u001b[39m\u001b[39m.\u001b[39mformat(\u001b[39mtype\u001b[39m(path_or_bytes)))\n\u001b[1;32m    326\u001b[0m \u001b[39mself\u001b[39m\u001b[39m.\u001b[39m_sess_options \u001b[39m=\u001b[39m sess_options\n\u001b[1;32m    327\u001b[0m \u001b[39mself\u001b[39m\u001b[39m.\u001b[39m_sess_options_initial \u001b[39m=\u001b[39m sess_options\n",
      "\u001b[0;31mTypeError\u001b[0m: Unable to load from type '<class 'pathlib.PosixPath'>'"
     ]
    }
   ],
   "source": [
    "ort_session = onnxruntime.InferenceSession(filepath)"
   ]
  },
  {
   "cell_type": "code",
   "execution_count": 5,
   "metadata": {},
   "outputs": [
    {
     "ename": "TypeError",
     "evalue": "Unable to load from type '<class 'pathlib.PosixPath'>'",
     "output_type": "error",
     "traceback": [
      "\u001b[0;31m---------------------------------------------------------------------------\u001b[0m",
      "\u001b[0;31mTypeError\u001b[0m                                 Traceback (most recent call last)",
      "\u001b[1;32m/data-new/pmotameni/repos/metamaterials_ai/src/local_work/predictor.ipynb Cell 4'\u001b[0m in \u001b[0;36m<cell line: 3>\u001b[0;34m()\u001b[0m\n\u001b[1;32m      <a href='vscode-notebook-cell://ssh-remote%2B128.3.29.45/data-new/pmotameni/repos/metamaterials_ai/src/local_work/predictor.ipynb#ch0000003vscode-remote?line=0'>1</a>\u001b[0m filepath \u001b[39m=\u001b[39m Path(\u001b[39mf\u001b[39m\u001b[39m\"\u001b[39m\u001b[39m{\u001b[39;00mwork_folder\u001b[39m}\u001b[39;00m\u001b[39m/saved_best/best_inference_direct.onnx\u001b[39m\u001b[39m\"\u001b[39m)\n\u001b[0;32m----> <a href='vscode-notebook-cell://ssh-remote%2B128.3.29.45/data-new/pmotameni/repos/metamaterials_ai/src/local_work/predictor.ipynb#ch0000003vscode-remote?line=2'>3</a>\u001b[0m ort_session \u001b[39m=\u001b[39m onnxruntime\u001b[39m.\u001b[39;49mInferenceSession(filepath)\n\u001b[1;32m      <a href='vscode-notebook-cell://ssh-remote%2B128.3.29.45/data-new/pmotameni/repos/metamaterials_ai/src/local_work/predictor.ipynb#ch0000003vscode-remote?line=3'>4</a>\u001b[0m input_name \u001b[39m=\u001b[39m ort_session\u001b[39m.\u001b[39mget_inputs()[\u001b[39m0\u001b[39m]\u001b[39m.\u001b[39mname\n\u001b[1;32m      <a href='vscode-notebook-cell://ssh-remote%2B128.3.29.45/data-new/pmotameni/repos/metamaterials_ai/src/local_work/predictor.ipynb#ch0000003vscode-remote?line=4'>5</a>\u001b[0m ort_inputs \u001b[39m=\u001b[39m {input_name: np\u001b[39m.\u001b[39mrandom\u001b[39m.\u001b[39mrandn(\u001b[39m2\u001b[39m, \u001b[39m14\u001b[39m)}\n",
      "File \u001b[0;32m~/anaconda3/envs/onnx/lib/python3.9/site-packages/onnxruntime/capi/onnxruntime_inference_collection.py:324\u001b[0m, in \u001b[0;36mInferenceSession.__init__\u001b[0;34m(self, path_or_bytes, sess_options, providers, provider_options, **kwargs)\u001b[0m\n\u001b[1;32m    322\u001b[0m     \u001b[39mself\u001b[39m\u001b[39m.\u001b[39m_model_bytes \u001b[39m=\u001b[39m path_or_bytes  \u001b[39m# TODO: This is bad as we're holding the memory indefinitely\u001b[39;00m\n\u001b[1;32m    323\u001b[0m \u001b[39melse\u001b[39;00m:\n\u001b[0;32m--> 324\u001b[0m     \u001b[39mraise\u001b[39;00m \u001b[39mTypeError\u001b[39;00m(\u001b[39m\"\u001b[39m\u001b[39mUnable to load from type \u001b[39m\u001b[39m'\u001b[39m\u001b[39m{0}\u001b[39;00m\u001b[39m'\u001b[39m\u001b[39m\"\u001b[39m\u001b[39m.\u001b[39mformat(\u001b[39mtype\u001b[39m(path_or_bytes)))\n\u001b[1;32m    326\u001b[0m \u001b[39mself\u001b[39m\u001b[39m.\u001b[39m_sess_options \u001b[39m=\u001b[39m sess_options\n\u001b[1;32m    327\u001b[0m \u001b[39mself\u001b[39m\u001b[39m.\u001b[39m_sess_options_initial \u001b[39m=\u001b[39m sess_options\n",
      "\u001b[0;31mTypeError\u001b[0m: Unable to load from type '<class 'pathlib.PosixPath'>'"
     ]
    }
   ],
   "source": [
    "# filepath = Path(f\"{work_folder}/saved_best/best_inference_direct.onnx\")\n",
    "\n",
    "# ort_session = onnxruntime.InferenceSession(filepath)\n",
    "# input_name = ort_session.get_inputs()[0].name\n",
    "# ort_inputs = {input_name: np.random.randn(2, 14)}\n",
    "# ort_outs = ort_session.run(None, ort_inputs)\n"
   ]
  }
 ],
 "metadata": {
  "interpreter": {
   "hash": "67e7f89d5252d36c0a7a22a0bddaf9ce6b4bb105a5aa258c373ad72ae6e9c8c8"
  },
  "kernelspec": {
   "display_name": "Python 3.10.4 ('meta')",
   "language": "python",
   "name": "python3"
  },
  "language_info": {
   "codemirror_mode": {
    "name": "ipython",
    "version": 3
   },
   "file_extension": ".py",
   "mimetype": "text/x-python",
   "name": "python",
   "nbconvert_exporter": "python",
   "pygments_lexer": "ipython3",
   "version": "3.10.4"
  },
  "orig_nbformat": 4,
  "vscode": {
   "interpreter": {
    "hash": "8002f67306fdf03846a85192394013d7a0803f94603193c08381e3348b7b52be"
   }
  }
 },
 "nbformat": 4,
 "nbformat_minor": 2
}
