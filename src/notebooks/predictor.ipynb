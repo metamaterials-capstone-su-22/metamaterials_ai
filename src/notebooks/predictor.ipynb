{
 "cells": [
  {
   "cell_type": "code",
   "execution_count": 60,
   "metadata": {},
   "outputs": [],
   "source": [
    "try:\n",
    "    if is_init:\n",
    "        pass\n",
    "except:\n",
    "    %pwd\n",
    "    %cd ..\n",
    "    %pwd\n",
    "    is_init = True"
   ]
  },
  {
   "cell_type": "code",
   "execution_count": 61,
   "metadata": {},
   "outputs": [],
   "source": [
    "from pathlib import Path\n",
    "from src.utils import FileUtils\n",
    "from config import Config\n",
    "import torch\n",
    "import numpy as np\n",
    "import random\n",
    "import itertools\n",
    "data_folder = '../local_data'\n",
    "work_folder = '../local_work'"
   ]
  },
  {
   "cell_type": "markdown",
   "metadata": {},
   "source": [
    "### Unexplored Params"
   ]
  },
  {
   "cell_type": "code",
   "execution_count": 62,
   "metadata": {},
   "outputs": [],
   "source": [
    "params = torch.load(\n",
    "                Path(f\"{data_folder}/stainless-steel-revised-shuffled.pt\"))[\"laser_params\"] #stainless-steel-revised-shuffled inconel-revised-raw-shuffled\n",
    "max_speed, max_spacing = params.max(0)[0][0].item(), params.max(0)[0][1].item()\n",
    "min_speed, min_spacing = params.min(0)[0][0].item(), params.min(0)[0][1].item()"
   ]
  },
  {
   "cell_type": "code",
   "execution_count": 82,
   "metadata": {},
   "outputs": [],
   "source": [
    "def denormalize_decode_result(y_hat, max_speed, max_spacing, min_speed, min_spacing):\n",
    "    \"\"\"input: 1,14 tensor\n",
    "        output: 1,3 tensor with wattage no longer one hot encoded\"\"\"\n",
    "    watts = [0.2, 0.3, 0.4, 0.5, 0.6, 0.7, 0.8, 0.9, 1.0, 1.1, 1.2, 1.3]\n",
    "\n",
    "    watt_arg = torch.argmax(y_hat[0][2:])\n",
    "    y_final = torch.empty(3, dtype=torch.float32)\n",
    "    y_final[0] = max_speed * y_hat[0][0] # TODO call the scale\n",
    "    y_final[1] = max_spacing * y_hat[0][1] # TODO call the scale\n",
    "    y_final[2]= watts[watt_arg]\n",
    "    return y_final"
   ]
  },
  {
   "cell_type": "code",
   "execution_count": 65,
   "metadata": {},
   "outputs": [],
   "source": [
    "#identify explored param space\n",
    "\n",
    "def get_unexplored_params(params, max_speed, max_spacing, min_speed, min_spacing, n = 196, seed = 1):\n",
    "        \"\"\"\n",
    "        finds unexplored parameters\n",
    "        inputs: tensor of [[], [], []], each size (1,14)\n",
    "        outputs: list of n unnormalized tuples each of size (1,3)\"\"\"\n",
    "        param_space = [np.arange(min_speed, max_speed + 10, 10).tolist(), np.arange(min_spacing, max_spacing + 1, 1).tolist(), np.around(np.arange(.2, 1.4, .1), decimals = 1).tolist()]\n",
    "        #get set of all possible parameter combinations\n",
    "        param_all_comb = set(list(itertools.product(*param_space)))#[list(tup) for tup in itertools.product(*param_space)]\n",
    "        wattages = [0.2, 0.3, 0.4, 0.5, 0.6, 0.7, 0.8, 0.9, 1.0, 1.1, 1.2, 1.3]\n",
    "        #get set of all training parameter combinations\n",
    "        train_param_space = set([tuple(x[:2] + [wattages[np.argmax(x[2:])]]) for x in params.tolist()]) #29988\n",
    "        #find the combination parameters NOT in the training space\n",
    "        unused_params = list(param_all_comb.symmetric_difference(train_param_space)) #len() = 5292\n",
    "        random.seed = seed\n",
    "        indices = random.sample(range(len(unused_params)), n)\n",
    "        return [unused_params[i] for i in indices]\n",
    "\n",
    "def unexplored_params_to_tensors(x):\n",
    "        new_x = []\n",
    "        wattage_idxs = {\n",
    "                0.2: 0,\n",
    "                0.3: 1,\n",
    "                0.4: 2,\n",
    "                0.5: 3,\n",
    "                0.6: 4,\n",
    "                0.7: 5,\n",
    "                0.8: 6,\n",
    "                0.9: 7,\n",
    "                1.0: 8,\n",
    "                1.1: 9,\n",
    "                1.2: 10,\n",
    "                1.3: 11,\n",
    "        }      \n",
    "        for i in x:\n",
    "                i = list(i)\n",
    "                holder = i[:2] + np.zeros(12).tolist()\n",
    "                holder[wattage_idxs[i[2]] + 2] = 1.0\n",
    "                new_x.append(holder)\n",
    "\n",
    "        laser_params = torch.FloatTensor(new_x)\n",
    "        return laser_params / laser_params.max(0).values\n",
    "\n",
    "#[torch.cat((x[:2], torch.tensor(np.array([wattages[np.argmax(x[2:])]])))) for x in params]#[:5]\n",
    "#[x[:2] for x in params]#[:5]\n",
    "\n",
    "# train_param_space = denormalize_decode_result(params, max_speed, max_spacing, min_speed, min_spacing)\n",
    "# train_param_space\n"
   ]
  },
  {
   "cell_type": "code",
   "execution_count": 66,
   "metadata": {},
   "outputs": [],
   "source": [
    "ouput_unexplored = get_unexplored_params(params, max_speed, max_spacing, min_speed, min_spacing, n = 196, seed = 1)\n",
    "norm_unexplored_laser_params = unexplored_params_to_tensors(ouput_unexplored)"
   ]
  },
  {
   "cell_type": "markdown",
   "metadata": {},
   "source": [
    "# Inverse Model Only\n"
   ]
  },
  {
   "cell_type": "code",
   "execution_count": 67,
   "metadata": {},
   "outputs": [],
   "source": [
    "from src.models import InverseModel"
   ]
  },
  {
   "cell_type": "code",
   "execution_count": 79,
   "metadata": {},
   "outputs": [
    {
     "name": "stdout",
     "output_type": "stream",
     "text": [
      "../local_work/saved_best/best_I-ann-inconel-2022-07-07_02-38.ckpt\n"
     ]
    }
   ],
   "source": [
    "filepath = Path(\n",
    "    f\"{work_folder}/saved_best/best_I-ann-inconel-2022-07-07_02-38.ckpt\") #CHANGEME inconel vs stainless best model\n",
    "print(filepath)\n",
    "if not Path.is_file(filepath):\n",
    "    raise Exception(f'Model file does not exist at {filepath}!')"
   ]
  },
  {
   "cell_type": "code",
   "execution_count": 81,
   "metadata": {},
   "outputs": [
    {
     "name": "stderr",
     "output_type": "stream",
     "text": [
      "/home/spencersong/anaconda3/envs/meta/lib/python3.10/site-packages/pytorch_lightning/core/saving.py:217: UserWarning: Found keys that are not in the model state dict but in the checkpoint: ['direct_model.model.0.weight', 'direct_model.model.0.bias', 'direct_model.model.2.layers.0.block.0.weight', 'direct_model.model.2.layers.0.block.0.bias', 'direct_model.model.2.layers.1.block.0.weight', 'direct_model.model.2.layers.1.block.0.bias', 'direct_model.model.2.layers.2.block.0.weight', 'direct_model.model.2.layers.2.block.0.bias', 'direct_model.model.2.layers.3.block.0.weight', 'direct_model.model.2.layers.3.block.0.bias', 'direct_model.model.2.layers.4.block.0.weight', 'direct_model.model.2.layers.4.block.0.bias', 'direct_model.model.2.layers.5.block.0.weight', 'direct_model.model.2.layers.5.block.0.bias', 'direct_model.model.2.layers.6.block.0.weight', 'direct_model.model.2.layers.6.block.0.bias', 'direct_model.model.2.layers.7.block.0.weight', 'direct_model.model.2.layers.7.block.0.bias', 'direct_model.model.2.layers.8.block.0.weight', 'direct_model.model.2.layers.8.block.0.bias', 'direct_model.model.2.layers.9.block.0.weight', 'direct_model.model.2.layers.9.block.0.bias', 'direct_model.model.2.layers.10.block.0.weight', 'direct_model.model.2.layers.10.block.0.bias', 'direct_model.model.2.layers.11.block.0.weight', 'direct_model.model.2.layers.11.block.0.bias', 'direct_model.model.2.layers.12.block.0.weight', 'direct_model.model.2.layers.12.block.0.bias', 'direct_model.model.2.layers.13.block.0.weight', 'direct_model.model.2.layers.13.block.0.bias', 'direct_model.model.2.layers.14.block.0.weight', 'direct_model.model.2.layers.14.block.0.bias', 'direct_model.model.2.layers.15.block.0.weight', 'direct_model.model.2.layers.15.block.0.bias', 'direct_model.model.3.weight', 'direct_model.model.3.bias']\n",
      "  rank_zero_warn(\n"
     ]
    },
    {
     "data": {
      "text/plain": [
       "torch.Size([1, 14])"
      ]
     },
     "execution_count": 81,
     "metadata": {},
     "output_type": "execute_result"
    }
   ],
   "source": [
    "i_model = InverseModel.load_from_checkpoint(filepath, strict=False)\n",
    "i_model.eval()\n",
    "\n",
    "x = torch.from_numpy(np.array(torch.randn(1, 800) * 3)) #\n",
    "with torch.no_grad():\n",
    "    y_hat = i_model(x)\n",
    "y_hat.shape"
   ]
  },
  {
   "cell_type": "code",
   "execution_count": 39,
   "metadata": {},
   "outputs": [
    {
     "name": "stdout",
     "output_type": "stream",
     "text": [
      "tensor([203.2477,  11.1895,   0.3000])\n"
     ]
    }
   ],
   "source": [
    "# y_final2 = onehot_to_continuous2(y_hat)\n",
    "print(denormalize_decode_result(y_hat,max_speed, max_spacing, min_speed, min_spacing))\n",
    "\n",
    "#if you want hardcoded max, min values instead\n",
    "#print(denormalize_decode_result(y_hat,700.0, 42.0, 10.0, 1.0))"
   ]
  },
  {
   "cell_type": "markdown",
   "metadata": {},
   "source": [
    "# Direct Model Only\n"
   ]
  },
  {
   "cell_type": "code",
   "execution_count": 75,
   "metadata": {},
   "outputs": [],
   "source": [
    "from src.models import DirectModel"
   ]
  },
  {
   "cell_type": "code",
   "execution_count": 76,
   "metadata": {},
   "outputs": [
    {
     "name": "stdout",
     "output_type": "stream",
     "text": [
      "../local_work/saved_best/best_D-ann-stainless-2022-07-07_03-08.ckpt\n"
     ]
    }
   ],
   "source": [
    "filepath = Path(\n",
    "    f\"{work_folder}/saved_best/best_D-ann-stainless-2022-07-07_03-08.ckpt\")\n",
    "print(filepath)\n",
    "if not Path.is_file(filepath):\n",
    "    raise Exception(f'Model file does not exist at {filepath}!')"
   ]
  },
  {
   "cell_type": "code",
   "execution_count": 77,
   "metadata": {},
   "outputs": [],
   "source": [
    "d_model = DirectModel.load_from_checkpoint(filepath)\n",
    "d_model.eval()\n",
    "# x = torch.randn(1, 14)\n",
    "direct_y_hats = []\n",
    "for i in norm_unexplored_laser_params:\n",
    "    with torch.no_grad():\n",
    "        direct_y_hats.append(d_model(i.reshape(1,14)))"
   ]
  },
  {
   "cell_type": "code",
   "execution_count": 71,
   "metadata": {},
   "outputs": [
    {
     "data": {
      "text/plain": [
       "torch.Size([1, 800])"
      ]
     },
     "execution_count": 71,
     "metadata": {},
     "output_type": "execute_result"
    }
   ],
   "source": [
    "direct_y_hats[0].shape"
   ]
  },
  {
   "cell_type": "markdown",
   "metadata": {},
   "source": [
    "### Unexplored Direct --> Indirect"
   ]
  },
  {
   "cell_type": "code",
   "execution_count": 56,
   "metadata": {},
   "outputs": [
    {
     "data": {
      "text/plain": [
       "torch.Size([1, 800])"
      ]
     },
     "execution_count": 56,
     "metadata": {},
     "output_type": "execute_result"
    }
   ],
   "source": [
    "x = torch.from_numpy(np.array(torch.randn(1, 800) * 3)) \n",
    "x.shape"
   ]
  },
  {
   "cell_type": "code",
   "execution_count": 58,
   "metadata": {},
   "outputs": [
    {
     "data": {
      "text/plain": [
       "torch.Size([1, 800])"
      ]
     },
     "execution_count": 58,
     "metadata": {},
     "output_type": "execute_result"
    }
   ],
   "source": [
    "direct_y_hats[0].shape"
   ]
  },
  {
   "cell_type": "code",
   "execution_count": 83,
   "metadata": {},
   "outputs": [],
   "source": [
    "model = InverseModel.load_from_checkpoint(filepath, strict=False)\n",
    "model.eval()\n",
    "\n",
    "x = torch.from_numpy(np.array(torch.randn(1, 800) * 3)) #\n",
    "param_preds = []\n",
    "for i in direct_y_hats:\n",
    "    with torch.no_grad():\n",
    "        param_preds.append(model(i))#model(i))\n"
   ]
  },
  {
   "cell_type": "code",
   "execution_count": 99,
   "metadata": {},
   "outputs": [
    {
     "data": {
      "text/plain": [
       "196"
      ]
     },
     "execution_count": 99,
     "metadata": {},
     "output_type": "execute_result"
    }
   ],
   "source": []
  },
  {
   "cell_type": "code",
   "execution_count": 106,
   "metadata": {},
   "outputs": [
    {
     "data": {
      "text/plain": [
       "[tensor([250.0000, 250.0000,   1.2000]),\n",
       " tensor([250., 250.,   1.]),\n",
       " tensor([40.0000, 40.0000,  0.7000]),\n",
       " tensor([420.0000, 420.0000,   0.9000]),\n",
       " tensor([230.0000, 230.0000,   1.2000]),\n",
       " tensor([300.0000, 300.0000,   1.2000]),\n",
       " tensor([130.0000, 130.0000,   1.1000]),\n",
       " tensor([140.0000, 140.0000,   1.1000]),\n",
       " tensor([110.0000, 110.0000,   1.1000]),\n",
       " tensor([170.0000, 170.0000,   1.1000]),\n",
       " tensor([260., 260.,   1.]),\n",
       " tensor([160.0000, 160.0000,   1.1000]),\n",
       " tensor([210.0000, 210.0000,   1.1000]),\n",
       " tensor([320., 320.,   1.]),\n",
       " tensor([110.0000, 110.0000,   1.1000]),\n",
       " tensor([160.0000, 160.0000,   1.1000]),\n",
       " tensor([170., 170.,   1.]),\n",
       " tensor([310.0000, 310.0000,   1.2000]),\n",
       " tensor([250.0000, 250.0000,   1.2000]),\n",
       " tensor([80.0000, 80.0000,  1.1000]),\n",
       " tensor([110.0000, 110.0000,   1.1000]),\n",
       " tensor([90.0000, 90.0000,  0.7000]),\n",
       " tensor([90.0000, 90.0000,  1.1000]),\n",
       " tensor([100.0000, 100.0000,   1.1000]),\n",
       " tensor([160., 160.,   1.]),\n",
       " tensor([130.0000, 130.0000,   1.1000]),\n",
       " tensor([100.0000, 100.0000,   1.1000]),\n",
       " tensor([200.0000, 200.0000,   1.1000]),\n",
       " tensor([80.0000, 80.0000,  0.7000]),\n",
       " tensor([120.0000, 120.0000,   1.1000]),\n",
       " tensor([240., 240.,   1.]),\n",
       " tensor([250., 250.,   1.]),\n",
       " tensor([120.0000, 120.0000,   1.1000]),\n",
       " tensor([270., 270.,   1.]),\n",
       " tensor([40.0000, 40.0000,  0.7000]),\n",
       " tensor([90.0000, 90.0000,  1.1000]),\n",
       " tensor([150., 150.,   1.]),\n",
       " tensor([110.0000, 110.0000,   1.1000]),\n",
       " tensor([90.0000, 90.0000,  1.1000]),\n",
       " tensor([430.0000, 430.0000,   1.2000]),\n",
       " tensor([100.0000, 100.0000,   0.7000]),\n",
       " tensor([230., 230.,   1.]),\n",
       " tensor([210.0000, 210.0000,   1.2000]),\n",
       " tensor([660.0000, 660.0000,   1.2000]),\n",
       " tensor([150.0000, 150.0000,   1.1000]),\n",
       " tensor([540.0000, 540.0000,   1.2000]),\n",
       " tensor([370.0000, 370.0000,   1.2000]),\n",
       " tensor([80.0000, 80.0000,  1.1000]),\n",
       " tensor([100.0000, 100.0000,   1.1000]),\n",
       " tensor([340.0000, 340.0000,   1.2000]),\n",
       " tensor([90.0000, 90.0000,  1.1000]),\n",
       " tensor([130.0000, 130.0000,   1.1000]),\n",
       " tensor([150.0000, 150.0000,   1.1000]),\n",
       " tensor([210., 210.,   1.]),\n",
       " tensor([120.0000, 120.0000,   1.1000]),\n",
       " tensor([290.0000, 290.0000,   1.2000]),\n",
       " tensor([520.0000, 520.0000,   1.2000]),\n",
       " tensor([100.0000, 100.0000,   1.1000]),\n",
       " tensor([70.0000, 70.0000,  0.7000]),\n",
       " tensor([140., 140.,   1.]),\n",
       " tensor([100.0000, 100.0000,   1.1000]),\n",
       " tensor([80.0000, 80.0000,  1.1000]),\n",
       " tensor([280., 280.,   1.]),\n",
       " tensor([440.0000, 440.0000,   1.2000]),\n",
       " tensor([250.0000, 250.0000,   1.2000]),\n",
       " tensor([200.0000, 200.0000,   1.1000]),\n",
       " tensor([130.0000, 130.0000,   1.1000]),\n",
       " tensor([110.0000, 110.0000,   1.1000]),\n",
       " tensor([70.0000, 70.0000,  1.1000]),\n",
       " tensor([170.0000, 170.0000,   1.2000]),\n",
       " tensor([190.0000, 190.0000,   1.2000]),\n",
       " tensor([250.0000, 250.0000,   1.2000]),\n",
       " tensor([230.0000, 230.0000,   1.2000]),\n",
       " tensor([220.0000, 220.0000,   1.2000]),\n",
       " tensor([140.0000, 140.0000,   1.1000]),\n",
       " tensor([80.0000, 80.0000,  1.1000]),\n",
       " tensor([340.0000, 340.0000,   1.2000]),\n",
       " tensor([170., 170.,   1.]),\n",
       " tensor([50.0000, 50.0000,  0.7000]),\n",
       " tensor([140.0000, 140.0000,   1.1000]),\n",
       " tensor([90.0000, 90.0000,  1.1000]),\n",
       " tensor([90.0000, 90.0000,  1.1000]),\n",
       " tensor([130.0000, 130.0000,   1.1000]),\n",
       " tensor([80.0000, 80.0000,  1.1000]),\n",
       " tensor([90.0000, 90.0000,  1.1000]),\n",
       " tensor([350., 350.,   1.]),\n",
       " tensor([40.0000, 40.0000,  0.9000]),\n",
       " tensor([100.0000, 100.0000,   1.1000]),\n",
       " tensor([60.0000, 60.0000,  1.1000]),\n",
       " tensor([110.0000, 110.0000,   1.1000]),\n",
       " tensor([100.0000, 100.0000,   1.1000]),\n",
       " tensor([230., 230.,   1.]),\n",
       " tensor([370.0000, 370.0000,   1.2000]),\n",
       " tensor([420.0000, 420.0000,   1.2000]),\n",
       " tensor([490.0000, 490.0000,   1.2000]),\n",
       " tensor([130.0000, 130.0000,   1.1000]),\n",
       " tensor([110.0000, 110.0000,   0.7000]),\n",
       " tensor([320.0000, 320.0000,   1.2000]),\n",
       " tensor([510.0000, 510.0000,   1.2000]),\n",
       " tensor([110.0000, 110.0000,   1.1000]),\n",
       " tensor([270.0000, 270.0000,   1.2000]),\n",
       " tensor([70.0000, 70.0000,  1.1000]),\n",
       " tensor([120.0000, 120.0000,   1.1000]),\n",
       " tensor([130.0000, 130.0000,   1.1000]),\n",
       " tensor([90.0000, 90.0000,  1.1000]),\n",
       " tensor([80.0000, 80.0000,  1.1000]),\n",
       " tensor([160.0000, 160.0000,   1.1000]),\n",
       " tensor([60.0000, 60.0000,  1.1000]),\n",
       " tensor([310., 310.,   1.]),\n",
       " tensor([160.0000, 160.0000,   1.1000]),\n",
       " tensor([110.0000, 110.0000,   1.1000]),\n",
       " tensor([180., 180.,   1.]),\n",
       " tensor([270.0000, 270.0000,   1.2000]),\n",
       " tensor([140.0000, 140.0000,   1.1000]),\n",
       " tensor([220.0000, 220.0000,   1.1000]),\n",
       " tensor([250., 250.,   1.]),\n",
       " tensor([160.0000, 160.0000,   1.1000]),\n",
       " tensor([110.0000, 110.0000,   1.1000]),\n",
       " tensor([260.0000, 260.0000,   1.2000]),\n",
       " tensor([310.0000, 310.0000,   1.2000]),\n",
       " tensor([180.0000, 180.0000,   1.1000]),\n",
       " tensor([90.0000, 90.0000,  1.1000]),\n",
       " tensor([90.0000, 90.0000,  0.7000]),\n",
       " tensor([200.0000, 200.0000,   1.1000]),\n",
       " tensor([90.0000, 90.0000,  1.1000]),\n",
       " tensor([180.0000, 180.0000,   1.1000]),\n",
       " tensor([110.0000, 110.0000,   1.1000]),\n",
       " tensor([70.0000, 70.0000,  1.1000]),\n",
       " tensor([70.0000, 70.0000,  0.7000]),\n",
       " tensor([130.0000, 130.0000,   1.1000]),\n",
       " tensor([280.0000, 280.0000,   1.2000]),\n",
       " tensor([420.0000, 420.0000,   1.2000]),\n",
       " tensor([390.0000, 390.0000,   1.2000]),\n",
       " tensor([570.0000, 570.0000,   1.2000]),\n",
       " tensor([90.0000, 90.0000,  1.1000]),\n",
       " tensor([320.0000, 320.0000,   1.2000]),\n",
       " tensor([80.0000, 80.0000,  1.1000]),\n",
       " tensor([150.0000, 150.0000,   1.1000]),\n",
       " tensor([130.0000, 130.0000,   1.1000]),\n",
       " tensor([90.0000, 90.0000,  1.1000]),\n",
       " tensor([150., 150.,   1.]),\n",
       " tensor([580.0000, 580.0000,   1.2000]),\n",
       " tensor([220.0000, 220.0000,   1.1000]),\n",
       " tensor([90.0000, 90.0000,  1.1000]),\n",
       " tensor([200.0000, 200.0000,   1.2000]),\n",
       " tensor([210., 210.,   1.]),\n",
       " tensor([160.0000, 160.0000,   1.1000]),\n",
       " tensor([140.0000, 140.0000,   1.1000]),\n",
       " tensor([640.0000, 640.0000,   1.2000]),\n",
       " tensor([80.0000, 80.0000,  1.1000]),\n",
       " tensor([220.0000, 220.0000,   1.2000]),\n",
       " tensor([410.0000, 410.0000,   1.2000]),\n",
       " tensor([220.0000, 220.0000,   1.1000]),\n",
       " tensor([80.0000, 80.0000,  0.7000]),\n",
       " tensor([110.0000, 110.0000,   1.1000]),\n",
       " tensor([120.0000, 120.0000,   1.1000]),\n",
       " tensor([80.0000, 80.0000,  1.1000]),\n",
       " tensor([100.0000, 100.0000,   1.1000]),\n",
       " tensor([60.0000, 60.0000,  1.1000]),\n",
       " tensor([120.0000, 120.0000,   1.1000]),\n",
       " tensor([170.0000, 170.0000,   1.2000]),\n",
       " tensor([50.0000, 50.0000,  1.1000]),\n",
       " tensor([100.0000, 100.0000,   1.1000]),\n",
       " tensor([230.0000, 230.0000,   1.2000]),\n",
       " tensor([650.0000, 650.0000,   1.2000]),\n",
       " tensor([130.0000, 130.0000,   0.7000]),\n",
       " tensor([60.0000, 60.0000,  1.1000]),\n",
       " tensor([80.0000, 80.0000,  1.1000]),\n",
       " tensor([90.0000, 90.0000,  1.1000]),\n",
       " tensor([100.0000, 100.0000,   1.1000]),\n",
       " tensor([310.0000, 310.0000,   1.2000]),\n",
       " tensor([130., 130.,   1.]),\n",
       " tensor([350.0000, 350.0000,   1.2000]),\n",
       " tensor([100.0000, 100.0000,   1.1000]),\n",
       " tensor([180., 180.,   1.]),\n",
       " tensor([550.0000, 550.0000,   1.2000]),\n",
       " tensor([120.0000, 120.0000,   1.1000]),\n",
       " tensor([290.0000, 290.0000,   1.2000]),\n",
       " tensor([140.0000, 140.0000,   1.1000]),\n",
       " tensor([90.0000, 90.0000,  1.1000]),\n",
       " tensor([90.0000, 90.0000,  1.1000]),\n",
       " tensor([230.0000, 230.0000,   1.1000]),\n",
       " tensor([20.0000, 20.0000,  0.7000]),\n",
       " tensor([110.0000, 110.0000,   1.1000]),\n",
       " tensor([70.0000, 70.0000,  0.7000]),\n",
       " tensor([190., 190.,   1.]),\n",
       " tensor([320.0000, 320.0000,   1.2000]),\n",
       " tensor([480.0000, 480.0000,   1.2000]),\n",
       " tensor([80.0000, 80.0000,  1.1000]),\n",
       " tensor([130.0000, 130.0000,   1.1000]),\n",
       " tensor([60.0000, 60.0000,  1.1000]),\n",
       " tensor([110.0000, 110.0000,   1.1000]),\n",
       " tensor([70.0000, 70.0000,  0.7000]),\n",
       " tensor([90.0000, 90.0000,  1.1000]),\n",
       " tensor([90.0000, 90.0000,  1.1000]),\n",
       " tensor([150., 150.,   1.])]"
      ]
     },
     "execution_count": 106,
     "metadata": {},
     "output_type": "execute_result"
    }
   ],
   "source": [
    "decoded_preds = [denormalize_decode_result(pred, max_speed, max_spacing, min_speed, min_spacing) for pred in param_preds]\n",
    "for r in decoded_preds:\n",
    "    r[0]=torch.round(r[0], decimals = -1)\n",
    "    r[1]=torch.round(r[0], decimals = 0)\n",
    "decoded_preds"
   ]
  },
  {
   "cell_type": "code",
   "execution_count": 107,
   "metadata": {},
   "outputs": [
    {
     "data": {
      "text/plain": [
       "{(23.1, 36.9, 0.7),\n",
       " (42.0, 17.2, 0.9),\n",
       " (43.3, 31.4, 0.7),\n",
       " (44.9, 33.8, 0.7),\n",
       " (45.9, 30.7, 0.7),\n",
       " (51.9, 41.9, 1.1),\n",
       " (55.4, 42.0, 1.1),\n",
       " (55.9, 42.0, 1.1),\n",
       " (56.6, 42.0, 1.1),\n",
       " (61.6, 42.0, 1.1),\n",
       " (64.5, 42.0, 1.1),\n",
       " (65.1, 42.0, 1.1),\n",
       " (66.0, 41.2, 0.7),\n",
       " (66.6, 40.9, 0.7),\n",
       " (69.5, 42.0, 1.1),\n",
       " (69.7, 36.4, 0.7),\n",
       " (71.6, 35.5, 0.7),\n",
       " (71.6, 42.0, 1.1),\n",
       " (75.4, 37.9, 0.7),\n",
       " (75.4, 42.0, 1.1),\n",
       " (77.0, 42.0, 1.1),\n",
       " (77.1, 41.9, 1.1),\n",
       " (77.7, 41.9, 1.1),\n",
       " (78.1, 42.0, 1.1),\n",
       " (78.9, 41.9, 1.1),\n",
       " (78.9, 42.0, 1.1),\n",
       " (80.1, 41.9, 1.1),\n",
       " (81.8, 39.1, 0.7),\n",
       " (84.1, 42.0, 1.1),\n",
       " (85.0, 41.7, 1.1),\n",
       " (85.6, 41.8, 1.1),\n",
       " (86.4, 41.6, 1.1),\n",
       " (87.7, 41.9, 1.1),\n",
       " (87.7, 42.0, 1.1),\n",
       " (88.0, 41.4, 1.1),\n",
       " (88.9, 41.7, 1.1),\n",
       " (88.9, 41.9, 1.1),\n",
       " (89.3, 40.0, 0.7),\n",
       " (89.3, 41.7, 1.1),\n",
       " (89.7, 38.9, 0.7),\n",
       " (89.9, 41.4, 1.1),\n",
       " (90.9, 41.8, 1.1),\n",
       " (91.0, 41.6, 1.1),\n",
       " (91.1, 40.5, 1.1),\n",
       " (91.4, 41.3, 1.1),\n",
       " (91.6, 41.7, 1.1),\n",
       " (92.5, 41.7, 1.1),\n",
       " (93.4, 41.7, 1.1),\n",
       " (94.0, 41.9, 1.1),\n",
       " (94.5, 41.5, 1.1),\n",
       " (95.1, 42.0, 1.1),\n",
       " (95.6, 41.9, 1.1),\n",
       " (96.4, 41.6, 1.1),\n",
       " (98.5, 39.3, 0.7),\n",
       " (98.5, 40.9, 1.1),\n",
       " (99.1, 42.0, 1.1),\n",
       " (99.2, 42.0, 1.1),\n",
       " (99.3, 41.5, 1.1),\n",
       " (101.9, 41.3, 1.1),\n",
       " (102.3, 41.9, 1.1),\n",
       " (102.9, 40.0, 1.1),\n",
       " (104.6, 41.4, 1.1),\n",
       " (105.3, 29.5, 0.7),\n",
       " (106.2, 40.3, 1.1),\n",
       " (107.7, 41.1, 1.1),\n",
       " (107.9, 42.0, 1.1),\n",
       " (108.0, 41.8, 1.1),\n",
       " (109.8, 41.3, 1.1),\n",
       " (109.9, 41.3, 1.1),\n",
       " (110.2, 41.8, 1.1),\n",
       " (111.9, 41.9, 1.1),\n",
       " (112.1, 41.3, 1.1),\n",
       " (112.4, 40.9, 1.1),\n",
       " (113.1, 41.7, 1.1),\n",
       " (113.3, 39.6, 1.1),\n",
       " (114.1, 41.9, 1.1),\n",
       " (115.3, 41.9, 1.1),\n",
       " (115.9, 41.5, 1.1),\n",
       " (117.1, 41.7, 1.1),\n",
       " (118.0, 41.2, 1.1),\n",
       " (118.4, 40.5, 1.1),\n",
       " (118.5, 41.9, 1.1),\n",
       " (118.8, 41.2, 1.1),\n",
       " (126.1, 41.7, 1.1),\n",
       " (127.3, 40.6, 1.1),\n",
       " (129.7, 41.9, 1.1),\n",
       " (130.5, 41.9, 1.1),\n",
       " (130.6, 41.9, 1.1),\n",
       " (130.8, 38.5, 1.0),\n",
       " (132.2, 37.5, 0.7),\n",
       " (132.4, 40.6, 1.1),\n",
       " (133.9, 41.5, 1.1),\n",
       " (134.0, 41.5, 1.1),\n",
       " (134.2, 41.6, 1.1),\n",
       " (134.6, 41.9, 1.1),\n",
       " (135.5, 41.4, 1.1),\n",
       " (135.9, 39.6, 1.1),\n",
       " (138.3, 39.1, 1.0),\n",
       " (139.4, 40.2, 1.1),\n",
       " (141.1, 41.3, 1.1),\n",
       " (142.5, 41.9, 1.1),\n",
       " (142.9, 41.5, 1.1),\n",
       " (145.6, 39.3, 1.0),\n",
       " (149.1, 39.5, 1.0),\n",
       " (149.2, 41.6, 1.1),\n",
       " (150.2, 38.8, 1.0),\n",
       " (153.3, 41.9, 1.1),\n",
       " (154.5, 41.5, 1.1),\n",
       " (157.2, 41.7, 1.1),\n",
       " (158.6, 41.4, 1.1),\n",
       " (159.3, 39.0, 1.0),\n",
       " (161.4, 41.2, 1.1),\n",
       " (162.0, 41.8, 1.1),\n",
       " (162.1, 41.7, 1.1),\n",
       " (164.3, 41.9, 1.1),\n",
       " (165.4, 40.0, 1.0),\n",
       " (168.3, 37.4, 1.2),\n",
       " (173.0, 40.3, 1.0),\n",
       " (173.9, 37.2, 1.2),\n",
       " (174.7, 41.8, 1.1),\n",
       " (177.3, 41.3, 1.1),\n",
       " (179.5, 40.6, 1.0),\n",
       " (179.9, 41.8, 1.1),\n",
       " (181.5, 40.6, 1.0),\n",
       " (188.6, 36.1, 1.2),\n",
       " (189.5, 38.6, 1.0),\n",
       " (195.3, 41.7, 1.1),\n",
       " (196.8, 31.4, 1.2),\n",
       " (197.2, 41.2, 1.1),\n",
       " (199.3, 41.4, 1.1),\n",
       " (206.4, 41.1, 1.0),\n",
       " (213.0, 41.6, 1.1),\n",
       " (214.6, 26.0, 1.2),\n",
       " (214.6, 41.4, 1.0),\n",
       " (215.6, 27.0, 1.2),\n",
       " (215.8, 41.5, 1.1),\n",
       " (216.8, 41.4, 1.1),\n",
       " (217.6, 41.7, 1.1),\n",
       " (218.9, 27.7, 1.2),\n",
       " (226.7, 41.5, 1.1),\n",
       " (232.5, 29.4, 1.2),\n",
       " (233.9, 41.4, 1.0),\n",
       " (234.1, 38.4, 1.2),\n",
       " (234.3, 34.3, 1.2),\n",
       " (234.7, 41.0, 1.0),\n",
       " (239.1, 40.0, 1.0),\n",
       " (247.2, 26.3, 1.2),\n",
       " (249.6, 41.3, 1.0),\n",
       " (250.5, 40.5, 1.0),\n",
       " (251.6, 38.6, 1.2),\n",
       " (252.7, 39.8, 1.0),\n",
       " (254.2, 26.2, 1.2),\n",
       " (254.3, 27.0, 1.2),\n",
       " (255.2, 41.3, 1.0),\n",
       " (256.5, 32.0, 1.2),\n",
       " (268.3, 41.2, 1.0),\n",
       " (268.5, 35.2, 1.2),\n",
       " (270.1, 39.6, 1.2),\n",
       " (279.5, 37.9, 1.2),\n",
       " (284.8, 41.1, 1.0),\n",
       " (285.2, 34.0, 1.2),\n",
       " (294.5, 39.4, 1.2),\n",
       " (295.4, 20.7, 1.2),\n",
       " (308.7, 40.2, 1.2),\n",
       " (310.1, 37.9, 1.2),\n",
       " (310.6, 29.5, 1.2),\n",
       " (314.8, 41.5, 1.0),\n",
       " (315.1, 39.1, 1.2),\n",
       " (318.2, 41.1, 1.0),\n",
       " (318.5, 23.2, 1.2),\n",
       " (324.9, 16.1, 1.2),\n",
       " (341.8, 40.2, 1.2),\n",
       " (344.9, 37.7, 1.2),\n",
       " (347.6, 28.4, 1.2),\n",
       " (353.0, 40.9, 1.0),\n",
       " (369.2, 22.9, 1.2),\n",
       " (369.8, 38.5, 1.2),\n",
       " (392.3, 40.3, 1.2),\n",
       " (408.0, 40.4, 1.2),\n",
       " (415.3, 40.7, 1.2),\n",
       " (421.0, 40.6, 1.2),\n",
       " (421.9, 8.7, 0.9),\n",
       " (427.7, 21.6, 1.2),\n",
       " (438.1, 30.9, 1.2),\n",
       " (481.1, 37.5, 1.2),\n",
       " (488.4, 38.6, 1.2),\n",
       " (513.3, 37.0, 1.2),\n",
       " (516.1, 20.4, 1.2),\n",
       " (541.6, 31.5, 1.2),\n",
       " (549.5, 28.8, 1.2),\n",
       " (570.6, 27.9, 1.2),\n",
       " (580.9, 28.1, 1.2),\n",
       " (639.4, 20.9, 1.2),\n",
       " (655.0, 12.4, 1.2),\n",
       " (657.4, 6.1, 1.2)}"
      ]
     },
     "execution_count": 107,
     "metadata": {},
     "output_type": "execute_result"
    }
   ],
   "source": [
    "space_params"
   ]
  },
  {
   "cell_type": "code",
   "execution_count": 108,
   "metadata": {},
   "outputs": [
    {
     "data": {
      "text/plain": [
       "3"
      ]
     },
     "execution_count": 108,
     "metadata": {},
     "output_type": "execute_result"
    }
   ],
   "source": [
    "param_space = [np.arange(min_speed, max_speed + 10, 10).tolist(), np.arange(min_spacing, max_spacing + 1, 1).tolist(), np.around(np.arange(.2, 1.4, .1), decimals = 1).tolist()]\n",
    "#get set of all possible parameter combinations\n",
    "param_all_comb = set(list(itertools.product(*param_space)))\n",
    "wattages = [0.2, 0.3, 0.4, 0.5, 0.6, 0.7, 0.8, 0.9, 1.0, 1.1, 1.2, 1.3]\n",
    "space_params = set([tuple(np.around(x.tolist(), decimals= 1)) for x in decoded_preds]) #29988\n",
    "        #find the combination parameters NOT in the training space\n",
    "unused_params = list(param_all_comb.intersection(space_params)) #len() = 5292\n",
    "#convert preds to set\n",
    "len(unused_params)\n",
    "\n"
   ]
  },
  {
   "cell_type": "code",
   "execution_count": 109,
   "metadata": {},
   "outputs": [
    {
     "data": {
      "text/plain": [
       "[(40.0, 40.0, 0.7), (20.0, 20.0, 0.7), (40.0, 40.0, 0.9)]"
      ]
     },
     "execution_count": 109,
     "metadata": {},
     "output_type": "execute_result"
    }
   ],
   "source": [
    "#intersecting parameters!!!!!!!\n",
    "unused_params"
   ]
  },
  {
   "cell_type": "markdown",
   "metadata": {},
   "source": [
    "# ONNX"
   ]
  },
  {
   "cell_type": "code",
   "execution_count": null,
   "metadata": {},
   "outputs": [],
   "source": [
    "# import onnxruntime \n",
    "# from pathlib import Path\n",
    "# import numpy as np\n",
    "# import os"
   ]
  },
  {
   "cell_type": "code",
   "execution_count": null,
   "metadata": {},
   "outputs": [],
   "source": [
    "ort_session = onnxruntime.InferenceSession(filepath)"
   ]
  },
  {
   "cell_type": "code",
   "execution_count": null,
   "metadata": {},
   "outputs": [],
   "source": [
    "# filepath = Path(f\"{work_folder}/saved_best/best_inference_direct.onnx\")\n",
    "\n",
    "# ort_session = onnxruntime.InferenceSession(filepath)\n",
    "# input_name = ort_session.get_inputs()[0].name\n",
    "# ort_inputs = {input_name: np.random.randn(2, 14)}\n",
    "# ort_outs = ort_session.run(None, ort_inputs)\n"
   ]
  }
 ],
 "metadata": {
  "kernelspec": {
   "display_name": "Python 3.10.4 ('meta')",
   "language": "python",
   "name": "python3"
  },
  "language_info": {
   "codemirror_mode": {
    "name": "ipython",
    "version": 3
   },
   "file_extension": ".py",
   "mimetype": "text/x-python",
   "name": "python",
   "nbconvert_exporter": "python",
   "pygments_lexer": "ipython3",
   "version": "3.10.4"
  },
  "orig_nbformat": 4,
  "vscode": {
   "interpreter": {
    "hash": "8002f67306fdf03846a85192394013d7a0803f94603193c08381e3348b7b52be"
   }
  }
 },
 "nbformat": 4,
 "nbformat_minor": 2
}
