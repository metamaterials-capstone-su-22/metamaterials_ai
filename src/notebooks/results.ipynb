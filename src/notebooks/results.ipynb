{
 "cells": [
  {
   "cell_type": "code",
   "execution_count": 1,
   "metadata": {},
   "outputs": [
    {
     "name": "stdout",
     "output_type": "stream",
     "text": [
      "/home/spencersong/metamaterials_ai/src\n"
     ]
    }
   ],
   "source": [
    "try:\n",
    "    if is_init:\n",
    "        pass\n",
    "except:\n",
    "    %pwd\n",
    "    %cd ..\n",
    "    %pwd\n",
    "    is_init = True"
   ]
  },
  {
   "cell_type": "code",
   "execution_count": 2,
   "metadata": {},
   "outputs": [],
   "source": [
    "from pathlib import Path\n",
    "from src.utils import FileUtils\n",
    "from config import Config\n",
    "from utils import rmse\n",
    "import torch\n",
    "import numpy as np\n",
    "import pandas as pd\n",
    "import matplotlib.pyplot as plt\n",
    "import altair as alt\n",
    "from src.predictor import Predictor\n",
    "data_folder = '../local_data'\n",
    "work_folder = '../local_work'\n",
    "configs_folder = '../configs'"
   ]
  },
  {
   "cell_type": "code",
   "execution_count": 3,
   "metadata": {},
   "outputs": [],
   "source": [
    "#CHANGEME: model paths! \n",
    "I_INC_CKPT_PATH = '../local_work/saved_best/I-1-res-ann-inconel.ckpt' #../data/models/model.ckpt\"\n",
    "I_SS_CKPT_PATH = '../local_work/saved_best/I-1-res-ann-stainless.ckpt' #../data/models/model.ckpt\"\n",
    "D_INC_CKPT_PATH = '../local_work/saved_best/D-1-res-ann-inconel-2022-07-15_23-44.ckpt' #../data/models/model.ckpt\"\n",
    "D_SS_CKPT_PATH = '../local_work/saved_best/D-1-res-ann-stainless.ckpt' #../data/models/model.ckpt\""
   ]
  },
  {
   "cell_type": "code",
   "execution_count": 4,
   "metadata": {},
   "outputs": [],
   "source": [
    "# read_file\n",
    "# read_file = pd.read_csv('../src/notebooks/sample_input.csv')\n",
    "# desired_emiss = interpolate(read_file) #torch.from_numpy(np.array(torch.randn(1, 800) * 3))\n",
    "\n",
    "include_inconel = False #Change ME\n",
    "include_stainless = True #Change ME\n",
    "round_laser_params = True #Change Me\n",
    "\n",
    "def get_data( filepath, type):\n",
    "    stain_data = torch.load(\n",
    "                    Path(filepath))#[\"laser_params\"] #stainless-steel-revised-shuffled inconel-revised-raw-shuffled\n",
    "    wave_data = stain_data[\"interpolated_wavelength\"]\n",
    "    emiss_data = stain_data[\"interpolated_emissivity\"]\n",
    "    laser_params = stain_data[\"laser_params\"]\n",
    "    uids = stain_data[\"uids\"]\n",
    "    if type == 'test':\n",
    "        wave_test = wave_data[round(len(wave_data) * .9):]  \n",
    "        emiss_test = emiss_data[round(len(wave_data) * .9):]\n",
    "        laser_params = laser_params[round(len(wave_data) * .9):]\n",
    "        uids = uids[round(len(wave_data) * .9):]\n",
    "    elif type == 'trainval':\n",
    "        wave_test = wave_data[:round(len(wave_data) * .9)]  \n",
    "        emiss_test = emiss_data[:round(len(wave_data) * .9)]\n",
    "        laser_params = laser_params[:round(len(wave_data) * .9)]\n",
    "        uids = uids[:round(len(wave_data) * .9)]\n",
    "    else: \n",
    "        wave_test = wave_data\n",
    "        emiss_test = emiss_data\n",
    "        laser_params = laser_params\n",
    "    \n",
    "    return wave_test, emiss_test, laser_params, uids\n",
    "\n",
    "inc_params = torch.load(\n",
    "                Path(f\"{data_folder}/inconel-onehot.pt\"))[\"laser_params\"]\n",
    "\n",
    "steel_wave_test, steel_emiss_test, steel_laser_params_test, steel_uids_test = get_data(f\"{data_folder}/steel-onehot.pt\", \"test\")\n",
    "steel_wave, steel_emiss, steel_laser_params, steel_uids = get_data(f\"{data_folder}/steel-onehot.pt\", \"trainval\")\n",
    "inconel_wave, inconel_emiss, inconel_laser_params, inconel_uids = get_data(f\"{data_folder}/inconel-onehot.pt\", \"trainval\")\n",
    "inconel_wave_test, inconel_emiss_test, inconel_laser_params_test, inconel_uids_test = get_data(f\"{data_folder}/inconel-onehot.pt\", \"test\")\n",
    "\n",
    "# max_speed, max_spacing = steel_laser_params.max(0)[0][0].item(), steel_laser_params.max(0)[0][1].item()\n",
    "# min_speed, min_spacing = steel_laser_params.min(0)[0][0].item(), steel_laser_params.min(0)[0][1].item()"
   ]
  },
  {
   "cell_type": "code",
   "execution_count": 5,
   "metadata": {},
   "outputs": [
    {
     "name": "stderr",
     "output_type": "stream",
     "text": [
      "/home/spencersong/anaconda3/envs/meta/lib/python3.10/site-packages/torch/nn/modules/lazy.py:178: UserWarning: Lazy modules are a new feature under heavy development so changes to the API or functionality can happen at any moment.\n",
      "  warnings.warn('Lazy modules are a new feature under heavy development '\n",
      "/home/spencersong/anaconda3/envs/meta/lib/python3.10/site-packages/pytorch_lightning/core/saving.py:217: UserWarning: Found keys that are not in the model state dict but in the checkpoint: ['direct_model.model.0.weight', 'direct_model.model.0.bias', 'direct_model.model.2.layers.0.block.0.weight', 'direct_model.model.2.layers.0.block.0.bias', 'direct_model.model.2.layers.1.block.0.weight', 'direct_model.model.2.layers.1.block.0.bias', 'direct_model.model.2.layers.2.block.0.weight', 'direct_model.model.2.layers.2.block.0.bias', 'direct_model.model.2.layers.3.block.0.weight', 'direct_model.model.2.layers.3.block.0.bias', 'direct_model.model.2.layers.4.block.0.weight', 'direct_model.model.2.layers.4.block.0.bias', 'direct_model.model.2.layers.5.block.0.weight', 'direct_model.model.2.layers.5.block.0.bias', 'direct_model.model.2.layers.6.block.0.weight', 'direct_model.model.2.layers.6.block.0.bias', 'direct_model.model.2.layers.7.block.0.weight', 'direct_model.model.2.layers.7.block.0.bias', 'direct_model.model.2.layers.8.block.0.weight', 'direct_model.model.2.layers.8.block.0.bias', 'direct_model.model.2.layers.9.block.0.weight', 'direct_model.model.2.layers.9.block.0.bias', 'direct_model.model.2.layers.10.block.0.weight', 'direct_model.model.2.layers.10.block.0.bias', 'direct_model.model.2.layers.11.block.0.weight', 'direct_model.model.2.layers.11.block.0.bias', 'direct_model.model.2.layers.12.block.0.weight', 'direct_model.model.2.layers.12.block.0.bias', 'direct_model.model.2.layers.13.block.0.weight', 'direct_model.model.2.layers.13.block.0.bias', 'direct_model.model.2.layers.14.block.0.weight', 'direct_model.model.2.layers.14.block.0.bias', 'direct_model.model.2.layers.15.block.0.weight', 'direct_model.model.2.layers.15.block.0.bias', 'direct_model.model.3.weight', 'direct_model.model.3.bias']\n",
      "  rank_zero_warn(\n"
     ]
    }
   ],
   "source": [
    "\n",
    "# for emiss in emiss_test:\n",
    "predictor = Predictor(I_INC_CKPT_PATH, I_SS_CKPT_PATH,  D_INC_CKPT_PATH,  D_SS_CKPT_PATH, round_laser_params = True)\n",
    "#run inverse models\n",
    "y_hat_ss = predictor.run_model(steel_emiss_test, \"steel\", \"inverse\")\n",
    "y_hat_inc = predictor.run_model(inconel_emiss_test, \"inconel\", \"inverse\")\n",
    "# decode predictions from inverse model\n",
    "y_hat_ss_norm = predictor.denormalize_and_decode(y_hat_ss, \"steel\", False)\n",
    "y_hat_inc_norm = predictor.denormalize_and_decode(y_hat_inc, \"inconel\", False)\n",
    "\n",
    "ss_not_in_data, ss_same_params, ss_y_hat_in_data, ss_y_test = predictor.find_in_data(y_hat_ss_norm, 'steel')\n",
    "inc_not_in_data, inc_same_params, inc_y_hat_in_data, inc_y_test = predictor.find_in_data(y_hat_inc_norm, 'inconel')\n",
    "\n",
    "#run direct models on inverse output\n",
    "y_hat_ss = predictor.run_model(y_hat_ss, \"steel\", \"direct\")\n",
    "y_hat_inc = predictor.run_model(y_hat_inc, \"inconel\", \"direct\")\n",
    "\n",
    "#run ensemble on"
   ]
  },
  {
   "cell_type": "code",
   "execution_count": 6,
   "metadata": {},
   "outputs": [
    {
     "name": "stdout",
     "output_type": "stream",
     "text": [
      "567\n",
      "5\n",
      "2466\n"
     ]
    }
   ],
   "source": [
    "y_hat = y_hat_ss_norm\n",
    "\n",
    "print(len(ss_not_in_data))\n",
    "print(len(ss_same_params))\n",
    "print(len(ss_y_test[\"laser_params\"]))"
   ]
  },
  {
   "cell_type": "code",
   "execution_count": 7,
   "metadata": {},
   "outputs": [
    {
     "name": "stdout",
     "output_type": "stream",
     "text": [
      "Mean RMSE: 0.026040000841021538, SD: 0.018459999933838844\n"
     ]
    }
   ],
   "source": [
    "# RMSE SCORES FOR ROUNDED PREDICTIONS FOUND IN DATA\n",
    "mean_rmse, stdev_rmse = predictor.rmse_metrics(ss_y_hat_in_data[\"emissivity\"], ss_y_test[\"emissivity\"], decimals = 5)\n",
    "print(f'Mean RMSE: {mean_rmse}, SD: {stdev_rmse}')\n"
   ]
  },
  {
   "cell_type": "code",
   "execution_count": 8,
   "metadata": {},
   "outputs": [
    {
     "name": "stdout",
     "output_type": "stream",
     "text": [
      "Total # of Preds: 567, Unique # of Preds: 96\n"
     ]
    }
   ],
   "source": [
    "#Clean up parameters out of data and 'send_to_lab'  #DO NOT TOUCH\n",
    "send_to_lab, size_unique, size_total = predictor.clean_and_send_to_lab(ss_not_in_data)\n",
    "print(f'Total # of Preds: {size_total}, Unique # of Preds: {size_unique}')"
   ]
  },
  {
   "cell_type": "code",
   "execution_count": 9,
   "metadata": {},
   "outputs": [],
   "source": [
    "#compute SAD between parameters\n",
    "y_hat_params, test_params, sad_values = predictor.SAD(ss_y_hat_in_data, ss_y_test, \"steel\")\n"
   ]
  },
  {
   "cell_type": "code",
   "execution_count": null,
   "metadata": {},
   "outputs": [],
   "source": []
  },
  {
   "cell_type": "code",
   "execution_count": 10,
   "metadata": {},
   "outputs": [
    {
     "data": {
      "text/plain": [
       "tensor([[0.1304, 0.4878, 0.6000,  ..., 0.3659, 1.3000, 1.0683],\n",
       "        [0.1159, 0.5854, 0.6000,  ..., 0.0732, 0.5000, 0.8731],\n",
       "        [0.6812, 0.9024, 0.7000,  ..., 0.9512, 0.3000, 0.7386],\n",
       "        ...,\n",
       "        [0.4203, 0.9756, 0.7000,  ..., 0.1707, 0.7000, 1.1672],\n",
       "        [0.6957, 0.8293, 0.7000,  ..., 0.8537, 0.6000, 0.3853],\n",
       "        [0.5942, 0.9512, 0.7000,  ..., 0.5610, 0.7000, 0.4627]])"
      ]
     },
     "execution_count": 10,
     "metadata": {},
     "output_type": "execute_result"
    }
   ],
   "source": [
    "torch.cat((y_hat_params, test_params, sad_values), dim = 1)"
   ]
  },
  {
   "cell_type": "code",
   "execution_count": 11,
   "metadata": {},
   "outputs": [
    {
     "name": "stdout",
     "output_type": "stream",
     "text": [
      "tensor([[0.1304, 0.4878, 0.6000],\n",
      "        [0.1159, 0.5854, 0.6000],\n",
      "        [0.6812, 0.9024, 0.7000],\n",
      "        ...,\n",
      "        [0.4203, 0.9756, 0.7000],\n",
      "        [0.6957, 0.8293, 0.7000],\n",
      "        [0.5942, 0.9512, 0.7000]])\n",
      "tensor([[0.3768, 0.3659, 1.3000],\n",
      "        [0.3768, 0.0732, 0.5000],\n",
      "        [0.3913, 0.9512, 0.3000],\n",
      "        ...,\n",
      "        [0.7826, 0.1707, 0.7000],\n",
      "        [0.9565, 0.8537, 0.6000],\n",
      "        [0.6667, 0.5610, 0.7000]])\n"
     ]
    },
    {
     "data": {
      "text/plain": [
       "Text(0.5, 1.0, 'Normalized Difference between Parameters and Predicted Parameters')"
      ]
     },
     "execution_count": 11,
     "metadata": {},
     "output_type": "execute_result"
    },
    {
     "data": {
      "image/png": "[encoded data removed]",
      "text/plain": [
       "<Figure size 432x288 with 1 Axes>"
      ]
     },
     "metadata": {
      "needs_background": "light"
     },
     "output_type": "display_data"
    }
   ],
   "source": [
    "#Computer SAD between  parameters in data and test parameters\n",
    "\n",
    "pred_params = predictor.denormalize_and_decode(ss_y_hat_in_data[\"laser_params\"], substrate = \"steel\", change_dimension=True, normalize = True, round_laser_params = False)\n",
    "original_params = predictor.denormalize_and_decode(ss_y_test[\"laser_params\"], substrate = \"steel\", change_dimension=True, normalize = True, round_laser_params = False)\n",
    "print(pred_params)\n",
    "#preds = predictor.denormalize_and_decode(preds, substrate = \"steel\", change_dimension=True)\n",
    "#preds\n",
    "\n",
    "print(original_params)\n",
    "\n",
    "difference = torch.abs(torch.sub(pred_params, original_params))\n",
    "difference\n",
    "\n",
    "hist = torch.histc(torch.sum(difference, dim = 1), bins = 30)\n",
    "\n",
    "plt.bar(range(30), hist)\n",
    "plt.title(\"Normalized Difference between Parameters and Predicted Parameters\")\n"
   ]
  },
  {
   "cell_type": "code",
   "execution_count": 28,
   "metadata": {},
   "outputs": [
    {
     "name": "stdout",
     "output_type": "stream",
     "text": [
      "VAL: tensor([7266])\n",
      "YHAT: tensor([100.,  21.,   0.,   0.,   0.,   0.,   1.,   0.,   0.,   0.,   0.,   0.,\n",
      "          0.,   0.])\n",
      "CHECK: tensor([[100.,  21.,   0.,   0.,   0.,   0.,   1.,   0.,   0.,   0.,   0.,   0.,\n",
      "           0.,   0.]])\n",
      "VAL: tensor([27063])\n",
      "YHAT: tensor([90., 25.,  0.,  0.,  0.,  0.,  1.,  0.,  0.,  0.,  0.,  0.,  0.,  0.])\n",
      "CHECK: tensor([[90., 25.,  0.,  0.,  0.,  0.,  1.,  0.,  0.,  0.,  0.,  0.,  0.,  0.]])\n",
      "VAL: tensor([1604])\n",
      "YHAT: tensor([480.,  38.,   0.,   0.,   0.,   0.,   0.,   1.,   0.,   0.,   0.,   0.,\n",
      "          0.,   0.])\n",
      "CHECK: tensor([[480.,  38.,   0.,   0.,   0.,   0.,   0.,   1.,   0.,   0.,   0.,   0.,\n",
      "           0.,   0.]])\n",
      "VAL: tensor([2392])\n",
      "YHAT: tensor([300.,  42.,   0.,   0.,   0.,   0.,   0.,   1.,   0.,   0.,   0.,   0.,\n",
      "          0.,   0.])\n",
      "CHECK: tensor([[300.,  42.,   0.,   0.,   0.,   0.,   0.,   1.,   0.,   0.,   0.,   0.,\n",
      "           0.,   0.]])\n",
      "VAL: tensor([], dtype=torch.int64)\n",
      "YHAT: tensor([360.,  35.,   0.,   0.,   0.,   0.,   0.,   1.,   0.,   0.,   0.,   0.,\n",
      "          0.,   0.])\n",
      "CHECK: tensor([], size=(0, 14))\n"
     ]
    }
   ],
   "source": []
  },
  {
   "cell_type": "code",
   "execution_count": null,
   "metadata": {},
   "outputs": [],
   "source": []
  },
  {
   "cell_type": "code",
   "execution_count": null,
   "metadata": {},
   "outputs": [],
   "source": [
    "not_in_data = []\n",
    "same_params_uids = []\n",
    "pred_in_data = {\"laser_params\": [], \"emissivity\": [], \"uids\": []}\n",
    "test_in_data = {\"laser_params\": [], \"emissivity\": [], \"uids\": []}\n",
    "\n",
    "if substrate == 'steel':\n",
    "        wave, emiss, laser_params, uids = get_data(SS_DATA_PATH, \"trainval\")\n",
    "        wave_test, emiss_test, laser_params_test, uids_test = self.get_data(SS_DATA_PATH, \"test\")\n",
    "else:\n",
    "        wave, emiss, laser_params, uids = self.get_data(INC_DATA_PATH, \"trainval\")\n",
    "        wave_test, emiss_test, laser_params_test, uids_test = self.get_data(INC_DATA_PATH, \"test\")\n",
    "\n",
    "#[]#torch.tensor(type = \"torch.float32\")\n",
    "for i in range(len(y_hat)):\n",
    "        print(f'LEN INPUT: {len(y_hat)}')\n",
    "        val = torch.all(laser_params == y_hat[i], axis=1).nonzero().flatten()\n",
    "        if len(val) == 0:\n",
    "                not_in_data.append(y_hat[i])\n",
    "        else:\n",
    "        #if the predicted parameters = the original parameters\n",
    "                same_params = torch.all(torch.eq(y_hat[i], laser_params_test[i])).item()\n",
    "                if same_params:\n",
    "                        same_params_uids.append(uids[val])\n",
    "                #if the predicted != original parameters, add to two separate dictionaries\n",
    "                else:\n",
    "                        pred_in_data[\"laser_params\"].append(laser_params[val])\n",
    "                        pred_in_data[\"emissivity\"].append(emiss[val])\n",
    "                        pred_in_data[\"uids\"].append(uids[val])\n",
    "                        test_in_data[\"laser_params\"].append(laser_params_test[i])\n",
    "                        test_in_data[\"emissivity\"].append(emiss_test[i])\n",
    "                        test_in_data[\"uids\"].append(uids_test[i])\n",
    "#list of tensors --> tensors\n",
    "not_in_data = torch.stack(not_in_data)"
   ]
  },
  {
   "cell_type": "code",
   "execution_count": 9,
   "metadata": {},
   "outputs": [
    {
     "name": "stdout",
     "output_type": "stream",
     "text": [
      "567\n",
      "5\n",
      "2471\n"
     ]
    }
   ],
   "source": [
    "print(len(not_in_data))\n",
    "print(len(same_params_uids))\n",
    "print(len(y_hat_in_data))"
   ]
  },
  {
   "cell_type": "code",
   "execution_count": 21,
   "metadata": {},
   "outputs": [
    {
     "data": {
      "text/plain": [
       "tensor([[360.,  35.,   0.,   0.,   0.,   0.,   0.,   1.,   0.,   0.,   0.,   0.,\n",
       "           0.,   0.]])"
      ]
     },
     "execution_count": 21,
     "metadata": {},
     "output_type": "execute_result"
    }
   ],
   "source": [
    "torch.all(all_params == not_in_data, axis=1).nonzero().flatten()"
   ]
  },
  {
   "cell_type": "code",
   "execution_count": 17,
   "metadata": {},
   "outputs": [
    {
     "data": {
      "text/plain": [
       "tensor([[  0.7000,  35.0000, 360.0000],\n",
       "        [  0.7000,  37.0000, 350.0000],\n",
       "        [  0.7000,  40.0000, 380.0000],\n",
       "        ...,\n",
       "        [  0.7000,  36.0000, 310.0000],\n",
       "        [  0.7000,  35.0000, 340.0000],\n",
       "        [  0.7000,  38.0000, 370.0000]])"
      ]
     },
     "execution_count": 17,
     "metadata": {},
     "output_type": "execute_result"
    }
   ],
   "source": [
    "to_minok = predictor.clean_to_minok(not_in_data)\n",
    "torch.unique(to_minok, dim = 1)\n",
    "#len(set(not_in_data))"
   ]
  },
  {
   "cell_type": "code",
   "execution_count": null,
   "metadata": {},
   "outputs": [],
   "source": [
    "#PUT SS PREDICTIONS INTO 3 BUCKETS !!!!!!!! \n",
    "wave_test, emiss_test, laser_params = get_test_data(f\"{data_folder}/steel-onehot.pt\")\n",
    "steel_emiss = torch.load(Path(f\"{data_folder}/steel-onehot.pt\"))[\"emissivity\"]\n",
    "ss_to_minok = []\n",
    "ss_in_data_same_params = []\n",
    "ss_in_data_diff_params = []\n",
    "watts = [0.2, 0.3, 0.4, 0.5, 0.6, 0.7, 0.8, 0.9, 1.0, 1.1, 1.2, 1.3]\n",
    "y_add = torch.empty(3, dtype=torch.float32)\n",
    "for i in range(50):#len(emiss_test)):\n",
    "    predictor = Predictor(emiss_test[i].reshape(1,800), include_inconel, include_stainless, round_laser_params = True)\n",
    "    y_hat_ss, y_hat_inc = predictor.run_inverse(predictor.desired)\n",
    "    #predictor.denormalize_decode_result()\n",
    "        # direct_ss_emiss_y_hat, direct_inc_emiss_y_hat = predictor.run_direct(y_hat_ss, y_hat_inc)\n",
    "        # best_substrate, best_params, best_rmse = predictor.best_predictor(True, True, direct_ss_emiss_y_hat, direct_inc_emiss_y_hat, predictor.desired)\n",
    "    y_final = predictor.denorm_result(y_hat_ss, predictor.ss_max_speed, predictor.ss_max_spacing, predictor.ss_min_speed, predictor.ss_min_spacing) #reround laser parameters\n",
    "    y_final, y_index = predictor.find_in_data(y_final) #get index of laser parameters matching in original data\n",
    "    print(y_final)\n",
    "    print(steel_params[y_index])\n",
    "    if y_index == -1:\n",
    "        watt_arg = torch.argmax(y_final[0][2:])\n",
    "        y_add[0] = y_final[0][0]#(max_speed - min_speed) * (y_hat[0][0] + min_speed) # TODO call the scale\n",
    "        y_add[1] = y_final[0][1]#(max_spacing - min_spacing) * (y_hat[0][1] + min_spacing) # TODO call the scale\n",
    "        y_add[2]= watts[watt_arg]\n",
    "        ss_to_minok.append(y_add)\n",
    "    else:\n",
    "    #     if torch.equal(y_final, steel_params[y_index]):\n",
    "    #     #print(y_final)\n",
    "    #     #print(steel_params[y_index])\n",
    "    #     ss_in_data_same_params.append(steel_emiss[y_index])\n",
    "    # else:\n",
    "        ss_in_data_diff_params.append(steel_emiss[y_index])\n",
    "print(len(ss_to_minok))\n",
    "#print(len(ss_in_data_same_params))\n",
    "print(len(ss_in_data_diff_params))\n"
   ]
  },
  {
   "cell_type": "code",
   "execution_count": null,
   "metadata": {},
   "outputs": [],
   "source": [
    "ss_to_minok"
   ]
  },
  {
   "cell_type": "code",
   "execution_count": null,
   "metadata": {},
   "outputs": [],
   "source": [
    "y_index"
   ]
  },
  {
   "cell_type": "code",
   "execution_count": null,
   "metadata": {},
   "outputs": [],
   "source": [
    "y_hat_ss"
   ]
  },
  {
   "cell_type": "code",
   "execution_count": null,
   "metadata": {},
   "outputs": [],
   "source": [
    "y_final, y_index"
   ]
  },
  {
   "cell_type": "code",
   "execution_count": null,
   "metadata": {},
   "outputs": [],
   "source": [
    "# stain_data = torch.load(\n",
    "#                     Path(filepath))#[\"laser_params\"] #stainless-steel-revised-shuffled inconel-revised-raw-shuffled\n",
    "# wave_data = stain_data[\"interpolated_wavelength\"]\n",
    "# emiss_data = stain_data[\"interpolated_emissivity\"]\n",
    "# laser_params = stain_data[\"laser_params\"]\n",
    "# def check_params_in_data(filepath):\n",
    "#     stain_data = torch.load(\n",
    "#                     Path(filepath))#[\"laser_params\"] #stainless-steel-revised-shuffled inconel-revised-raw-shuffled\n",
    "#     wave_data = stain_data[\"interpolated_wavelength\"]\n",
    "#     emiss_data = stain_data[\"interpolated_emissivity\"]\n",
    "#     laser_params = stain_data[\"laser_params\"]\n",
    "    \n",
    "#     return wave_test, emiss_test, laser_params\n",
    "# laser_params\n",
    "#torch.nonzero(y_final[0] == steel_params.sum(dim=1)==steel_params.size(1))\n",
    "i = 0\n",
    "found_index = -1\n",
    "for comb in steel_params:\n",
    "    i += 1\n",
    "    if torch.all(torch.eq(comb, y_final)):\n",
    "        found_index = i\n",
    "#y_final in steel_params\n",
    "\n",
    "found_index"
   ]
  },
  {
   "cell_type": "code",
   "execution_count": null,
   "metadata": {},
   "outputs": [],
   "source": [
    "# inc_params = torch.load(\n",
    "#                 Path(f\"{data_folder}/inconel-onehot.pt\"))[\"emissivity\"]\n",
    "steel_emiss = torch.load(Path(f\"{data_folder}/stainless.pt\"))#[\"emissivity\"]\n",
    "\n",
    "steel_emiss.keys()"
   ]
  },
  {
   "cell_type": "code",
   "execution_count": null,
   "metadata": {},
   "outputs": [],
   "source": [
    "steel_params[\"interpolated_emissivity\"]"
   ]
  },
  {
   "cell_type": "code",
   "execution_count": null,
   "metadata": {},
   "outputs": [],
   "source": [
    "torch.isin()y_final"
   ]
  },
  {
   "cell_type": "code",
   "execution_count": null,
   "metadata": {},
   "outputs": [],
   "source": [
    "\n",
    "def is_in_data(self, rounded_y_hat, ):\n",
    "        indices_have_in_data\n",
    "        indices_not_have_in_data\n",
    "        return rounded_y_hat, indices_have_in_data, indeces_not_have_in_data"
   ]
  },
  {
   "cell_type": "markdown",
   "metadata": {},
   "source": [
    "# Inverse"
   ]
  },
  {
   "cell_type": "code",
   "execution_count": null,
   "metadata": {},
   "outputs": [],
   "source": [
    "inverse_ss_filepath = Path(f\"{work_folder}/saved_best/I-1-res-ann-stainless.ckpt\") #CHANGEME\n",
    "inverse_inc_filepath = Path(f\"{work_folder}/saved_best/I-1-res-ann-inconel.ckpt\") #CHANGEME\n",
    "print(inverse_ss_filepath)\n",
    "print(inverse_inc_filepath)\n",
    "if not Path.is_file(inverse_ss_filepath):\n",
    "    raise Exception(f'Model file does not exist at {inverse_ss_filepath}!')\n",
    "if not Path.is_file(inverse_inc_filepath):\n",
    "    raise Exception(f'Model file does not exist at {inverse_inc_filepath}!')"
   ]
  },
  {
   "cell_type": "code",
   "execution_count": null,
   "metadata": {},
   "outputs": [],
   "source": [
    "def get_test_data(filepath):\n",
    "    stain_data = torch.load(\n",
    "                    Path(f\"{data_folder}/{filepath}\"))#[\"laser_params\"] #stainless-steel-revised-shuffled inconel-revised-raw-shuffled\n",
    "    wave_data = stain_data[\"interpolated_wavelength\"]\n",
    "    emiss_data = stain_data[\"interpolated_emissivity\"]\n",
    "    laser_params = stain_data[\"laser_params\"]#.keys()#[\"wavelenght\"]\n",
    "    #print(wave_test.max(1), wave_test.min(1)) #2.5002, 11.9479\n",
    "    #print(emiss_test.max(1)[0])#.max(1), emiss_test.min(1)) #0, 1\n",
    "    wave_test = wave_data[round(len(wave_data) * .9):]  \n",
    "    emiss_test = emiss_data[round(len(wave_data) * .9):]\n",
    "    return wave_test, emiss_test, laser_params\n",
    "#print(max_wave, min_wave)"
   ]
  },
  {
   "cell_type": "code",
   "execution_count": null,
   "metadata": {},
   "outputs": [],
   "source": [
    "# pass test data into inverse model, get predicted parameters\n",
    "from src.models import InverseModel\n",
    "i_model = InverseModel.load_from_checkpoint(inverse_ss_filepath, strict=False)\n",
    "i_model.eval()\n",
    "\n",
    "wave_test, emiss_test, laser_params = get_test_data('stainless-steel-revised-shuffled.pt')\n",
    "\n",
    "test_y_hats = []#torch.empty(size = len(emiss_test))\n",
    "for emiss in emiss_test:\n",
    "    with torch.no_grad():\n",
    "        test_y_hats.append(i_model(emiss.reshape(1, 800)))"
   ]
  },
  {
   "cell_type": "code",
   "execution_count": null,
   "metadata": {},
   "outputs": [],
   "source": [
    "laser_test = laser_params\n",
    "max_speed, max_spacing = laser_test.max(0)[0][0].item(), laser_test.max(0)[0][1].item()\n",
    "min_speed, min_spacing = laser_test.min(0)[0][0].item(), laser_test.min(0)[0][1].item()\n",
    "laser_output = [denormalize_decode_result(x.reshape(1,14), max_speed, max_spacing, min_speed, min_spacing) for x in laser_test]\n",
    "\n",
    "# denormalize_decode_result(laser_test[3].reshape(1,14),max_speed, max_spacing, min_speed, min_spacing)"
   ]
  },
  {
   "cell_type": "markdown",
   "metadata": {},
   "source": [
    "# Direct Model"
   ]
  },
  {
   "cell_type": "code",
   "execution_count": null,
   "metadata": {},
   "outputs": [],
   "source": [
    "from src.models import DirectModel\n",
    "direct_filepath = Path(\"\"\n",
    "    f\"{work_folder}/saved_best/D-1-res-ann-stainless.ckpt\") #CHANGEME\n",
    "print(direct_filepath)\n",
    "if not Path.is_file(direct_filepath):\n",
    "    raise Exception(f'Model file does not exist at {direct_filepath}!')"
   ]
  },
  {
   "cell_type": "code",
   "execution_count": null,
   "metadata": {},
   "outputs": [],
   "source": [
    "d_model = DirectModel.load_from_checkpoint(direct_filepath)\n",
    "d_model.eval()\n",
    "emiss_y_hats = []\n",
    "for x in test_y_hats:\n",
    "    with torch.no_grad():\n",
    "        emiss_y_hats.append(d_model(x.reshape(1,14)))"
   ]
  },
  {
   "cell_type": "code",
   "execution_count": null,
   "metadata": {},
   "outputs": [],
   "source": [
    "#calculate rmse\n",
    "pred_rmse_vals = []\n",
    "columns = [\"wavelength\", \"emissivity\", \"prediction\", \"example_number\", \"laser_params\"]\n",
    "viz_coords = pd.DataFrame(columns = columns)\n",
    "for i in range(9):#len(emiss_test)):\n",
    "    pred_rmse_vals.append(rmse(emiss_y_hats[i], emiss_test[i]).item())\n",
    "    for j in range(len(wave_test[i].tolist())):\n",
    "        viz_coords.append([wave_test[i].tolist()[j], emiss_test[i].tolist()[j], \"True\", i, laser_output[i].tolist()])\n",
    "        viz_coords.append([wave_test[i].tolist()[j], emiss_y_hats[i].flatten().tolist()[j], \"Prediction\", i, laser_output[i].tolist()])\n",
    "stdev = np.std(pred_rmse_vals)\n",
    "print(f'Direct Filepath: {direct_filepath}')\n",
    "print(f'Inverse Filepath: {inverse_ss_filepath}')\n",
    "print(f'SD of RMSEs on test data: {stdev}')\n"
   ]
  },
  {
   "cell_type": "code",
   "execution_count": null,
   "metadata": {},
   "outputs": [],
   "source": [
    "alt.Chart(viz_coords).mark_line().encode(\n",
    "    x='wavelength',\n",
    "    y='emissivity'\n",
    ").facet(facet = 'example_number:N')#, header = 'laser_params:N')#.encode(text = 'laser_params:N')."
   ]
  },
  {
   "cell_type": "code",
   "execution_count": null,
   "metadata": {},
   "outputs": [],
   "source": [
    "#visualize predictions vs original\n"
   ]
  }
 ],
 "metadata": {
  "interpreter": {
   "hash": "67e7f89d5252d36c0a7a22a0bddaf9ce6b4bb105a5aa258c373ad72ae6e9c8c8"
  },
  "kernelspec": {
   "display_name": "Python 3.10.4 ('meta')",
   "language": "python",
   "name": "python3"
  },
  "language_info": {
   "codemirror_mode": {
    "name": "ipython",
    "version": 3
   },
   "file_extension": ".py",
   "mimetype": "text/x-python",
   "name": "python",
   "nbconvert_exporter": "python",
   "pygments_lexer": "ipython3",
   "version": "3.10.4"
  },
  "orig_nbformat": 4,
  "vscode": {
   "interpreter": {
    "hash": "8002f67306fdf03846a85192394013d7a0803f94603193c08381e3348b7b52be"
   }
  }
 },
 "nbformat": 4,
 "nbformat_minor": 2
}
