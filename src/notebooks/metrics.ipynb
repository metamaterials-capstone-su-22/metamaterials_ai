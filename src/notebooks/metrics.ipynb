{
 "cells": [
  {
   "cell_type": "code",
   "execution_count": 43,
   "metadata": {},
   "outputs": [],
   "source": [
    "try:\n",
    "    if is_init:\n",
    "        pass\n",
    "except:\n",
    "    %pwd\n",
    "    %cd ..\n",
    "    %pwd\n",
    "    is_init = True"
   ]
  },
  {
   "cell_type": "code",
   "execution_count": 44,
   "metadata": {},
   "outputs": [],
   "source": [
    "from pathlib import Path\n",
    "from src.utils import FileUtils\n",
    "from config import Config\n",
    "import torch\n",
    "import numpy as np\n",
    "import random\n",
    "import itertools\n",
    "data_folder = '../local_data'\n",
    "work_folder = '../local_work'\n",
    "work_folder = '../local_work'"
   ]
  },
  {
   "cell_type": "markdown",
   "metadata": {},
   "source": [
    "## Calculate Standard Deviation"
   ]
  },
  {
   "cell_type": "code",
   "execution_count": 47,
   "metadata": {},
   "outputs": [
    {
     "name": "stdout",
     "output_type": "stream",
     "text": [
      "../local_work/saved_best/best_I-resnet1d-stainless-2022-07-11_01-00.ckpt\n"
     ]
    }
   ],
   "source": [
    "filepath = Path(\n",
    "    f\"{work_folder}/saved_best/best_I-resnet1d-stainless-2022-07-11_01-00.ckpt\") #CHANGEME inconel vs stainless best model\n",
    "print(filepath)\n",
    "if not Path.is_file(filepath):\n",
    "    raise Exception(f'Model file does not exist at {filepath}!')"
   ]
  },
  {
   "cell_type": "code",
   "execution_count": 48,
   "metadata": {},
   "outputs": [
    {
     "ename": "RuntimeError",
     "evalue": "PytorchStreamReader failed reading zip archive: failed finding central directory",
     "output_type": "error",
     "traceback": [
      "\u001b[0;31m---------------------------------------------------------------------------\u001b[0m",
      "\u001b[0;31mRuntimeError\u001b[0m                              Traceback (most recent call last)",
      "\u001b[1;32m/home/spencersong/metamaterials_ai/src/notebooks/metrics.ipynb Cell 5'\u001b[0m in \u001b[0;36m<cell line: 3>\u001b[0;34m()\u001b[0m\n\u001b[1;32m      <a href='vscode-notebook-cell://ssh-remote%2B128.3.29.45/home/spencersong/metamaterials_ai/src/notebooks/metrics.ipynb#ch0000034vscode-remote?line=0'>1</a>\u001b[0m \u001b[39mfrom\u001b[39;00m \u001b[39msrc\u001b[39;00m\u001b[39m.\u001b[39;00m\u001b[39mmodels\u001b[39;00m \u001b[39mimport\u001b[39;00m InverseModel\n\u001b[0;32m----> <a href='vscode-notebook-cell://ssh-remote%2B128.3.29.45/home/spencersong/metamaterials_ai/src/notebooks/metrics.ipynb#ch0000034vscode-remote?line=2'>3</a>\u001b[0m i_model \u001b[39m=\u001b[39m InverseModel\u001b[39m.\u001b[39;49mload_from_checkpoint(filepath, strict\u001b[39m=\u001b[39;49m\u001b[39mFalse\u001b[39;49;00m)\n\u001b[1;32m      <a href='vscode-notebook-cell://ssh-remote%2B128.3.29.45/home/spencersong/metamaterials_ai/src/notebooks/metrics.ipynb#ch0000034vscode-remote?line=3'>4</a>\u001b[0m i_model\u001b[39m.\u001b[39meval()\n\u001b[1;32m      <a href='vscode-notebook-cell://ssh-remote%2B128.3.29.45/home/spencersong/metamaterials_ai/src/notebooks/metrics.ipynb#ch0000034vscode-remote?line=5'>6</a>\u001b[0m x \u001b[39m=\u001b[39m torch\u001b[39m.\u001b[39mfrom_numpy(np\u001b[39m.\u001b[39marray(torch\u001b[39m.\u001b[39mrandn(\u001b[39m1\u001b[39m, \u001b[39m800\u001b[39m) \u001b[39m*\u001b[39m \u001b[39m3\u001b[39m)) \u001b[39m#\u001b[39;00m\n",
      "File \u001b[0;32m~/anaconda3/envs/meta/lib/python3.10/site-packages/pytorch_lightning/core/saving.py:139\u001b[0m, in \u001b[0;36mModelIO.load_from_checkpoint\u001b[0;34m(cls, checkpoint_path, map_location, hparams_file, strict, **kwargs)\u001b[0m\n\u001b[1;32m    <a href='file:///home/spencersong/anaconda3/envs/meta/lib/python3.10/site-packages/pytorch_lightning/core/saving.py?line=136'>137</a>\u001b[0m         checkpoint \u001b[39m=\u001b[39m pl_load(checkpoint_path, map_location\u001b[39m=\u001b[39mmap_location)\n\u001b[1;32m    <a href='file:///home/spencersong/anaconda3/envs/meta/lib/python3.10/site-packages/pytorch_lightning/core/saving.py?line=137'>138</a>\u001b[0m     \u001b[39melse\u001b[39;00m:\n\u001b[0;32m--> <a href='file:///home/spencersong/anaconda3/envs/meta/lib/python3.10/site-packages/pytorch_lightning/core/saving.py?line=138'>139</a>\u001b[0m         checkpoint \u001b[39m=\u001b[39m pl_load(checkpoint_path, map_location\u001b[39m=\u001b[39;49m\u001b[39mlambda\u001b[39;49;00m storage, loc: storage)\n\u001b[1;32m    <a href='file:///home/spencersong/anaconda3/envs/meta/lib/python3.10/site-packages/pytorch_lightning/core/saving.py?line=140'>141</a>\u001b[0m \u001b[39mif\u001b[39;00m hparams_file \u001b[39mis\u001b[39;00m \u001b[39mnot\u001b[39;00m \u001b[39mNone\u001b[39;00m:\n\u001b[1;32m    <a href='file:///home/spencersong/anaconda3/envs/meta/lib/python3.10/site-packages/pytorch_lightning/core/saving.py?line=141'>142</a>\u001b[0m     extension \u001b[39m=\u001b[39m hparams_file\u001b[39m.\u001b[39msplit(\u001b[39m\"\u001b[39m\u001b[39m.\u001b[39m\u001b[39m\"\u001b[39m)[\u001b[39m-\u001b[39m\u001b[39m1\u001b[39m]\n",
      "File \u001b[0;32m~/anaconda3/envs/meta/lib/python3.10/site-packages/pytorch_lightning/utilities/cloud_io.py:47\u001b[0m, in \u001b[0;36mload\u001b[0;34m(path_or_url, map_location)\u001b[0m\n\u001b[1;32m     <a href='file:///home/spencersong/anaconda3/envs/meta/lib/python3.10/site-packages/pytorch_lightning/utilities/cloud_io.py?line=44'>45</a>\u001b[0m fs \u001b[39m=\u001b[39m get_filesystem(path_or_url)\n\u001b[1;32m     <a href='file:///home/spencersong/anaconda3/envs/meta/lib/python3.10/site-packages/pytorch_lightning/utilities/cloud_io.py?line=45'>46</a>\u001b[0m \u001b[39mwith\u001b[39;00m fs\u001b[39m.\u001b[39mopen(path_or_url, \u001b[39m\"\u001b[39m\u001b[39mrb\u001b[39m\u001b[39m\"\u001b[39m) \u001b[39mas\u001b[39;00m f:\n\u001b[0;32m---> <a href='file:///home/spencersong/anaconda3/envs/meta/lib/python3.10/site-packages/pytorch_lightning/utilities/cloud_io.py?line=46'>47</a>\u001b[0m     \u001b[39mreturn\u001b[39;00m torch\u001b[39m.\u001b[39;49mload(f, map_location\u001b[39m=\u001b[39;49mmap_location)\n",
      "File \u001b[0;32m~/anaconda3/envs/meta/lib/python3.10/site-packages/torch/serialization.py:705\u001b[0m, in \u001b[0;36mload\u001b[0;34m(f, map_location, pickle_module, **pickle_load_args)\u001b[0m\n\u001b[1;32m    <a href='file:///home/spencersong/anaconda3/envs/meta/lib/python3.10/site-packages/torch/serialization.py?line=699'>700</a>\u001b[0m \u001b[39mif\u001b[39;00m _is_zipfile(opened_file):\n\u001b[1;32m    <a href='file:///home/spencersong/anaconda3/envs/meta/lib/python3.10/site-packages/torch/serialization.py?line=700'>701</a>\u001b[0m     \u001b[39m# The zipfile reader is going to advance the current file position.\u001b[39;00m\n\u001b[1;32m    <a href='file:///home/spencersong/anaconda3/envs/meta/lib/python3.10/site-packages/torch/serialization.py?line=701'>702</a>\u001b[0m     \u001b[39m# If we want to actually tail call to torch.jit.load, we need to\u001b[39;00m\n\u001b[1;32m    <a href='file:///home/spencersong/anaconda3/envs/meta/lib/python3.10/site-packages/torch/serialization.py?line=702'>703</a>\u001b[0m     \u001b[39m# reset back to the original position.\u001b[39;00m\n\u001b[1;32m    <a href='file:///home/spencersong/anaconda3/envs/meta/lib/python3.10/site-packages/torch/serialization.py?line=703'>704</a>\u001b[0m     orig_position \u001b[39m=\u001b[39m opened_file\u001b[39m.\u001b[39mtell()\n\u001b[0;32m--> <a href='file:///home/spencersong/anaconda3/envs/meta/lib/python3.10/site-packages/torch/serialization.py?line=704'>705</a>\u001b[0m     \u001b[39mwith\u001b[39;00m _open_zipfile_reader(opened_file) \u001b[39mas\u001b[39;00m opened_zipfile:\n\u001b[1;32m    <a href='file:///home/spencersong/anaconda3/envs/meta/lib/python3.10/site-packages/torch/serialization.py?line=705'>706</a>\u001b[0m         \u001b[39mif\u001b[39;00m _is_torchscript_zip(opened_zipfile):\n\u001b[1;32m    <a href='file:///home/spencersong/anaconda3/envs/meta/lib/python3.10/site-packages/torch/serialization.py?line=706'>707</a>\u001b[0m             warnings\u001b[39m.\u001b[39mwarn(\u001b[39m\"\u001b[39m\u001b[39m'\u001b[39m\u001b[39mtorch.load\u001b[39m\u001b[39m'\u001b[39m\u001b[39m received a zip file that looks like a TorchScript archive\u001b[39m\u001b[39m\"\u001b[39m\n\u001b[1;32m    <a href='file:///home/spencersong/anaconda3/envs/meta/lib/python3.10/site-packages/torch/serialization.py?line=707'>708</a>\u001b[0m                           \u001b[39m\"\u001b[39m\u001b[39m dispatching to \u001b[39m\u001b[39m'\u001b[39m\u001b[39mtorch.jit.load\u001b[39m\u001b[39m'\u001b[39m\u001b[39m (call \u001b[39m\u001b[39m'\u001b[39m\u001b[39mtorch.jit.load\u001b[39m\u001b[39m'\u001b[39m\u001b[39m directly to\u001b[39m\u001b[39m\"\u001b[39m\n\u001b[1;32m    <a href='file:///home/spencersong/anaconda3/envs/meta/lib/python3.10/site-packages/torch/serialization.py?line=708'>709</a>\u001b[0m                           \u001b[39m\"\u001b[39m\u001b[39m silence this warning)\u001b[39m\u001b[39m\"\u001b[39m, \u001b[39mUserWarning\u001b[39;00m)\n",
      "File \u001b[0;32m~/anaconda3/envs/meta/lib/python3.10/site-packages/torch/serialization.py:243\u001b[0m, in \u001b[0;36m_open_zipfile_reader.__init__\u001b[0;34m(self, name_or_buffer)\u001b[0m\n\u001b[1;32m    <a href='file:///home/spencersong/anaconda3/envs/meta/lib/python3.10/site-packages/torch/serialization.py?line=241'>242</a>\u001b[0m \u001b[39mdef\u001b[39;00m \u001b[39m__init__\u001b[39m(\u001b[39mself\u001b[39m, name_or_buffer) \u001b[39m-\u001b[39m\u001b[39m>\u001b[39m \u001b[39mNone\u001b[39;00m:\n\u001b[0;32m--> <a href='file:///home/spencersong/anaconda3/envs/meta/lib/python3.10/site-packages/torch/serialization.py?line=242'>243</a>\u001b[0m     \u001b[39msuper\u001b[39m(_open_zipfile_reader, \u001b[39mself\u001b[39m)\u001b[39m.\u001b[39m\u001b[39m__init__\u001b[39m(torch\u001b[39m.\u001b[39;49m_C\u001b[39m.\u001b[39;49mPyTorchFileReader(name_or_buffer))\n",
      "\u001b[0;31mRuntimeError\u001b[0m: PytorchStreamReader failed reading zip archive: failed finding central directory"
     ]
    }
   ],
   "source": [
    "from src.models import InverseModel\n",
    "\n",
    "i_model = InverseModel.load_from_checkpoint(filepath, strict=False)\n",
    "i_model.eval()\n",
    "\n",
    "x = torch.from_numpy(np.array(torch.randn(1, 800) * 3)) #\n",
    "with torch.no_grad():\n",
    "    y_hat = i_model(x)\n",
    "y_hat.shape"
   ]
  },
  {
   "cell_type": "markdown",
   "metadata": {},
   "source": [
    "### Unexplored Params"
   ]
  },
  {
   "cell_type": "code",
   "execution_count": 86,
   "metadata": {},
   "outputs": [
    {
     "name": "stdout",
     "output_type": "stream",
     "text": [
      "700.0 42.0\n",
      "10.0 1.0\n"
     ]
    }
   ],
   "source": [
    "inc_data = torch.load(\n",
    "                Path(f\"{data_folder}/inconel-revised-raw-shuffled.pt\"))[\"laser_params\"]\n",
    "params = torch.load(\n",
    "                Path(f\"{data_folder}/stainless-steel-revised-shuffled.pt\"))[\"laser_params\"] #stainless-steel-revised-shuffled inconel-revised-raw-shuffled\n",
    "max_speed, max_spacing = params.max(0)[0][0].item(), params.max(0)[0][1].item()\n",
    "min_speed, min_spacing = params.min(0)[0][0].item(), params.min(0)[0][1].item()\n",
    "print(max_speed, max_spacing)\n",
    "print(min_speed, min_spacing)"
   ]
  },
  {
   "cell_type": "code",
   "execution_count": 87,
   "metadata": {},
   "outputs": [],
   "source": [
    "def denormalize_decode_result(y_hat, max_speed, max_spacing, min_speed, min_spacing):\n",
    "    \"\"\"input: 1,14 tensor\n",
    "        output: 1,3 tensor with wattage no longer one hot encoded\"\"\"\n",
    "    watts = [0.2, 0.3, 0.4, 0.5, 0.6, 0.7, 0.8, 0.9, 1.0, 1.1, 1.2, 1.3]\n",
    "\n",
    "    watt_arg = torch.argmax(y_hat[0][2:])\n",
    "    y_final = torch.empty(3, dtype=torch.float32)\n",
    "    y_final[0] = max_speed * y_hat[0][0] # TODO call the scale\n",
    "    y_final[1] = max_spacing * y_hat[0][1] # TODO call the scale\n",
    "    y_final[2]= watts[watt_arg]\n",
    "    return y_final"
   ]
  },
  {
   "cell_type": "code",
   "execution_count": 88,
   "metadata": {},
   "outputs": [],
   "source": [
    "#identify explored param space\n",
    "def get_unexplored_params(params, data, max_speed, max_spacing, min_speed, min_spacing, n = 196, seed = 1):\n",
    "        \"\"\"\n",
    "        finds unexplored parameters\n",
    "        inputs: tensor of [[], [], []], each size (1,14)\n",
    "        outputs: list of n unnormalized tuples each of size (1,3)\n",
    "        \"\"\"\n",
    "        param_space = [np.arange(min_speed, max_speed + 10, 10).tolist(), np.arange(min_spacing, max_spacing + 1, 1).tolist(), np.around(np.arange(.2, 1.4, .1), decimals = 1).tolist()]\n",
    "        #get set of all possible parameter combinations\n",
    "        param_all_comb = set(list(itertools.product(*param_space)))#[list(tup) for tup in itertools.product(*param_space)]\n",
    "        wattages = [0.2, 0.3, 0.4, 0.5, 0.6, 0.7, 0.8, 0.9, 1.0, 1.1, 1.2, 1.3]\n",
    "        #get set of all training parameter combinations -decoding of one hot encoding\n",
    "        train_param_space = set([tuple(x[:2] + [wattages[np.argmax(x[2:])]]) for x in data.tolist()]) #29988\n",
    "        #find the combination parameters NOT in the training space\n",
    "        unused_params = list(param_all_comb.symmetric_difference(train_param_space)) #len() = 5292\n",
    "        #sample n from unused parameter combinations\n",
    "        random.seed = seed\n",
    "        indices = random.sample(range(len(unused_params)), n)\n",
    "        return [unused_params[i] for i in indices]\n",
    "\n",
    "def unexplored_params_to_tensors(x):\n",
    "        new_x = []\n",
    "        wattage_idxs = {\n",
    "                0.2: 0,\n",
    "                0.3: 1,\n",
    "                0.4: 2,\n",
    "                0.5: 3,\n",
    "                0.6: 4,\n",
    "                0.7: 5,\n",
    "                0.8: 6,\n",
    "                0.9: 7,\n",
    "                1.0: 8,\n",
    "                1.1: 9,\n",
    "                1.2: 10,\n",
    "                1.3: 11,\n",
    "        }      \n",
    "        for i in x:\n",
    "                i = list(i)\n",
    "                holder = i[:2] + np.zeros(12).tolist()\n",
    "                holder[wattage_idxs[i[2]] + 2] = 1.0\n",
    "                new_x.append(holder)\n",
    "\n",
    "        laser_params = torch.FloatTensor(new_x)\n",
    "        for r in laser_params:\n",
    "                r[0]=r[0] / max_speed\n",
    "                r[1]=r[1] / max_spacing\n",
    "        return laser_params\n",
    "\n",
    "#[torch.cat((x[:2], torch.tensor(np.array([wattages[np.argmax(x[2:])]])))) for x in params]#[:5]\n",
    "#[x[:2] for x in params]#[:5]\n",
    "\n",
    "# train_param_space = denormalize_decode_result(params, max_speed, max_spacing, min_speed, min_spacing)\n",
    "# train_param_space\n"
   ]
  },
  {
   "cell_type": "code",
   "execution_count": 89,
   "metadata": {},
   "outputs": [],
   "source": [
    "ouput_unexplored = get_unexplored_params(params, inc_data, max_speed, max_spacing, min_speed, min_spacing, n = 1200, seed = 1)\n",
    "norm_unexplored_laser_params = unexplored_params_to_tensors(ouput_unexplored)"
   ]
  },
  {
   "cell_type": "code",
   "execution_count": 90,
   "metadata": {},
   "outputs": [
    {
     "data": {
      "text/plain": [
       "tensor([[0.6857, 0.7381, 0.0000,  ..., 0.0000, 1.0000, 0.0000],\n",
       "        [0.1000, 0.2619, 0.0000,  ..., 0.0000, 0.0000, 0.0000],\n",
       "        [0.2000, 1.0000, 0.0000,  ..., 0.0000, 1.0000, 0.0000],\n",
       "        ...,\n",
       "        [0.7714, 1.0000, 0.0000,  ..., 0.0000, 0.0000, 1.0000],\n",
       "        [0.1857, 0.7381, 0.0000,  ..., 0.0000, 0.0000, 0.0000],\n",
       "        [0.7571, 0.2381, 0.0000,  ..., 0.0000, 0.0000, 0.0000]])"
      ]
     },
     "execution_count": 90,
     "metadata": {},
     "output_type": "execute_result"
    }
   ],
   "source": [
    "norm_unexplored_laser_params"
   ]
  },
  {
   "cell_type": "code",
   "execution_count": null,
   "metadata": {},
   "outputs": [],
   "source": []
  },
  {
   "cell_type": "markdown",
   "metadata": {},
   "source": [
    "# Inverse Model Only\n"
   ]
  },
  {
   "cell_type": "code",
   "execution_count": 5,
   "metadata": {},
   "outputs": [],
   "source": [
    "from src.models import InverseModel"
   ]
  },
  {
   "cell_type": "code",
   "execution_count": 6,
   "metadata": {},
   "outputs": [
    {
     "name": "stdout",
     "output_type": "stream",
     "text": [
      "../local_work/saved_best/best_I-ann-inconel-2022-07-05_14-49.ckpt\n"
     ]
    }
   ],
   "source": [
    "filepath = Path(\n",
    "    f\"{work_folder}/saved_best/best_I-resnet1d-stainless-2022-07-11_01-00\") #CHANGEME inconel vs stainless best model\n",
    "print(filepath)\n",
    "if not Path.is_file(filepath):\n",
    "    raise Exception(f'Model file does not exist at {filepath}!')"
   ]
  },
  {
   "cell_type": "code",
   "execution_count": 7,
   "metadata": {},
   "outputs": [
    {
     "ename": "KeyError",
     "evalue": "'inconel'",
     "output_type": "error",
     "traceback": [
      "\u001b[0;31m---------------------------------------------------------------------------\u001b[0m",
      "\u001b[0;31mKeyError\u001b[0m                                  Traceback (most recent call last)",
      "\u001b[1;32m/home/spencersong/metamaterials_ai/src/notebooks/metrics.ipynb Cell 16'\u001b[0m in \u001b[0;36m<cell line: 1>\u001b[0;34m()\u001b[0m\n\u001b[0;32m----> <a href='vscode-notebook-cell://ssh-remote%2B128.3.29.45/home/spencersong/metamaterials_ai/src/notebooks/metrics.ipynb#ch0000012vscode-remote?line=0'>1</a>\u001b[0m i_model \u001b[39m=\u001b[39m InverseModel\u001b[39m.\u001b[39;49mload_from_checkpoint(filepath, strict\u001b[39m=\u001b[39;49m\u001b[39mFalse\u001b[39;49;00m)\n\u001b[1;32m      <a href='vscode-notebook-cell://ssh-remote%2B128.3.29.45/home/spencersong/metamaterials_ai/src/notebooks/metrics.ipynb#ch0000012vscode-remote?line=1'>2</a>\u001b[0m i_model[\u001b[39m\"\u001b[39m\u001b[39mhyper_parameters\u001b[39m\u001b[39m\"\u001b[39m]\n\u001b[1;32m      <a href='vscode-notebook-cell://ssh-remote%2B128.3.29.45/home/spencersong/metamaterials_ai/src/notebooks/metrics.ipynb#ch0000012vscode-remote?line=2'>3</a>\u001b[0m i_model\u001b[39m.\u001b[39meval()\n",
      "File \u001b[0;32m~/anaconda3/envs/meta/lib/python3.10/site-packages/pytorch_lightning/core/saving.py:161\u001b[0m, in \u001b[0;36mModelIO.load_from_checkpoint\u001b[0;34m(cls, checkpoint_path, map_location, hparams_file, strict, **kwargs)\u001b[0m\n\u001b[1;32m    <a href='file:///home/spencersong/anaconda3/envs/meta/lib/python3.10/site-packages/pytorch_lightning/core/saving.py?line=157'>158</a>\u001b[0m \u001b[39m# override the hparams with values that were passed in\u001b[39;00m\n\u001b[1;32m    <a href='file:///home/spencersong/anaconda3/envs/meta/lib/python3.10/site-packages/pytorch_lightning/core/saving.py?line=158'>159</a>\u001b[0m checkpoint[\u001b[39mcls\u001b[39m\u001b[39m.\u001b[39mCHECKPOINT_HYPER_PARAMS_KEY]\u001b[39m.\u001b[39mupdate(kwargs)\n\u001b[0;32m--> <a href='file:///home/spencersong/anaconda3/envs/meta/lib/python3.10/site-packages/pytorch_lightning/core/saving.py?line=160'>161</a>\u001b[0m model \u001b[39m=\u001b[39m \u001b[39mcls\u001b[39;49m\u001b[39m.\u001b[39;49m_load_model_state(checkpoint, strict\u001b[39m=\u001b[39;49mstrict, \u001b[39m*\u001b[39;49m\u001b[39m*\u001b[39;49mkwargs)\n\u001b[1;32m    <a href='file:///home/spencersong/anaconda3/envs/meta/lib/python3.10/site-packages/pytorch_lightning/core/saving.py?line=161'>162</a>\u001b[0m \u001b[39mreturn\u001b[39;00m model\n",
      "File \u001b[0;32m~/anaconda3/envs/meta/lib/python3.10/site-packages/pytorch_lightning/core/saving.py:203\u001b[0m, in \u001b[0;36mModelIO._load_model_state\u001b[0;34m(cls, checkpoint, strict, **cls_kwargs_new)\u001b[0m\n\u001b[1;32m    <a href='file:///home/spencersong/anaconda3/envs/meta/lib/python3.10/site-packages/pytorch_lightning/core/saving.py?line=198'>199</a>\u001b[0m \u001b[39mif\u001b[39;00m \u001b[39mnot\u001b[39;00m cls_spec\u001b[39m.\u001b[39mvarkw:\n\u001b[1;32m    <a href='file:///home/spencersong/anaconda3/envs/meta/lib/python3.10/site-packages/pytorch_lightning/core/saving.py?line=199'>200</a>\u001b[0m     \u001b[39m# filter kwargs according to class init unless it allows any argument via kwargs\u001b[39;00m\n\u001b[1;32m    <a href='file:///home/spencersong/anaconda3/envs/meta/lib/python3.10/site-packages/pytorch_lightning/core/saving.py?line=200'>201</a>\u001b[0m     _cls_kwargs \u001b[39m=\u001b[39m {k: v \u001b[39mfor\u001b[39;00m k, v \u001b[39min\u001b[39;00m _cls_kwargs\u001b[39m.\u001b[39mitems() \u001b[39mif\u001b[39;00m k \u001b[39min\u001b[39;00m cls_init_args_name}\n\u001b[0;32m--> <a href='file:///home/spencersong/anaconda3/envs/meta/lib/python3.10/site-packages/pytorch_lightning/core/saving.py?line=202'>203</a>\u001b[0m model \u001b[39m=\u001b[39m \u001b[39mcls\u001b[39;49m(\u001b[39m*\u001b[39;49m\u001b[39m*\u001b[39;49m_cls_kwargs)\n\u001b[1;32m    <a href='file:///home/spencersong/anaconda3/envs/meta/lib/python3.10/site-packages/pytorch_lightning/core/saving.py?line=204'>205</a>\u001b[0m \u001b[39m# give model a chance to load something\u001b[39;00m\n\u001b[1;32m    <a href='file:///home/spencersong/anaconda3/envs/meta/lib/python3.10/site-packages/pytorch_lightning/core/saving.py?line=205'>206</a>\u001b[0m model\u001b[39m.\u001b[39mon_load_checkpoint(checkpoint)\n",
      "File \u001b[0;32m~/metamaterials_ai/src/models/inverse_model.py:24\u001b[0m, in \u001b[0;36mInverseModel.__init__\u001b[0;34m(self, config, direct_model)\u001b[0m\n\u001b[1;32m     <a href='file:///home/spencersong/metamaterials_ai/src/models/inverse_model.py?line=18'>19</a>\u001b[0m \u001b[39mdef\u001b[39;00m \u001b[39m__init__\u001b[39m(\n\u001b[1;32m     <a href='file:///home/spencersong/metamaterials_ai/src/models/inverse_model.py?line=19'>20</a>\u001b[0m     \u001b[39mself\u001b[39m,\n\u001b[1;32m     <a href='file:///home/spencersong/metamaterials_ai/src/models/inverse_model.py?line=20'>21</a>\u001b[0m     config: Config,\n\u001b[1;32m     <a href='file:///home/spencersong/metamaterials_ai/src/models/inverse_model.py?line=21'>22</a>\u001b[0m     direct_model: Optional[DirectModel] \u001b[39m=\u001b[39m \u001b[39mNone\u001b[39;00m,\n\u001b[1;32m     <a href='file:///home/spencersong/metamaterials_ai/src/models/inverse_model.py?line=22'>23</a>\u001b[0m ):\n\u001b[0;32m---> <a href='file:///home/spencersong/metamaterials_ai/src/models/inverse_model.py?line=23'>24</a>\u001b[0m     config \u001b[39m=\u001b[39m Config\u001b[39m.\u001b[39;49mparse_obj(config) \u001b[39mif\u001b[39;00m \u001b[39mtype\u001b[39m(config) \u001b[39mis\u001b[39;00m \u001b[39mdict\u001b[39m \u001b[39melse\u001b[39;00m config\n\u001b[1;32m     <a href='file:///home/spencersong/metamaterials_ai/src/models/inverse_model.py?line=25'>26</a>\u001b[0m     \u001b[39mself\u001b[39m\u001b[39m.\u001b[39mmodel_config \u001b[39m=\u001b[39m ModelConfig(\n\u001b[1;32m     <a href='file:///home/spencersong/metamaterials_ai/src/models/inverse_model.py?line=26'>27</a>\u001b[0m         arch\u001b[39m=\u001b[39mconfig\u001b[39m.\u001b[39minverse_arch,\n\u001b[1;32m     <a href='file:///home/spencersong/metamaterials_ai/src/models/inverse_model.py?line=27'>28</a>\u001b[0m         direction\u001b[39m=\u001b[39m\u001b[39m\"\u001b[39m\u001b[39minverse\u001b[39m\u001b[39m\"\u001b[39m,\n\u001b[1;32m     <a href='file:///home/spencersong/metamaterials_ai/src/models/inverse_model.py?line=28'>29</a>\u001b[0m         num_classes\u001b[39m=\u001b[39m\u001b[39m14\u001b[39m,\n\u001b[1;32m     <a href='file:///home/spencersong/metamaterials_ai/src/models/inverse_model.py?line=29'>30</a>\u001b[0m         in_channels\u001b[39m=\u001b[39mconfig\u001b[39m.\u001b[39mnum_wavelens,\n\u001b[1;32m     <a href='file:///home/spencersong/metamaterials_ai/src/models/inverse_model.py?line=30'>31</a>\u001b[0m     )\n\u001b[1;32m     <a href='file:///home/spencersong/metamaterials_ai/src/models/inverse_model.py?line=31'>32</a>\u001b[0m     \u001b[39msuper\u001b[39m()\u001b[39m.\u001b[39m\u001b[39m__init__\u001b[39m(config, direction\u001b[39m=\u001b[39m\u001b[39m\"\u001b[39m\u001b[39minverse\u001b[39m\u001b[39m\"\u001b[39m)\n",
      "File \u001b[0;32m~/anaconda3/envs/meta/lib/python3.10/site-packages/pydantic/main.py:521\u001b[0m, in \u001b[0;36mpydantic.main.BaseModel.parse_obj\u001b[0;34m()\u001b[0m\n",
      "File \u001b[0;32m~/metamaterials_ai/src/config.py:43\u001b[0m, in \u001b[0;36mConfig.__init__\u001b[0;34m(self, **data)\u001b[0m\n\u001b[1;32m     <a href='file:///home/spencersong/metamaterials_ai/src/config.py?line=39'>40</a>\u001b[0m parser \u001b[39m=\u001b[39m ConfigParser()\n\u001b[1;32m     <a href='file:///home/spencersong/metamaterials_ai/src/config.py?line=40'>41</a>\u001b[0m parser\u001b[39m.\u001b[39mread(\n\u001b[1;32m     <a href='file:///home/spencersong/metamaterials_ai/src/config.py?line=41'>42</a>\u001b[0m     \u001b[39mf\u001b[39m\u001b[39m'\u001b[39m\u001b[39m{\u001b[39;00m\u001b[39mself\u001b[39m\u001b[39m.\u001b[39mconfigs_folder\u001b[39m}\u001b[39;00m\u001b[39m/\u001b[39m\u001b[39m{\u001b[39;00m\u001b[39mself\u001b[39m\u001b[39m.\u001b[39mdirect_arch\u001b[39m}\u001b[39;00m\u001b[39m.cfg\u001b[39m\u001b[39m'\u001b[39m)\n\u001b[0;32m---> <a href='file:///home/spencersong/metamaterials_ai/src/config.py?line=42'>43</a>\u001b[0m configs \u001b[39m=\u001b[39m parser[\u001b[39mself\u001b[39;49m\u001b[39m.\u001b[39;49msubstrate]\n\u001b[1;32m     <a href='file:///home/spencersong/metamaterials_ai/src/config.py?line=44'>45</a>\u001b[0m \u001b[39mself\u001b[39m\u001b[39m.\u001b[39mdirect_lr \u001b[39m=\u001b[39m \u001b[39mself\u001b[39m\u001b[39m.\u001b[39mdirect_lr \u001b[39mor\u001b[39;00m \u001b[39mfloat\u001b[39m(configs[\u001b[39m'\u001b[39m\u001b[39mdirect_lr\u001b[39m\u001b[39m'\u001b[39m]) \u001b[39mor\u001b[39;00m \u001b[39m1e-3\u001b[39m\n\u001b[1;32m     <a href='file:///home/spencersong/metamaterials_ai/src/config.py?line=45'>46</a>\u001b[0m \u001b[39mself\u001b[39m\u001b[39m.\u001b[39mdirect_batch_size \u001b[39m=\u001b[39m \u001b[39mself\u001b[39m\u001b[39m.\u001b[39mdirect_batch_size \u001b[39mor\u001b[39;00m \u001b[39mint\u001b[39m(\n\u001b[1;32m     <a href='file:///home/spencersong/metamaterials_ai/src/config.py?line=46'>47</a>\u001b[0m     configs[\u001b[39m'\u001b[39m\u001b[39mdirect_batch_size\u001b[39m\u001b[39m'\u001b[39m]) \u001b[39mor\u001b[39;00m \u001b[39m2\u001b[39m\u001b[39m*\u001b[39m\u001b[39m*\u001b[39m\u001b[39m7\u001b[39m\n",
      "File \u001b[0;32m~/anaconda3/envs/meta/lib/python3.10/configparser.py:964\u001b[0m, in \u001b[0;36mRawConfigParser.__getitem__\u001b[0;34m(self, key)\u001b[0m\n\u001b[1;32m    <a href='file:///home/spencersong/anaconda3/envs/meta/lib/python3.10/configparser.py?line=961'>962</a>\u001b[0m \u001b[39mdef\u001b[39;00m \u001b[39m__getitem__\u001b[39m(\u001b[39mself\u001b[39m, key):\n\u001b[1;32m    <a href='file:///home/spencersong/anaconda3/envs/meta/lib/python3.10/configparser.py?line=962'>963</a>\u001b[0m     \u001b[39mif\u001b[39;00m key \u001b[39m!=\u001b[39m \u001b[39mself\u001b[39m\u001b[39m.\u001b[39mdefault_section \u001b[39mand\u001b[39;00m \u001b[39mnot\u001b[39;00m \u001b[39mself\u001b[39m\u001b[39m.\u001b[39mhas_section(key):\n\u001b[0;32m--> <a href='file:///home/spencersong/anaconda3/envs/meta/lib/python3.10/configparser.py?line=963'>964</a>\u001b[0m         \u001b[39mraise\u001b[39;00m \u001b[39mKeyError\u001b[39;00m(key)\n\u001b[1;32m    <a href='file:///home/spencersong/anaconda3/envs/meta/lib/python3.10/configparser.py?line=964'>965</a>\u001b[0m     \u001b[39mreturn\u001b[39;00m \u001b[39mself\u001b[39m\u001b[39m.\u001b[39m_proxies[key]\n",
      "\u001b[0;31mKeyError\u001b[0m: 'inconel'"
     ]
    }
   ],
   "source": [
    "i_model = InverseModel.load_from_checkpoint(filepath, strict=False)\n",
    "i_model.eval()\n",
    "\n",
    "x = torch.from_numpy(np.array(torch.randn(1, 800) * 3)) #\n",
    "with torch.no_grad():\n",
    "    y_hat = i_model(x)\n",
    "y_hat.shape"
   ]
  },
  {
   "cell_type": "code",
   "execution_count": 94,
   "metadata": {},
   "outputs": [
    {
     "name": "stdout",
     "output_type": "stream",
     "text": [
      "tensor([ 4.7735, 36.7123,  1.1000])\n"
     ]
    }
   ],
   "source": [
    "# y_final2 = onehot_to_continuous2(y_hat)\n",
    "print(denormalize_decode_result(y_hat,max_speed, max_spacing, min_speed, min_spacing))\n",
    "\n",
    "#if you want hardcoded max, min values instead\n",
    "#print(denormalize_decode_result(y_hat,700.0, 42.0, 10.0, 1.0))"
   ]
  },
  {
   "cell_type": "code",
   "execution_count": null,
   "metadata": {},
   "outputs": [],
   "source": []
  },
  {
   "cell_type": "markdown",
   "metadata": {},
   "source": [
    "# Direct Model Only\n"
   ]
  },
  {
   "cell_type": "code",
   "execution_count": 95,
   "metadata": {},
   "outputs": [],
   "source": [
    "from src.models import DirectModel"
   ]
  },
  {
   "cell_type": "code",
   "execution_count": 96,
   "metadata": {},
   "outputs": [
    {
     "name": "stdout",
     "output_type": "stream",
     "text": [
      "../local_work/saved_best/best_D-ann-inconel-2022-07-05_14-39.ckpt\n"
     ]
    }
   ],
   "source": [
    "filepath = Path(\n",
    "    f\"{work_folder}/saved_best/best_D-ann-inconel-2022-07-05_14-39.ckpt\")\n",
    "print(filepath)\n",
    "if not Path.is_file(filepath):\n",
    "    raise Exception(f'Model file does not exist at {filepath}!')"
   ]
  },
  {
   "cell_type": "code",
   "execution_count": 97,
   "metadata": {},
   "outputs": [],
   "source": [
    "d_model = DirectModel.load_from_checkpoint(filepath)\n",
    "d_model.eval()\n",
    "# x = torch.randn(1, 14)\n",
    "direct_y_hats = []\n",
    "# intersect_preds = []\n",
    "for i in norm_unexplored_laser_params:\n",
    "    with torch.no_grad():\n",
    "        direct_y_hats.append(d_model(i.reshape(1,14)))"
   ]
  },
  {
   "cell_type": "markdown",
   "metadata": {},
   "source": [
    "### Unexplored Direct --> Indirect"
   ]
  },
  {
   "cell_type": "code",
   "execution_count": 98,
   "metadata": {},
   "outputs": [
    {
     "name": "stdout",
     "output_type": "stream",
     "text": [
      "../local_work/saved_best/best_I-ann-inconel-2022-07-05_14-49.ckpt\n"
     ]
    }
   ],
   "source": [
    "filepath = Path(\n",
    "    f\"{work_folder}/saved_best/best_I-ann-inconel-2022-07-05_14-49.ckpt\") #CHANGEME inconel vs stainless best model\n",
    "print(filepath)\n",
    "if not Path.is_file(filepath):\n",
    "    raise Exception(f'Model file does not exist at {filepath}!')"
   ]
  },
  {
   "cell_type": "code",
   "execution_count": 99,
   "metadata": {},
   "outputs": [],
   "source": [
    "model = InverseModel.load_from_checkpoint(filepath, strict=False)\n",
    "model.eval()\n",
    "\n",
    "#x = torch.from_numpy(np.array(torch.ra|ndn(1, 800) * 3)) #\n",
    "param_preds = []\n",
    "for i in direct_y_hats:\n",
    "    with torch.no_grad():\n",
    "        param_preds.append(model(i))#model(i))"
   ]
  },
  {
   "cell_type": "code",
   "execution_count": 100,
   "metadata": {},
   "outputs": [],
   "source": [
    "params = torch.load(\n",
    "                Path(f\"{data_folder}/inconel-revised-raw-shuffled.pt\"))[\"laser_params\"] #stainless-steel-revised-shuffled inconel-revised-raw-shuffled\n",
    "max_speed, max_spacing = params.max(0)[0][0].item(), params.max(0)[0][1].item()\n",
    "min_speed, min_spacing = params.min(0)[0][0].item(), params.min(0)[0][1].item()\n",
    "decoded_preds = [denormalize_decode_result(pred, max_speed, max_spacing, min_speed, min_spacing) for pred in param_preds]\n",
    "for r in decoded_preds:\n",
    "    r[0]=torch.round(r[0], decimals = -1)\n",
    "    r[1]=torch.round(r[1], decimals = 0)"
   ]
  },
  {
   "cell_type": "code",
   "execution_count": 101,
   "metadata": {},
   "outputs": [
    {
     "name": "stdout",
     "output_type": "stream",
     "text": [
      "591\n",
      "352\n"
     ]
    },
    {
     "data": {
      "text/plain": [
       "239"
      ]
     },
     "execution_count": 101,
     "metadata": {},
     "output_type": "execute_result"
    }
   ],
   "source": [
    "param_space = [np.arange(min_speed, max_speed + 10, 10).tolist(), np.arange(min_spacing, max_spacing + 1, 1).tolist(), np.around(np.arange(.2, 1.4, .1), decimals = 1).tolist()]\n",
    "#get set of all possible parameter combinations\n",
    "param_all_comb = set(list(itertools.product(*param_space)))\n",
    "wattages = [0.2, 0.3, 0.4, 0.5, 0.6, 0.7, 0.8, 0.9, 1.0, 1.1, 1.2, 1.3]\n",
    "space_params = set([tuple(np.around(x.tolist(), decimals= 1)) for x in decoded_preds]) #29988\n",
    "        #find the combination parameters NOT in the training space\n",
    "overlaps = list(param_all_comb.intersection(space_params)) #len() = 5292\n",
    "unused_params = list(set(overlaps).symmetric_difference(space_params)) #len() = 5292\n",
    "#convert preds to set\n",
    "print(len(space_params))\n",
    "print(len(overlaps)) #332\n",
    "len(unused_params) #216\n",
    "\n"
   ]
  },
  {
   "cell_type": "code",
   "execution_count": 63,
   "metadata": {},
   "outputs": [
    {
     "data": {
      "text/plain": [
       "[(570.0, 13.0, 1.2),\n",
       " (330.0, 13.0, 1.2),\n",
       " (610.0, 14.0, 1.2),\n",
       " (340.0, 10.0, 1.2),\n",
       " (550.0, 11.0, 1.2),\n",
       " (510.0, 9.0, 1.2),\n",
       " (500.0, 7.0, 1.2),\n",
       " (660.0, 9.0, 1.2),\n",
       " (370.0, 12.0, 1.2),\n",
       " (440.0, 9.0, 1.2),\n",
       " (650.0, 10.0, 1.2),\n",
       " (490.0, 13.0, 1.2),\n",
       " (220.0, 12.0, 1.2),\n",
       " (610.0, 13.0, 1.2),\n",
       " (420.0, 7.0, 1.2),\n",
       " (180.0, 10.0, 1.2),\n",
       " (640.0, 8.0, 1.2),\n",
       " (470.0, 11.0, 1.2),\n",
       " (460.0, 8.0, 1.2),\n",
       " (340.0, 13.0, 1.2),\n",
       " (510.0, 12.0, 1.2),\n",
       " (580.0, 9.0, 1.2),\n",
       " (100.0, 10.0, 1.2),\n",
       " (280.0, 9.0, 1.2),\n",
       " (260.0, 11.0, 1.2),\n",
       " (450.0, 14.0, 1.2),\n",
       " (630.0, 13.0, 1.2),\n",
       " (440.0, 12.0, 1.2),\n",
       " (140.0, 12.0, 1.2),\n",
       " (420.0, 10.0, 1.2),\n",
       " (360.0, 10.0, 1.2),\n",
       " (670.0, 11.0, 0.5),\n",
       " (170.0, 8.0, 1.2),\n",
       " (100.0, 13.0, 1.2),\n",
       " (380.0, 9.0, 1.2),\n",
       " (520.0, 12.0, 1.2),\n",
       " (500.0, 10.0, 1.2),\n",
       " (160.0, 14.0, 1.2),\n",
       " (200.0, 10.0, 1.2),\n",
       " (550.0, 14.0, 1.2),\n",
       " (620.0, 11.0, 1.2),\n",
       " (130.0, 9.0, 1.2),\n",
       " (360.0, 13.0, 1.2),\n",
       " (480.0, 13.0, 1.2),\n",
       " (640.0, 11.0, 1.2),\n",
       " (0.0, 28.0, 0.8),\n",
       " (180.0, 13.0, 1.2),\n",
       " (600.0, 9.0, 1.2),\n",
       " (570.0, 8.0, 1.2),\n",
       " (460.0, 11.0, 1.2),\n",
       " (650.0, 13.0, 1.2),\n",
       " (300.0, 14.0, 1.2),\n",
       " (390.0, 9.0, 1.2),\n",
       " (280.0, 12.0, 1.2),\n",
       " (670.0, 7.0, 1.2),\n",
       " (400.0, 13.0, 1.2),\n",
       " (610.0, 8.0, 1.2),\n",
       " (380.0, 11.0, 1.2),\n",
       " (540.0, 12.0, 1.2),\n",
       " (660.0, 12.0, 1.2),\n",
       " (400.0, 14.0, 1.2),\n",
       " (510.0, 7.0, 1.2),\n",
       " (590.0, 7.0, 1.2),\n",
       " (380.0, 12.0, 1.2),\n",
       " (500.0, 13.0, 1.2),\n",
       " (590.0, 8.0, 1.2),\n",
       " (620.0, 14.0, 1.2),\n",
       " (130.0, 12.0, 1.2),\n",
       " (320.0, 14.0, 1.2),\n",
       " (600.0, 12.0, 1.2),\n",
       " (530.0, 9.0, 1.2),\n",
       " (230.0, 9.0, 1.2),\n",
       " (520.0, 7.0, 1.2),\n",
       " (580.0, 13.0, 1.2),\n",
       " (90.0, 12.0, 1.2),\n",
       " (560.0, 11.0, 1.2),\n",
       " (430.0, 13.0, 1.2),\n",
       " (630.0, 8.0, 1.2),\n",
       " (370.0, 10.0, 1.2),\n",
       " (550.0, 9.0, 1.2),\n",
       " (330.0, 8.0, 1.2),\n",
       " (210.0, 13.0, 1.2),\n",
       " (360.0, 8.0, 1.2),\n",
       " (420.0, 14.0, 1.2),\n",
       " (480.0, 8.0, 1.2),\n",
       " (490.0, 11.0, 1.2),\n",
       " (250.0, 14.0, 1.2),\n",
       " (190.0, 11.0, 1.2),\n",
       " (530.0, 12.0, 1.2),\n",
       " (470.0, 9.0, 1.2),\n",
       " (650.0, 8.0, 1.2),\n",
       " (310.0, 12.0, 1.2),\n",
       " (510.0, 10.0, 1.2),\n",
       " (170.0, 14.0, 1.2),\n",
       " (350.0, 13.0, 1.2),\n",
       " (630.0, 11.0, 1.2),\n",
       " (640.0, 14.0, 1.2),\n",
       " (570.0, 11.0, 1.2),\n",
       " (330.0, 11.0, 1.2),\n",
       " (460.0, 14.0, 1.2),\n",
       " (450.0, 12.0, 1.2),\n",
       " (190.0, 14.0, 1.2),\n",
       " (660.0, 7.0, 1.2),\n",
       " (670.0, 10.0, 1.2),\n",
       " (470.0, 12.0, 1.2),\n",
       " (90.0, 14.0, 1.2),\n",
       " (560.0, 13.0, 1.2),\n",
       " (590.0, 13.0, 1.2),\n",
       " (520.0, 10.0, 1.2),\n",
       " (110.0, 14.0, 1.2),\n",
       " (500.0, 8.0, 1.2),\n",
       " (160.0, 12.0, 1.2),\n",
       " (340.0, 11.0, 1.2),\n",
       " (80.0, 13.0, 1.2),\n",
       " (550.0, 12.0, 1.2),\n",
       " (230.0, 14.0, 1.2),\n",
       " (620.0, 9.0, 1.2),\n",
       " (600.0, 7.0, 1.2),\n",
       " (370.0, 13.0, 1.2),\n",
       " (650.0, 11.0, 1.2),\n",
       " (300.0, 12.0, 1.2),\n",
       " (580.0, 8.0, 1.2),\n",
       " (390.0, 7.0, 1.2),\n",
       " (120.0, 13.0, 1.2),\n",
       " (630.0, 14.0, 1.2),\n",
       " (670.0, 9.0, 0.5),\n",
       " (420.0, 9.0, 1.2),\n",
       " (100.0, 11.0, 1.2),\n",
       " (120.0, 14.0, 1.2),\n",
       " (540.0, 10.0, 1.2),\n",
       " (660.0, 10.0, 1.2),\n",
       " (170.0, 9.0, 1.2),\n",
       " (520.0, 13.0, 1.2),\n",
       " (480.0, 11.0, 1.2),\n",
       " (560.0, 9.0, 1.2),\n",
       " (220.0, 13.0, 1.2),\n",
       " (640.0, 9.0, 1.2),\n",
       " (570.0, 6.0, 1.2),\n",
       " (340.0, 14.0, 1.2),\n",
       " (620.0, 12.0, 1.2),\n",
       " (510.0, 13.0, 1.2),\n",
       " (660.0, 13.0, 1.2),\n",
       " (410.0, 7.0, 1.2),\n",
       " (600.0, 10.0, 1.2),\n",
       " (560.0, 8.0, 1.2),\n",
       " (440.0, 13.0, 1.2),\n",
       " (650.0, 14.0, 1.2),\n",
       " (580.0, 11.0, 1.2),\n",
       " (420.0, 11.0, 1.2),\n",
       " (570.0, 9.0, 1.2),\n",
       " (350.0, 8.0, 1.2),\n",
       " (400.0, 12.0, 1.2),\n",
       " (550.0, 7.0, 1.2),\n",
       " (670.0, 12.0, 0.5),\n",
       " (210.0, 11.0, 1.2),\n",
       " (100.0, 14.0, 1.2),\n",
       " (670.0, 8.0, 1.2),\n",
       " (540.0, 13.0, 1.2),\n",
       " (500.0, 11.0, 1.2),\n",
       " (310.0, 10.0, 1.2),\n",
       " (610.0, 9.0, 1.2),\n",
       " (480.0, 14.0, 1.2),\n",
       " (290.0, 8.0, 1.2),\n",
       " (470.0, 7.0, 1.2),\n",
       " (640.0, 12.0, 1.2),\n",
       " (180.0, 14.0, 1.2),\n",
       " (460.0, 12.0, 1.2),\n",
       " (610.0, 10.0, 1.2),\n",
       " (380.0, 13.0, 1.2),\n",
       " (450.0, 10.0, 1.2),\n",
       " (390.0, 10.0, 1.2),\n",
       " (150.0, 10.0, 1.2),\n",
       " (680.0, 8.0, 0.5),\n",
       " (280.0, 13.0, 1.2),\n",
       " (310.0, 13.0, 1.2),\n",
       " (130.0, 13.0, 1.2),\n",
       " (680.0, 9.0, 0.5),\n",
       " (70.0, 13.0, 1.2),\n",
       " (220.0, 8.0, 1.2),\n",
       " (600.0, 13.0, 1.2),\n",
       " (570.0, 12.0, 1.2),\n",
       " (530.0, 10.0, 1.2),\n",
       " (340.0, 9.0, 1.2),\n",
       " (110.0, 12.0, 1.2),\n",
       " (620.0, 7.0, 1.2),\n",
       " (510.0, 8.0, 1.2),\n",
       " (630.0, 9.0, 1.2),\n",
       " (370.0, 11.0, 1.2),\n",
       " (650.0, 9.0, 1.2),\n",
       " (610.0, 12.0, 1.2),\n",
       " (350.0, 14.0, 1.2),\n",
       " (470.0, 10.0, 1.2),\n",
       " (590.0, 11.0, 1.2),\n",
       " (520.0, 8.0, 1.2),\n",
       " (260.0, 10.0, 1.2),\n",
       " (450.0, 13.0, 1.2)]"
      ]
     },
     "execution_count": 63,
     "metadata": {},
     "output_type": "execute_result"
    }
   ],
   "source": [
    "#send these to minok\n",
    "count_samples_to_minok = 196\n",
    "unused_params[:count_samples_to_minok]#overlaps)\n",
    "#overlaps[:195]\n"
   ]
  },
  {
   "cell_type": "code",
   "execution_count": 256,
   "metadata": {},
   "outputs": [
    {
     "data": {
      "text/plain": [
       "tensor([[600.,  34.,   0.,  ...,   0.,   0.,   0.],\n",
       "        [590.,  14.,   0.,  ...,   0.,   1.,   0.],\n",
       "        [580.,  31.,   0.,  ...,   0.,   0.,   0.],\n",
       "        ...,\n",
       "        [640.,  16.,   0.,  ...,   0.,   1.,   0.],\n",
       "        [520.,  38.,   0.,  ...,   0.,   0.,   0.],\n",
       "        [300.,  37.,   0.,  ...,   0.,   0.,   0.]], dtype=torch.float64)"
      ]
     },
     "execution_count": 256,
     "metadata": {},
     "output_type": "execute_result"
    }
   ],
   "source": [
    "#intersecting parameters!!!!!!!\n",
    "intersect_x = []\n",
    "wattage_idxs = {\n",
    "        0.2: 0,\n",
    "        0.3: 1,\n",
    "        0.4: 2,\n",
    "        0.5: 3,\n",
    "        0.6: 4,\n",
    "        0.7: 5,\n",
    "        0.8: 6,\n",
    "        0.9: 7,\n",
    "        1.0: 8,\n",
    "        1.1: 9,\n",
    "        1.2: 10,\n",
    "        1.3: 11,\n",
    "}      \n",
    "for i in unused_params:\n",
    "        i = list(i)\n",
    "        holder = i[:2] + np.zeros(12).tolist()\n",
    "        holder[wattage_idxs[i[2]] + 2] = 1.0\n",
    "        intersect_x.append(holder)\n",
    "output = torch.tensor(intersect_x)\n",
    "output"
   ]
  },
  {
   "cell_type": "code",
   "execution_count": 136,
   "metadata": {},
   "outputs": [
    {
     "name": "stdout",
     "output_type": "stream",
     "text": [
      "12058\n",
      "19562\n",
      "19609\n"
     ]
    }
   ],
   "source": [
    "for i in range(len(params)):\n",
    "    curr = params[i].flatten().tolist()\n",
    "    if curr in output.tolist():\n",
    "        print(i)"
   ]
  },
  {
   "cell_type": "code",
   "execution_count": 149,
   "metadata": {},
   "outputs": [],
   "source": [
    "from utils import rmse\n",
    "# params[12058]\n",
    "data = torch.load(\n",
    "                Path(f\"{data_folder}/stainless-steel-revised-shuffled.pt\"))\n",
    "\n",
    "intersect_train_emiss = []\n",
    "intersect_train_emiss.append(data[\"emissivity\"][12058])\n",
    "intersect_train_emiss.append(data[\"emissivity\"][19562])\n",
    "intersect_train_emiss.append(data[\"emissivity\"][19609])"
   ]
  },
  {
   "cell_type": "markdown",
   "metadata": {},
   "source": [
    "# ONNX"
   ]
  },
  {
   "cell_type": "code",
   "execution_count": null,
   "metadata": {},
   "outputs": [],
   "source": [
    "# import onnxruntime \n",
    "# from pathlib import Path\n",
    "# import numpy as np\n",
    "# import os"
   ]
  },
  {
   "cell_type": "code",
   "execution_count": null,
   "metadata": {},
   "outputs": [],
   "source": [
    "ort_session = onnxruntime.InferenceSession(filepath)"
   ]
  },
  {
   "cell_type": "code",
   "execution_count": null,
   "metadata": {},
   "outputs": [],
   "source": [
    "# filepath = Path(f\"{work_folder}/saved_best/best_inference_direct.onnx\")\n",
    "\n",
    "# ort_session = onnxruntime.InferenceSession(filepath)\n",
    "# input_name = ort_session.get_inputs()[0].name\n",
    "# ort_inputs = {input_name: np.random.randn(2, 14)}\n",
    "# ort_outs = ort_session.run(None, ort_inputs)\n"
   ]
  }
 ],
 "metadata": {
  "interpreter": {
   "hash": "67e7f89d5252d36c0a7a22a0bddaf9ce6b4bb105a5aa258c373ad72ae6e9c8c8"
  },
  "kernelspec": {
   "display_name": "Python 3.10.4 ('meta')",
   "language": "python",
   "name": "python3"
  },
  "language_info": {
   "codemirror_mode": {
    "name": "ipython",
    "version": 3
   },
   "file_extension": ".py",
   "mimetype": "text/x-python",
   "name": "python",
   "nbconvert_exporter": "python",
   "pygments_lexer": "ipython3",
   "version": "3.10.4"
  },
  "orig_nbformat": 4,
  "vscode": {
   "interpreter": {
    "hash": "8002f67306fdf03846a85192394013d7a0803f94603193c08381e3348b7b52be"
   }
  }
 },
 "nbformat": 4,
 "nbformat_minor": 2
}
