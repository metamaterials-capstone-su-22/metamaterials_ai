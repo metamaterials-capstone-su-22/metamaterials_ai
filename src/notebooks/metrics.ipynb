{
 "cells": [
  {
   "cell_type": "code",
   "execution_count": 1,
   "metadata": {},
   "outputs": [
    {
     "name": "stdout",
     "output_type": "stream",
     "text": [
      "/home/spencersong/metamaterials_ai/src\n"
     ]
    }
   ],
   "source": [
    "try:\n",
    "    if is_init:\n",
    "        pass\n",
    "except:\n",
    "    %pwd\n",
    "    %cd ..\n",
    "    %pwd\n",
    "    is_init = True"
   ]
  },
  {
   "cell_type": "code",
   "execution_count": 113,
   "metadata": {},
   "outputs": [],
   "source": [
    "from pathlib import Path\n",
    "from src.utils import FileUtils\n",
    "from config import Config\n",
    "from utils import rmse\n",
    "import torch\n",
    "import numpy as np\n",
    "import random\n",
    "import itertools\n",
    "data_folder = '../local_data'\n",
    "work_folder = '../local_work'\n",
    "configs_folder = '../configs'"
   ]
  },
  {
   "cell_type": "code",
   "execution_count": 91,
   "metadata": {},
   "outputs": [],
   "source": [
    "def denormalize_decode_result(y_hat, max_speed, max_spacing, min_speed, min_spacing):\n",
    "    \"\"\"input: 1,14 tensor\n",
    "        output: 1,3 tensor with wattage no longer one hot encoded\"\"\"\n",
    "    watts = [0.2, 0.3, 0.4, 0.5, 0.6, 0.7, 0.8, 0.9, 1.0, 1.1, 1.2, 1.3]\n",
    "\n",
    "    watt_arg = torch.argmax(y_hat[0][2:])\n",
    "    y_final = torch.empty(3, dtype=torch.float32)\n",
    "    y_final[0] = max_speed * y_hat[0][0] # TODO call the scale\n",
    "    y_final[1] = max_spacing * y_hat[0][1] # TODO call the scale\n",
    "    y_final[2]= watts[watt_arg]\n",
    "    return y_final"
   ]
  },
  {
   "cell_type": "markdown",
   "metadata": {},
   "source": [
    "# Inverse"
   ]
  },
  {
   "cell_type": "code",
   "execution_count": 77,
   "metadata": {},
   "outputs": [
    {
     "name": "stdout",
     "output_type": "stream",
     "text": [
      "../local_work/saved_best/best_I-resnet1d-stainless-2022-07-11_01-00.ckpt\n"
     ]
    }
   ],
   "source": [
    "filepath = Path(\n",
    "    f\"{work_folder}/saved_best/best_I-resnet1d-stainless-2022-07-11_01-00.ckpt\") #CHANGEME\n",
    "print(filepath)\n",
    "if not Path.is_file(filepath):\n",
    "    raise Exception(f'Model file does not exist at {filepath}!')"
   ]
  },
  {
   "cell_type": "code",
   "execution_count": 85,
   "metadata": {},
   "outputs": [],
   "source": [
    "def get_test_data(path):\n",
    "    stain_data = torch.load(\n",
    "                    Path(f\"{data_folder}/{path}\"))#[\"laser_params\"] #stainless-steel-revised-shuffled inconel-revised-raw-shuffled\n",
    "    wave_data = stain_data[\"interpolated_wavelength\"]\n",
    "    emiss_data = stain_data[\"interpolated_emissivity\"]#.keys()#[\"wavelenght\"]\n",
    "    #print(wave_test.max(1), wave_test.min(1)) #2.5002, 11.9479\n",
    "    #print(emiss_test.max(1)[0])#.max(1), emiss_test.min(1)) #0, 1\n",
    "    wave_test = wave_data[round(len(wave_data) * .95):]  \n",
    "    emiss_test = emiss_data[round(len(wave_data) * .95):]\n",
    "    return wave_test, emiss_test\n",
    "#print(max_wave, min_wave)"
   ]
  },
  {
   "cell_type": "code",
   "execution_count": 88,
   "metadata": {},
   "outputs": [],
   "source": [
    "#pass test data into inverse model, get predicted parameters\n",
    "from src.models import InverseModel\n",
    "i_model = InverseModel.load_from_checkpoint(filepath, strict=False)\n",
    "i_model.eval()\n",
    "\n",
    "wave_test, emiss_test = get_test_data('stainless-steel-revised-shuffled.pt')\n",
    "test_y_hats = []#torch.empty(size = len(emiss_test))\n",
    "for emiss in emiss_test:\n",
    "    with torch.no_grad():\n",
    "        test_y_hats.append(i_model(emiss.reshape(1, 800)))"
   ]
  },
  {
   "cell_type": "code",
   "execution_count": 105,
   "metadata": {},
   "outputs": [
    {
     "data": {
      "text/plain": [
       "tensor([[0.1704, 0.3627, 0.0000, 1.0000, 0.0000, 0.0000, 0.0000, 0.0000, 0.0000,\n",
       "         0.0000, 0.0000, 0.0000, 0.0000, 0.0000]])"
      ]
     },
     "execution_count": 105,
     "metadata": {},
     "output_type": "execute_result"
    }
   ],
   "source": [
    "test_y_hats[0]"
   ]
  },
  {
   "cell_type": "markdown",
   "metadata": {},
   "source": [
    "# Direct Model"
   ]
  },
  {
   "cell_type": "code",
   "execution_count": 119,
   "metadata": {},
   "outputs": [
    {
     "name": "stdout",
     "output_type": "stream",
     "text": [
      "../local_work/saved_best/best_D-ann-inconel-2022-07-05_14-39.ckpt\n"
     ]
    }
   ],
   "source": [
    "from src.models import DirectModel\n",
    "direct_filepath = Path(\n",
    "    f\"{work_folder}/saved_best/best_D-ann-inconel-2022-07-05_14-39.ckpt\") #CHANGEME\n",
    "print(direct_filepath)\n",
    "if not Path.is_file(direct_filepath):\n",
    "    raise Exception(f'Model file does not exist at {direct_filepath}!')"
   ]
  },
  {
   "cell_type": "code",
   "execution_count": 120,
   "metadata": {},
   "outputs": [],
   "source": [
    "d_model = DirectModel.load_from_checkpoint(direct_filepath)\n",
    "d_model.eval()\n",
    "emiss_y_hats = []\n",
    "for x in test_y_hats:\n",
    "    with torch.no_grad():\n",
    "        emiss_y_hats.append(d_model(x.reshape(1,14)))"
   ]
  },
  {
   "cell_type": "code",
   "execution_count": 121,
   "metadata": {},
   "outputs": [
    {
     "name": "stdout",
     "output_type": "stream",
     "text": [
      "Direct Filepath: ../local_work/saved_best/best_D-ann-inconel-2022-07-05_14-39.ckpt\n",
      "Inverse Filepath: ../local_work/saved_best/best_D-ann-inconel-2022-07-05_14-39.ckpt\n",
      "SD of RMSEs on test data: 0.17008276292283978\n"
     ]
    },
    {
     "name": "stderr",
     "output_type": "stream",
     "text": [
      "/home/spencersong/metamaterials_ai/src/utils/utils.py:43: UserWarning: Using a target size (torch.Size([800])) that is different to the input size (torch.Size([1, 800])). This will likely lead to incorrect results due to broadcasting. Please ensure they have the same size.\n",
      "  return (torch.nn.functional.mse_loss(pred, target) + epsilon).sqrt()\n"
     ]
    }
   ],
   "source": [
    "#calculate rmse\n",
    "pred_rmse_vals = []\n",
    "for i in range(len(emiss_test)):\n",
    "    pred_rmse_vals.append(rmse(emiss_y_hats[i], emiss_test[i]).item())\n",
    "stdev = np.std(pred_rmse_vals)\n",
    "print(f'Direct Filepath: {direct_filepath}')\n",
    "print(f'Inverse Filepath: {filepath}')\n",
    "print(f'SD of RMSEs on test data: {stdev}')\n"
   ]
  },
  {
   "cell_type": "code",
   "execution_count": null,
   "metadata": {},
   "outputs": [],
   "source": [
    "import altair"
   ]
  },
  {
   "cell_type": "code",
   "execution_count": null,
   "metadata": {},
   "outputs": [],
   "source": [
    "#visualize predictions vs original\n",
    "\n"
   ]
  }
 ],
 "metadata": {
  "interpreter": {
   "hash": "67e7f89d5252d36c0a7a22a0bddaf9ce6b4bb105a5aa258c373ad72ae6e9c8c8"
  },
  "kernelspec": {
   "display_name": "Python 3.10.4 ('meta')",
   "language": "python",
   "name": "python3"
  },
  "language_info": {
   "codemirror_mode": {
    "name": "ipython",
    "version": 3
   },
   "file_extension": ".py",
   "mimetype": "text/x-python",
   "name": "python",
   "nbconvert_exporter": "python",
   "pygments_lexer": "ipython3",
   "version": "3.10.4"
  },
  "orig_nbformat": 4,
  "vscode": {
   "interpreter": {
    "hash": "8002f67306fdf03846a85192394013d7a0803f94603193c08381e3348b7b52be"
   }
  }
 },
 "nbformat": 4,
 "nbformat_minor": 2
}
