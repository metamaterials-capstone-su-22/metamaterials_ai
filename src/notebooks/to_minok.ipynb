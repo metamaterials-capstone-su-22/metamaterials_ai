{
 "cells": [
  {
   "cell_type": "code",
   "execution_count": 1,
   "metadata": {},
   "outputs": [
    {
     "name": "stdout",
     "output_type": "stream",
     "text": [
      "/home/spencersong/metamaterials_ai/src\n"
     ]
    }
   ],
   "source": [
    "try:\n",
    "    if is_init:\n",
    "        pass\n",
    "except:\n",
    "    %pwd\n",
    "    %cd ..\n",
    "    %pwd\n",
    "    is_init = True"
   ]
  },
  {
   "cell_type": "code",
   "execution_count": 2,
   "metadata": {},
   "outputs": [],
   "source": [
    "from pathlib import Path\n",
    "from src.utils import FileUtils\n",
    "from config import Config\n",
    "import torch\n",
    "import numpy as np\n",
    "import random\n",
    "import itertools\n",
    "data_folder = '../local_data'\n",
    "work_folder = '../local_work'"
   ]
  },
  {
   "cell_type": "markdown",
   "metadata": {},
   "source": [
    "### Unexplored Params"
   ]
  },
  {
   "cell_type": "code",
   "execution_count": 3,
   "metadata": {},
   "outputs": [
    {
     "name": "stdout",
     "output_type": "stream",
     "text": [
      "700.0 42.0\n",
      "10.0 1.0\n"
     ]
    }
   ],
   "source": [
    "inc_data = torch.load(\n",
    "                Path(f\"{data_folder}/inconel-revised-raw-shuffled.pt\"))[\"laser_params\"]\n",
    "params = torch.load(\n",
    "                Path(f\"{data_folder}/stainless-steel-revised-shuffled.pt\"))[\"laser_params\"] #stainless-steel-revised-shuffled inconel-revised-raw-shuffled\n",
    "max_speed, max_spacing = params.max(0)[0][0].item(), params.max(0)[0][1].item()\n",
    "min_speed, min_spacing = params.min(0)[0][0].item(), params.min(0)[0][1].item()\n",
    "print(max_speed, max_spacing)\n",
    "print(min_speed, min_spacing)"
   ]
  },
  {
   "cell_type": "code",
   "execution_count": 4,
   "metadata": {},
   "outputs": [],
   "source": [
    "def denormalize_decode_result(y_hat, max_speed, max_spacing, min_speed, min_spacing):\n",
    "    \"\"\"input: 1,14 tensor\n",
    "        output: 1,3 tensor with wattage no longer one hot encoded\"\"\"\n",
    "    watts = [0.2, 0.3, 0.4, 0.5, 0.6, 0.7, 0.8, 0.9, 1.0, 1.1, 1.2, 1.3]\n",
    "\n",
    "    watt_arg = torch.argmax(y_hat[0][2:])\n",
    "    y_final = torch.empty(3, dtype=torch.float32)\n",
    "    y_final[0] = max_speed * y_hat[0][0] # TODO call the scale\n",
    "    y_final[1] = max_spacing * y_hat[0][1] # TODO call the scale\n",
    "    y_final[2]= watts[watt_arg]\n",
    "    return y_final"
   ]
  },
  {
   "cell_type": "code",
   "execution_count": 5,
   "metadata": {},
   "outputs": [],
   "source": [
    "#identify explored param space\n",
    "def get_unexplored_params(params, data, max_speed, max_spacing, min_speed, min_spacing, n = 196, seed = 1):\n",
    "        \"\"\"\n",
    "        finds unexplored parameters\n",
    "        inputs: tensor of [[], [], []], each size (1,14)\n",
    "        outputs: list of n unnormalized tuples each of size (1,3)\n",
    "        \"\"\"\n",
    "        param_space = [np.arange(min_speed, max_speed + 10, 10).tolist(), np.arange(min_spacing, max_spacing + 1, 1).tolist(), np.around(np.arange(.2, 1.4, .1), decimals = 1).tolist()]\n",
    "        #get set of all possible parameter combinations\n",
    "        param_all_comb = set(list(itertools.product(*param_space)))#[list(tup) for tup in itertools.product(*param_space)]\n",
    "        wattages = [0.2, 0.3, 0.4, 0.5, 0.6, 0.7, 0.8, 0.9, 1.0, 1.1, 1.2, 1.3]\n",
    "        #get set of all training parameter combinations -decoding of one hot encoding\n",
    "        train_param_space = set([tuple(x[:2] + [wattages[np.argmax(x[2:])]]) for x in data.tolist()]) #29988\n",
    "        #find the combination parameters NOT in the training space\n",
    "        unused_params = list(param_all_comb.symmetric_difference(train_param_space)) #len() = 5292\n",
    "        #sample n from unused parameter combinations\n",
    "        random.seed = seed\n",
    "        indices = random.sample(range(len(unused_params)), n)\n",
    "        return [unused_params[i] for i in indices]\n",
    "\n",
    "def unexplored_params_to_tensors(x):\n",
    "        new_x = []\n",
    "        wattage_idxs = {\n",
    "                0.2: 0,\n",
    "                0.3: 1,\n",
    "                0.4: 2,\n",
    "                0.5: 3,\n",
    "                0.6: 4,\n",
    "                0.7: 5,\n",
    "                0.8: 6,\n",
    "                0.9: 7,\n",
    "                1.0: 8,\n",
    "                1.1: 9,\n",
    "                1.2: 10,\n",
    "                1.3: 11,\n",
    "        }      \n",
    "        for i in x:\n",
    "                i = list(i)\n",
    "                holder = i[:2] + np.zeros(12).tolist()\n",
    "                holder[wattage_idxs[i[2]] + 2] = 1.0\n",
    "                new_x.append(holder)\n",
    "\n",
    "        laser_params = torch.FloatTensor(new_x)\n",
    "        for r in laser_params:\n",
    "                r[0]=r[0] / max_speed\n",
    "                r[1]=r[1] / max_spacing\n",
    "        return laser_params\n",
    "\n",
    "#[torch.cat((x[:2], torch.tensor(np.array([wattages[np.argmax(x[2:])]])))) for x in params]#[:5]\n",
    "#[x[:2] for x in params]#[:5]\n",
    "\n",
    "# train_param_space = denormalize_decode_result(params, max_speed, max_spacing, min_speed, min_spacing)\n",
    "# train_param_space\n"
   ]
  },
  {
   "cell_type": "code",
   "execution_count": 6,
   "metadata": {},
   "outputs": [],
   "source": [
    "ouput_unexplored = get_unexplored_params(params, inc_data, max_speed, max_spacing, min_speed, min_spacing, n = 1200, seed = 1)\n",
    "norm_unexplored_laser_params = unexplored_params_to_tensors(ouput_unexplored)"
   ]
  },
  {
   "cell_type": "code",
   "execution_count": 7,
   "metadata": {},
   "outputs": [
    {
     "data": {
      "text/plain": [
       "tensor([[0.8714, 0.2857, 0.0000,  ..., 0.0000, 0.0000, 0.0000],\n",
       "        [0.0286, 0.1429, 0.0000,  ..., 0.0000, 0.0000, 0.0000],\n",
       "        [0.6143, 0.8571, 0.0000,  ..., 0.0000, 1.0000, 0.0000],\n",
       "        ...,\n",
       "        [0.5143, 0.3333, 0.0000,  ..., 0.0000, 0.0000, 0.0000],\n",
       "        [0.1571, 0.1905, 0.0000,  ..., 0.0000, 0.0000, 0.0000],\n",
       "        [0.8714, 0.0714, 0.0000,  ..., 0.0000, 0.0000, 0.0000]])"
      ]
     },
     "execution_count": 7,
     "metadata": {},
     "output_type": "execute_result"
    }
   ],
   "source": [
    "norm_unexplored_laser_params"
   ]
  },
  {
   "cell_type": "markdown",
   "metadata": {},
   "source": [
    "# Inverse Model Only\n"
   ]
  },
  {
   "cell_type": "code",
   "execution_count": 14,
   "metadata": {},
   "outputs": [],
   "source": [
    "from src.models import InverseModel"
   ]
  },
  {
   "cell_type": "code",
   "execution_count": 92,
   "metadata": {},
   "outputs": [
    {
     "name": "stdout",
     "output_type": "stream",
     "text": [
      "../local_work/saved_best/best_I-ann-inconel-2022-07-05_14-49.ckpt\n"
     ]
    }
   ],
   "source": [
    "filepath = Path(\n",
    "    f\"{work_folder}/saved_best/best_I-ann-inconel-2022-07-05_14-49.ckpt\") #CHANGEME inconel vs stainless best model\n",
    "print(filepath)\n",
    "if not Path.is_file(filepath):\n",
    "    raise Exception(f'Model file does not exist at {filepath}!')"
   ]
  },
  {
   "cell_type": "code",
   "execution_count": 93,
   "metadata": {},
   "outputs": [
    {
     "data": {
      "text/plain": [
       "torch.Size([1, 14])"
      ]
     },
     "execution_count": 93,
     "metadata": {},
     "output_type": "execute_result"
    }
   ],
   "source": [
    "i_model = InverseModel.load_from_checkpoint(filepath, strict=False)\n",
    "i_model.eval()\n",
    "\n",
    "x = torch.from_numpy(np.array(torch.randn(1, 800) * 3)) #\n",
    "with torch.no_grad():\n",
    "    y_hat = i_model(x)\n",
    "y_hat.shape"
   ]
  },
  {
   "cell_type": "code",
   "execution_count": 94,
   "metadata": {},
   "outputs": [
    {
     "name": "stdout",
     "output_type": "stream",
     "text": [
      "tensor([ 4.7735, 36.7123,  1.1000])\n"
     ]
    }
   ],
   "source": [
    "# y_final2 = onehot_to_continuous2(y_hat)\n",
    "print(denormalize_decode_result(y_hat,max_speed, max_spacing, min_speed, min_spacing))\n",
    "\n",
    "#if you want hardcoded max, min values instead\n",
    "#print(denormalize_decode_result(y_hat,700.0, 42.0, 10.0, 1.0))"
   ]
  },
  {
   "cell_type": "markdown",
   "metadata": {},
   "source": [
    "# Direct Model Only\n"
   ]
  },
  {
   "cell_type": "code",
   "execution_count": 8,
   "metadata": {},
   "outputs": [],
   "source": [
    "from src.models import DirectModel"
   ]
  },
  {
   "cell_type": "code",
   "execution_count": 9,
   "metadata": {},
   "outputs": [
    {
     "name": "stdout",
     "output_type": "stream",
     "text": [
      "../local_work/saved_best/best_D-ann-inconel-2022-07-05_14-39.ckpt\n"
     ]
    }
   ],
   "source": [
    "filepath = Path(\n",
    "    f\"{work_folder}/saved_best/best_D-ann-inconel-2022-07-05_14-39.ckpt\")\n",
    "print(filepath)\n",
    "if not Path.is_file(filepath):\n",
    "    raise Exception(f'Model file does not exist at {filepath}!')"
   ]
  },
  {
   "cell_type": "code",
   "execution_count": 10,
   "metadata": {},
   "outputs": [],
   "source": [
    "d_model = DirectModel.load_from_checkpoint(filepath)\n",
    "d_model.eval()\n",
    "# x = torch.randn(1, 14)\n",
    "direct_y_hats = []\n",
    "# intersect_preds = []\n",
    "for i in norm_unexplored_laser_params:\n",
    "    with torch.no_grad():\n",
    "        direct_y_hats.append(d_model(i.reshape(1,14)))"
   ]
  },
  {
   "cell_type": "markdown",
   "metadata": {},
   "source": [
    "### Unexplored Direct --> Indirect"
   ]
  },
  {
   "cell_type": "code",
   "execution_count": 15,
   "metadata": {},
   "outputs": [
    {
     "name": "stdout",
     "output_type": "stream",
     "text": [
      "../local_work/saved_best/best_I-ann-inconel-2022-07-05_14-49.ckpt\n"
     ]
    }
   ],
   "source": [
    "filepath = Path(\n",
    "    f\"{work_folder}/saved_best/best_I-ann-inconel-2022-07-05_14-49.ckpt\") #CHANGEME inconel vs stainless best model\n",
    "print(filepath)\n",
    "if not Path.is_file(filepath):\n",
    "    raise Exception(f'Model file does not exist at {filepath}!')"
   ]
  },
  {
   "cell_type": "code",
   "execution_count": 16,
   "metadata": {},
   "outputs": [
    {
     "name": "stderr",
     "output_type": "stream",
     "text": [
      "/home/spencersong/anaconda3/envs/meta/lib/python3.10/site-packages/torch/nn/modules/lazy.py:178: UserWarning: Lazy modules are a new feature under heavy development so changes to the API or functionality can happen at any moment.\n",
      "  warnings.warn('Lazy modules are a new feature under heavy development '\n",
      "/home/spencersong/anaconda3/envs/meta/lib/python3.10/site-packages/pytorch_lightning/core/saving.py:217: UserWarning: Found keys that are not in the model state dict but in the checkpoint: ['direct_model.model.0.weight', 'direct_model.model.0.bias', 'direct_model.model.2.layers.0.block.0.weight', 'direct_model.model.2.layers.0.block.0.bias', 'direct_model.model.2.layers.1.block.0.weight', 'direct_model.model.2.layers.1.block.0.bias', 'direct_model.model.2.layers.2.block.0.weight', 'direct_model.model.2.layers.2.block.0.bias', 'direct_model.model.2.layers.3.block.0.weight', 'direct_model.model.2.layers.3.block.0.bias', 'direct_model.model.2.layers.4.block.0.weight', 'direct_model.model.2.layers.4.block.0.bias', 'direct_model.model.2.layers.5.block.0.weight', 'direct_model.model.2.layers.5.block.0.bias', 'direct_model.model.2.layers.6.block.0.weight', 'direct_model.model.2.layers.6.block.0.bias', 'direct_model.model.2.layers.7.block.0.weight', 'direct_model.model.2.layers.7.block.0.bias', 'direct_model.model.2.layers.8.block.0.weight', 'direct_model.model.2.layers.8.block.0.bias', 'direct_model.model.2.layers.9.block.0.weight', 'direct_model.model.2.layers.9.block.0.bias', 'direct_model.model.2.layers.10.block.0.weight', 'direct_model.model.2.layers.10.block.0.bias', 'direct_model.model.2.layers.11.block.0.weight', 'direct_model.model.2.layers.11.block.0.bias', 'direct_model.model.2.layers.12.block.0.weight', 'direct_model.model.2.layers.12.block.0.bias', 'direct_model.model.2.layers.13.block.0.weight', 'direct_model.model.2.layers.13.block.0.bias', 'direct_model.model.2.layers.14.block.0.weight', 'direct_model.model.2.layers.14.block.0.bias', 'direct_model.model.2.layers.15.block.0.weight', 'direct_model.model.2.layers.15.block.0.bias', 'direct_model.model.3.weight', 'direct_model.model.3.bias']\n",
      "  rank_zero_warn(\n"
     ]
    }
   ],
   "source": [
    "model = InverseModel.load_from_checkpoint(filepath, strict=False)\n",
    "model.eval()\n",
    "\n",
    "#x = torch.from_numpy(np.array(torch.ra|ndn(1, 800) * 3)) #\n",
    "param_preds = []\n",
    "for i in direct_y_hats:\n",
    "    with torch.no_grad():\n",
    "        param_preds.append(model(i))#model(i))"
   ]
  },
  {
   "cell_type": "code",
   "execution_count": 17,
   "metadata": {},
   "outputs": [],
   "source": [
    "params = torch.load(\n",
    "                Path(f\"{data_folder}/inconel-revised-raw-shuffled.pt\"))[\"laser_params\"] #stainless-steel-revised-shuffled inconel-revised-raw-shuffled\n",
    "max_speed, max_spacing = params.max(0)[0][0].item(), params.max(0)[0][1].item()\n",
    "min_speed, min_spacing = params.min(0)[0][0].item(), params.min(0)[0][1].item()\n",
    "decoded_preds = [denormalize_decode_result(pred, max_speed, max_spacing, min_speed, min_spacing) for pred in param_preds]\n",
    "for r in decoded_preds:\n",
    "    r[0]=torch.round(r[0], decimals = -1)\n",
    "    r[1]=torch.round(r[1], decimals = 0)"
   ]
  },
  {
   "cell_type": "code",
   "execution_count": 18,
   "metadata": {},
   "outputs": [
    {
     "name": "stdout",
     "output_type": "stream",
     "text": [
      "582\n",
      "349\n"
     ]
    },
    {
     "data": {
      "text/plain": [
       "233"
      ]
     },
     "execution_count": 18,
     "metadata": {},
     "output_type": "execute_result"
    }
   ],
   "source": [
    "param_space = [np.arange(min_speed, max_speed + 10, 10).tolist(), np.arange(min_spacing, max_spacing + 1, 1).tolist(), np.around(np.arange(.2, 1.4, .1), decimals = 1).tolist()]\n",
    "#get set of all possible parameter combinations\n",
    "param_all_comb = set(list(itertools.product(*param_space)))\n",
    "wattages = [0.2, 0.3, 0.4, 0.5, 0.6, 0.7, 0.8, 0.9, 1.0, 1.1, 1.2, 1.3]\n",
    "space_params = set([tuple(np.around(x.tolist(), decimals= 1)) for x in decoded_preds]) #29988\n",
    "        #find the combination parameters NOT in the training space\n",
    "overlaps = list(param_all_comb.intersection(space_params)) #len() = 5292\n",
    "unused_params = list(set(overlaps).symmetric_difference(space_params)) #len() = 5292\n",
    "#convert preds to set\n",
    "print(len(space_params))\n",
    "print(len(overlaps)) #332\n",
    "len(unused_params) #216\n",
    "\n"
   ]
  },
  {
   "cell_type": "code",
   "execution_count": 22,
   "metadata": {},
   "outputs": [
    {
     "data": {
      "text/plain": [
       "[(670.0, 9.0, 0.5),\n",
       " (670.0, 11.0, 0.5),\n",
       " (670.0, 12.0, 0.5),\n",
       " (0.0, 28.0, 0.8),\n",
       " (80.0, 13.0, 1.2),\n",
       " (90.0, 14.0, 1.2),\n",
       " (100.0, 11.0, 1.2),\n",
       " (100.0, 13.0, 1.2),\n",
       " (110.0, 11.0, 1.2),\n",
       " (110.0, 12.0, 1.2),\n",
       " (110.0, 14.0, 1.2),\n",
       " (120.0, 11.0, 1.2),\n",
       " (120.0, 13.0, 1.2),\n",
       " (140.0, 9.0, 1.2),\n",
       " (140.0, 10.0, 1.2),\n",
       " (140.0, 12.0, 1.2),\n",
       " (140.0, 14.0, 1.2),\n",
       " (150.0, 13.0, 1.2),\n",
       " (160.0, 12.0, 1.2),\n",
       " (160.0, 13.0, 1.2),\n",
       " (160.0, 14.0, 1.2),\n",
       " (180.0, 9.0, 1.2),\n",
       " (180.0, 11.0, 1.2),\n",
       " (180.0, 13.0, 1.2),\n",
       " (200.0, 11.0, 1.2),\n",
       " (200.0, 14.0, 1.2),\n",
       " (210.0, 8.0, 1.2),\n",
       " (210.0, 10.0, 1.2),\n",
       " (210.0, 13.0, 1.2),\n",
       " (220.0, 12.0, 1.2),\n",
       " (230.0, 13.0, 1.2),\n",
       " (230.0, 14.0, 1.2),\n",
       " (240.0, 12.0, 1.2),\n",
       " (240.0, 13.0, 1.2),\n",
       " (240.0, 14.0, 1.2),\n",
       " (250.0, 10.0, 1.2),\n",
       " (250.0, 11.0, 1.2),\n",
       " (250.0, 12.0, 1.2),\n",
       " (260.0, 11.0, 1.2),\n",
       " (260.0, 12.0, 1.2),\n",
       " (260.0, 14.0, 1.2),\n",
       " (270.0, 8.0, 1.2),\n",
       " (270.0, 9.0, 1.2),\n",
       " (270.0, 10.0, 1.2),\n",
       " (270.0, 11.0, 1.2),\n",
       " (270.0, 13.0, 1.2),\n",
       " (280.0, 8.0, 1.2),\n",
       " (280.0, 11.0, 1.2),\n",
       " (290.0, 11.0, 1.2),\n",
       " (290.0, 14.0, 1.2),\n",
       " (300.0, 9.0, 1.2),\n",
       " (300.0, 10.0, 1.2),\n",
       " (300.0, 13.0, 1.2),\n",
       " (320.0, 8.0, 1.2),\n",
       " (320.0, 9.0, 1.2),\n",
       " (320.0, 10.0, 1.2),\n",
       " (320.0, 11.0, 1.2),\n",
       " (320.0, 12.0, 1.2),\n",
       " (320.0, 13.0, 1.2),\n",
       " (320.0, 14.0, 1.2),\n",
       " (330.0, 9.0, 1.2),\n",
       " (330.0, 11.0, 1.2),\n",
       " (330.0, 13.0, 1.2),\n",
       " (330.0, 14.0, 1.2),\n",
       " (340.0, 10.0, 1.2),\n",
       " (340.0, 12.0, 1.2),\n",
       " (340.0, 14.0, 1.2),\n",
       " (350.0, 11.0, 1.2),\n",
       " (360.0, 11.0, 1.2),\n",
       " (360.0, 13.0, 1.2),\n",
       " (360.0, 14.0, 1.2),\n",
       " (380.0, 7.0, 1.2),\n",
       " (380.0, 12.0, 1.2),\n",
       " (390.0, 12.0, 1.2),\n",
       " (390.0, 13.0, 1.2),\n",
       " (400.0, 9.0, 1.2),\n",
       " (400.0, 14.0, 1.2),\n",
       " (410.0, 7.0, 1.2),\n",
       " (410.0, 9.0, 1.2),\n",
       " (410.0, 12.0, 1.2),\n",
       " (410.0, 14.0, 1.2),\n",
       " (420.0, 7.0, 1.2),\n",
       " (420.0, 8.0, 1.2),\n",
       " (420.0, 11.0, 1.2),\n",
       " (430.0, 9.0, 1.2),\n",
       " (430.0, 13.0, 1.2),\n",
       " (430.0, 14.0, 1.2),\n",
       " (440.0, 11.0, 1.2),\n",
       " (440.0, 12.0, 1.2),\n",
       " (450.0, 7.0, 1.2),\n",
       " (450.0, 10.0, 1.2),\n",
       " (450.0, 12.0, 1.2),\n",
       " (460.0, 10.0, 1.2),\n",
       " (460.0, 11.0, 1.2),\n",
       " (460.0, 12.0, 1.2),\n",
       " (470.0, 10.0, 1.2),\n",
       " (470.0, 12.0, 1.2),\n",
       " (480.0, 9.0, 1.2),\n",
       " (480.0, 11.0, 1.2),\n",
       " (480.0, 13.0, 1.2),\n",
       " (490.0, 9.0, 1.2),\n",
       " (490.0, 12.0, 1.2),\n",
       " (490.0, 13.0, 1.2),\n",
       " (500.0, 7.0, 1.2),\n",
       " (500.0, 10.0, 1.2),\n",
       " (500.0, 11.0, 1.2),\n",
       " (500.0, 13.0, 1.2),\n",
       " (510.0, 8.0, 1.2),\n",
       " (510.0, 10.0, 1.2),\n",
       " (510.0, 11.0, 1.2),\n",
       " (510.0, 13.0, 1.2),\n",
       " (520.0, 8.0, 1.2),\n",
       " (520.0, 10.0, 1.2),\n",
       " (520.0, 11.0, 1.2),\n",
       " (520.0, 12.0, 1.2),\n",
       " (530.0, 9.0, 1.2),\n",
       " (530.0, 10.0, 1.2),\n",
       " (530.0, 12.0, 1.2),\n",
       " (530.0, 14.0, 1.2),\n",
       " (540.0, 7.0, 1.2),\n",
       " (540.0, 8.0, 1.2),\n",
       " (540.0, 9.0, 1.2),\n",
       " (540.0, 10.0, 1.2),\n",
       " (540.0, 12.0, 1.2),\n",
       " (550.0, 6.0, 1.2),\n",
       " (550.0, 7.0, 1.2),\n",
       " (550.0, 9.0, 1.2),\n",
       " (550.0, 11.0, 1.2),\n",
       " (550.0, 12.0, 1.2),\n",
       " (550.0, 14.0, 1.2),\n",
       " (560.0, 7.0, 1.2),\n",
       " (560.0, 8.0, 1.2),\n",
       " (560.0, 11.0, 1.2),\n",
       " (560.0, 13.0, 1.2),\n",
       " (570.0, 7.0, 1.2),\n",
       " (570.0, 8.0, 1.2),\n",
       " (570.0, 11.0, 1.2),\n",
       " (570.0, 12.0, 1.2),\n",
       " (570.0, 13.0, 1.2),\n",
       " (570.0, 14.0, 1.2),\n",
       " (580.0, 10.0, 1.2),\n",
       " (580.0, 11.0, 1.2),\n",
       " (580.0, 13.0, 1.2),\n",
       " (590.0, 7.0, 1.2),\n",
       " (590.0, 8.0, 1.2),\n",
       " (590.0, 11.0, 1.2),\n",
       " (590.0, 12.0, 1.2),\n",
       " (590.0, 13.0, 1.2),\n",
       " (600.0, 7.0, 1.2),\n",
       " (600.0, 8.0, 1.2),\n",
       " (600.0, 9.0, 1.2),\n",
       " (600.0, 10.0, 1.2),\n",
       " (600.0, 11.0, 1.2),\n",
       " (600.0, 12.0, 1.2),\n",
       " (600.0, 13.0, 1.2),\n",
       " (610.0, 7.0, 1.2),\n",
       " (610.0, 8.0, 1.2),\n",
       " (610.0, 9.0, 1.2),\n",
       " (610.0, 10.0, 1.2),\n",
       " (610.0, 12.0, 1.2),\n",
       " (610.0, 13.0, 1.2),\n",
       " (610.0, 14.0, 1.2),\n",
       " (620.0, 7.0, 1.2),\n",
       " (620.0, 8.0, 1.2),\n",
       " (620.0, 9.0, 1.2),\n",
       " (620.0, 10.0, 1.2),\n",
       " (620.0, 11.0, 1.2),\n",
       " (620.0, 12.0, 1.2),\n",
       " (620.0, 13.0, 1.2),\n",
       " (630.0, 8.0, 1.2),\n",
       " (630.0, 9.0, 1.2),\n",
       " (630.0, 11.0, 1.2),\n",
       " (630.0, 12.0, 1.2),\n",
       " (640.0, 7.0, 1.2),\n",
       " (640.0, 8.0, 1.2),\n",
       " (640.0, 9.0, 1.2),\n",
       " (640.0, 10.0, 1.2),\n",
       " (640.0, 11.0, 1.2),\n",
       " (640.0, 12.0, 1.2),\n",
       " (650.0, 8.0, 1.2),\n",
       " (650.0, 9.0, 1.2),\n",
       " (650.0, 10.0, 1.2),\n",
       " (650.0, 11.0, 1.2),\n",
       " (650.0, 12.0, 1.2),\n",
       " (650.0, 13.0, 1.2),\n",
       " (650.0, 14.0, 1.2),\n",
       " (660.0, 7.0, 1.2),\n",
       " (660.0, 8.0, 1.2),\n",
       " (660.0, 9.0, 1.2),\n",
       " (660.0, 10.0, 1.2),\n",
       " (660.0, 11.0, 1.2),\n",
       " (660.0, 12.0, 1.2),\n",
       " (660.0, 13.0, 1.2),\n",
       " (670.0, 7.0, 1.2),\n",
       " (670.0, 8.0, 1.2),\n",
       " (670.0, 10.0, 1.2)]"
      ]
     },
     "execution_count": 22,
     "metadata": {},
     "output_type": "execute_result"
    }
   ],
   "source": [
    "#send these to minok\n",
    "unused_params[:196]#overlaps)\n",
    "sorted(unused_params[:196], key = lambda x: (x[2], x[0], x[1]))\n",
    "#overlaps[:195]\n"
   ]
  },
  {
   "cell_type": "code",
   "execution_count": 256,
   "metadata": {},
   "outputs": [
    {
     "data": {
      "text/plain": [
       "tensor([[600.,  34.,   0.,  ...,   0.,   0.,   0.],\n",
       "        [590.,  14.,   0.,  ...,   0.,   1.,   0.],\n",
       "        [580.,  31.,   0.,  ...,   0.,   0.,   0.],\n",
       "        ...,\n",
       "        [640.,  16.,   0.,  ...,   0.,   1.,   0.],\n",
       "        [520.,  38.,   0.,  ...,   0.,   0.,   0.],\n",
       "        [300.,  37.,   0.,  ...,   0.,   0.,   0.]], dtype=torch.float64)"
      ]
     },
     "execution_count": 256,
     "metadata": {},
     "output_type": "execute_result"
    }
   ],
   "source": [
    "#intersecting parameters!!!!!!!\n",
    "intersect_x = []\n",
    "wattage_idxs = {\n",
    "        0.2: 0,\n",
    "        0.3: 1,\n",
    "        0.4: 2,\n",
    "        0.5: 3,\n",
    "        0.6: 4,\n",
    "        0.7: 5,\n",
    "        0.8: 6,\n",
    "        0.9: 7,\n",
    "        1.0: 8,\n",
    "        1.1: 9,\n",
    "        1.2: 10,\n",
    "        1.3: 11,\n",
    "}      \n",
    "for i in unused_params:\n",
    "        i = list(i)\n",
    "        holder = i[:2] + np.zeros(12).tolist()\n",
    "        holder[wattage_idxs[i[2]] + 2] = 1.0\n",
    "        intersect_x.append(holder)\n",
    "output = torch.tensor(intersect_x)\n",
    "output"
   ]
  },
  {
   "cell_type": "code",
   "execution_count": 136,
   "metadata": {},
   "outputs": [
    {
     "name": "stdout",
     "output_type": "stream",
     "text": [
      "12058\n",
      "19562\n",
      "19609\n"
     ]
    }
   ],
   "source": [
    "for i in range(len(params)):\n",
    "    curr = params[i].flatten().tolist()\n",
    "    if curr in output.tolist():\n",
    "        print(i)"
   ]
  },
  {
   "cell_type": "code",
   "execution_count": 149,
   "metadata": {},
   "outputs": [],
   "source": [
    "from utils import rmse\n",
    "# params[12058]\n",
    "data = torch.load(\n",
    "                Path(f\"{data_folder}/stainless-steel-revised-shuffled.pt\"))\n",
    "\n",
    "intersect_train_emiss = []\n",
    "intersect_train_emiss.append(data[\"emissivity\"][12058])\n",
    "intersect_train_emiss.append(data[\"emissivity\"][19562])\n",
    "intersect_train_emiss.append(data[\"emissivity\"][19609])"
   ]
  },
  {
   "cell_type": "markdown",
   "metadata": {},
   "source": [
    "# ONNX"
   ]
  },
  {
   "cell_type": "code",
   "execution_count": null,
   "metadata": {},
   "outputs": [],
   "source": [
    "# import onnxruntime \n",
    "# from pathlib import Path\n",
    "# import numpy as np\n",
    "# import os"
   ]
  },
  {
   "cell_type": "code",
   "execution_count": null,
   "metadata": {},
   "outputs": [],
   "source": [
    "ort_session = onnxruntime.InferenceSession(filepath)"
   ]
  },
  {
   "cell_type": "code",
   "execution_count": null,
   "metadata": {},
   "outputs": [],
   "source": [
    "# filepath = Path(f\"{work_folder}/saved_best/best_inference_direct.onnx\")\n",
    "\n",
    "# ort_session = onnxruntime.InferenceSession(filepath)\n",
    "# input_name = ort_session.get_inputs()[0].name\n",
    "# ort_inputs = {input_name: np.random.randn(2, 14)}\n",
    "# ort_outs = ort_session.run(None, ort_inputs)\n"
   ]
  }
 ],
 "metadata": {
  "interpreter": {
   "hash": "67e7f89d5252d36c0a7a22a0bddaf9ce6b4bb105a5aa258c373ad72ae6e9c8c8"
  },
  "kernelspec": {
   "display_name": "Python 3.10.4 ('meta')",
   "language": "python",
   "name": "python3"
  },
  "language_info": {
   "codemirror_mode": {
    "name": "ipython",
    "version": 3
   },
   "file_extension": ".py",
   "mimetype": "text/x-python",
   "name": "python",
   "nbconvert_exporter": "python",
   "pygments_lexer": "ipython3",
   "version": "3.10.4"
  },
  "orig_nbformat": 4,
  "vscode": {
   "interpreter": {
    "hash": "8002f67306fdf03846a85192394013d7a0803f94603193c08381e3348b7b52be"
   }
  }
 },
 "nbformat": 4,
 "nbformat_minor": 2
}
