{
 "cells": [
  {
   "cell_type": "code",
   "execution_count": 10,
   "metadata": {},
   "outputs": [],
   "source": [
    "import scipy.io\n",
    "import pandas as pd\n",
    "import numpy as np\n",
    "from scipy.io import loadmat\n",
    " \n",
    "from forward_utils import load_spectrum_param_data_mat, calc_RMSE_MAE_MSE_Erel, z_RF_DT_DTGEN_error_folds, spectra_prediction_corrector, feature_importance_by_material, get_iloc_for_test_on_edges_of_column, error_integ_by_spectrum_integ, plt2matlab,get_all_children, get_confidence_interval_for_random_forest, gen_data_P1_P2_P3_Elzouka\n"
   ]
  },
  {
   "cell_type": "code",
   "execution_count": 11,
   "metadata": {},
   "outputs": [],
   "source": [
    "\n",
    "matlab_data_path = ['../../data/All_data_part_1.mat', '../../data/All_data_part_2.mat'] # WARNING: this data has more \"sphere\" results\n"
   ]
  },
  {
   "cell_type": "code",
   "execution_count": 12,
   "metadata": {},
   "outputs": [],
   "source": [
    "# This code is from the paper's repo\n",
    "# DON'T CHANGE THESE VARIABLES\n",
    "my_x = np.logspace(13, 14.9, num=400)\n",
    "scaling_factors = {'Area': 10.0**12, 'Volume': 10.0**18, 'Volume/Area': 10.0**9, 'Area/Volume': 10.0**-6, 'LongestDim': 10.0**6, 'MiddleDim': 10.0 **\n",
    "                   6, 'ShortestDim': 10.0**6, 'PeakFrequency': 10.0**-14, 'PeakEmissivity': 10.0, 'LengthX': 10**6, 'Height': 10**6, 'Length': 10**6}\n"
   ]
  },
  {
   "cell_type": "code",
   "execution_count": 13,
   "metadata": {},
   "outputs": [
    {
     "name": "stdout",
     "output_type": "stream",
     "text": [
      "Number of Samples: 33953\n",
      "Removed 0 non-physical spectra\n",
      "New Shape: (33953, 31)\n"
     ]
    },
    {
     "name": "stderr",
     "output_type": "stream",
     "text": [
      "/Users/parhammotameni/Library/CloudStorage/OneDrive-Personal/MIDS/W210/Summer 2022/Metamaterial/metamaterials_ai/src/notebooks/forward_utils.py:476: VisibleDeprecationWarning: Creating an ndarray from ragged nested sequences (which is a list-or-tuple of lists-or-tuples-or ndarrays with different lengths or shapes) is deprecated. If you meant to do this, you must specify 'dtype=object' when creating the ndarray.\n",
      "  spectrum = list(np.array(spectrum)[mask])\n"
     ]
    },
    {
     "name": "stdout",
     "output_type": "stream",
     "text": [
      "Removed 820 Incomplete Spectra\n",
      "New Shape: (33133, 31)\n",
      "Removed 0 duplicates\n",
      "New shape: (33133, 31)\n"
     ]
    },
    {
     "name": "stderr",
     "output_type": "stream",
     "text": [
      "/Users/parhammotameni/opt/anaconda3/envs/meta/lib/python3.10/site-packages/pandas/core/arraylike.py:397: RuntimeWarning: divide by zero encountered in log\n",
      "  result = getattr(ufunc, method)(*inputs, **kwargs)\n",
      "/Users/parhammotameni/opt/anaconda3/envs/meta/lib/python3.10/site-packages/pandas/core/arraylike.py:397: RuntimeWarning: divide by zero encountered in log\n",
      "  result = getattr(ufunc, method)(*inputs, **kwargs)\n"
     ]
    }
   ],
   "source": [
    "data_featurized, interpolated_ys, spectrum_parameters = load_spectrum_param_data_mat(matlab_data_path, my_x, scaling_factors)  "
   ]
  }
 ],
 "metadata": {
  "interpreter": {
   "hash": "485173dc6007364a767fea2aa764d7a47398ed8e8fea3d49f5ff95dec76d6a45"
  },
  "kernelspec": {
   "display_name": "Python 3.9.6 64-bit ('algo': conda)",
   "language": "python",
   "name": "python3"
  },
  "language_info": {
   "codemirror_mode": {
    "name": "ipython",
    "version": 3
   },
   "file_extension": ".py",
   "mimetype": "text/x-python",
   "name": "python",
   "nbconvert_exporter": "python",
   "pygments_lexer": "ipython3",
   "version": "3.10.4"
  },
  "orig_nbformat": 4
 },
 "nbformat": 4,
 "nbformat_minor": 2
}
